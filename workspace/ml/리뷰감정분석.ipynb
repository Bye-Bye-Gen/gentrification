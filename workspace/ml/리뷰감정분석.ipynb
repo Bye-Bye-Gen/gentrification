{
  "cells": [
    {
      "cell_type": "markdown",
      "metadata": {},
      "source": [
        "# 리뷰감정분석\n"
      ]
    },
    {
      "cell_type": "markdown",
      "metadata": {},
      "source": [
        "## 라이브러리 임포트\n"
      ]
    },
    {
      "cell_type": "code",
      "execution_count": 1,
      "metadata": {},
      "outputs": [],
      "source": [
        "import os\n",
        "import re\n",
        "import pickle\n",
        "import requests\n",
        "import warnings\n",
        "from tqdm import tqdm"
      ]
    },
    {
      "cell_type": "code",
      "execution_count": 2,
      "metadata": {},
      "outputs": [],
      "source": [
        "import numpy as np\n",
        "import matplotlib.pyplot as plt\n",
        "import pandas as pd\n",
        "import seaborn as sns\n",
        "from wordcloud import WordCloud"
      ]
    },
    {
      "cell_type": "code",
      "execution_count": 3,
      "metadata": {},
      "outputs": [],
      "source": [
        "from konlpy.tag import Okt\n",
        "from sklearn.feature_extraction.text import CountVectorizer\n",
        "from sklearn.feature_extraction.text import TfidfVectorizer\n",
        "from sklearn.linear_model import LogisticRegression"
      ]
    },
    {
      "cell_type": "code",
      "execution_count": 4,
      "metadata": {},
      "outputs": [
        {
          "name": "stdout",
          "output_type": "stream",
          "text": [
            "Font directories:\n",
            "\t/System/Library/Assets/com_apple_MobileAsset_Font3\n",
            "\t/System/Library/Assets/com_apple_MobileAsset_Font4\n",
            "\t/System/Library/Fonts\n",
            "\t/Library/Fonts\n",
            "\t/Users/registry/Library/Fonts\n",
            "\t/System/Library/AssetsV2/com_apple_MobileAsset_Font7\n",
            "\t/Users/registry/.local/share/fonts\n",
            "\t/usr/local/share/fonts\n",
            "\t/usr/share/fonts\n",
            "\t/Users/registry/.fonts\n",
            "\t/System/Library/Fonts/Supplemental\n",
            "\t/System/Library/AssetsV2/com_apple_MobileAsset_Font7/0818d874bf1d0e24a1fe62e79f407717792c5ee1.asset\n",
            "\t/System/Library/AssetsV2/com_apple_MobileAsset_Font7/0ab217c39c45c7c6acaddfa199fd32c55a7b4a19.asset\n",
            "\t/System/Library/AssetsV2/com_apple_MobileAsset_Font7/10b097deccb3c6126d986e24b1980031ff7399da.asset\n",
            "\t/System/Library/AssetsV2/com_apple_MobileAsset_Font7/12cc699be28fb04f3e3c4969a0378a87b920b174.asset\n",
            "\t/System/Library/AssetsV2/com_apple_MobileAsset_Font7/157acc4d862730d6d5beaa943546f80a71948c7b.asset\n",
            "\t/System/Library/AssetsV2/com_apple_MobileAsset_Font7/18189590ed3a5f46cef20ed4d1cec2611dca13ff.asset\n",
            "\t/System/Library/AssetsV2/com_apple_MobileAsset_Font7/1821952872c81043711aab6910052b65da8edf2c.asset\n",
            "\t/System/Library/AssetsV2/com_apple_MobileAsset_Font7/28f00a24ba19995bab7249993e6e35d11011074a.asset\n",
            "\t/System/Library/AssetsV2/com_apple_MobileAsset_Font7/2ae839cbaa0ff60fe6a1d8921a77c81adcec0646.asset\n",
            "\t/System/Library/AssetsV2/com_apple_MobileAsset_Font7/32d11e548996658757774d88f9220993653017ea.asset\n",
            "\t/System/Library/AssetsV2/com_apple_MobileAsset_Font7/3419f2a427639ad8c8e139149a287865a90fa17e.asset\n",
            "\t/System/Library/AssetsV2/com_apple_MobileAsset_Font7/3a9dbc8ddc8b85f43055a28fb5d551e905d43de2.asset\n",
            "\t/System/Library/AssetsV2/com_apple_MobileAsset_Font7/3d7c99b85a518ffb479044c11185e47744b6448d.asset\n",
            "\t/System/Library/AssetsV2/com_apple_MobileAsset_Font7/40e56e4eafd8b4db78ffe316f64ac4bedba37b53.asset\n",
            "\t/System/Library/AssetsV2/com_apple_MobileAsset_Font7/42062e40d643fdb5bb3fba917212352fb0690de0.asset\n",
            "\t/System/Library/AssetsV2/com_apple_MobileAsset_Font7/54a2ad3dac6cac875ad675d7d273dc425010a877.asset\n",
            "\t/System/Library/AssetsV2/com_apple_MobileAsset_Font7/54ef167d6c8e99a69a0d41ce252cc5995ba47580.asset\n",
            "\t/System/Library/AssetsV2/com_apple_MobileAsset_Font7/584ea2a48d14147049c2f9eaee147fe5a1f279ac.asset\n",
            "\t/System/Library/AssetsV2/com_apple_MobileAsset_Font7/5a3fc034b64879656271c040cab38b65d4ea6548.asset\n",
            "\t/System/Library/AssetsV2/com_apple_MobileAsset_Font7/5b2f5f0b003344b2c67ce463e76d2485bb43d054.asset\n",
            "\t/System/Library/AssetsV2/com_apple_MobileAsset_Font7/5b843781be7f58151ada774942a0eaa9ec79bd57.asset\n",
            "\t/System/Library/AssetsV2/com_apple_MobileAsset_Font7/5f2614e7b55639e709d8578e16b324b3eb6eb065.asset\n",
            "\t/System/Library/AssetsV2/com_apple_MobileAsset_Font7/62032b9b64a0e3a9121c50aeb2ed794e3e2c201f.asset\n",
            "\t/System/Library/AssetsV2/com_apple_MobileAsset_Font7/6f4c91728bb824d6960725ec479c355eab7eeba8.asset\n",
            "\t/System/Library/AssetsV2/com_apple_MobileAsset_Font7/70816a43827731d40efe234b94feba96db91024f.asset\n",
            "\t/System/Library/AssetsV2/com_apple_MobileAsset_Font7/7278ac2566252649b05c5a2b07c7d45be59f47c5.asset\n",
            "\t/System/Library/AssetsV2/com_apple_MobileAsset_Font7/7ca27bc02dd7660f9dacd69df96d24639b96e080.asset\n",
            "\t/System/Library/AssetsV2/com_apple_MobileAsset_Font7/857d6c90171c328a4892c1492291d34e401d7f25.asset\n",
            "\t/System/Library/AssetsV2/com_apple_MobileAsset_Font7/8739f5cf483d3b2f04cbb451d310b68f0cf880d0.asset\n",
            "\t/System/Library/AssetsV2/com_apple_MobileAsset_Font7/8dc7805506cc9f233dcc19aabf593196842a47ae.asset\n",
            "\t/System/Library/AssetsV2/com_apple_MobileAsset_Font7/938fc4f0524ec9f143f1b39a4e63ff9585298376.asset\n",
            "\t/System/Library/AssetsV2/com_apple_MobileAsset_Font7/96af7ec9e88d5dae450d3162213f92a7b1129430.asset\n",
            "\t/System/Library/AssetsV2/com_apple_MobileAsset_Font7/9bcdfd464af84ab30592d781f4a82f44f548239c.asset\n",
            "\t/System/Library/AssetsV2/com_apple_MobileAsset_Font7/9d5450ee93f17da1eacfa01b5e7b598f9e2dda2b.asset\n",
            "\t/System/Library/AssetsV2/com_apple_MobileAsset_Font7/9fdda46cbe802833590494a09b2787378340c597.asset\n",
            "\t/System/Library/AssetsV2/com_apple_MobileAsset_Font7/a3f9a9e35bdf3babe03b2fd162051306fad439d6.asset\n",
            "\t/System/Library/AssetsV2/com_apple_MobileAsset_Font7/aa99d0b2bad7f797f38b49d46cde28fd4b58876e.asset\n",
            "\t/System/Library/AssetsV2/com_apple_MobileAsset_Font7/ad8c3bb76851adc11dc4772c1a7a00caf83e3037.asset\n",
            "\t/System/Library/AssetsV2/com_apple_MobileAsset_Font7/b86e58f38fd21e9782e70a104676f1655e72ebab.asset\n",
            "\t/System/Library/AssetsV2/com_apple_MobileAsset_Font7/b8cf53b3591d6062cd536ba5129454cba899a078.asset\n",
            "\t/System/Library/AssetsV2/com_apple_MobileAsset_Font7/bad9b4bf17cf1669dde54184ba4431c22dcad27b.asset\n",
            "\t/System/Library/AssetsV2/com_apple_MobileAsset_Font7/c2cf5e684236b5395fd48d6ccf0e3b3191ce83a0.asset\n",
            "\t/System/Library/AssetsV2/com_apple_MobileAsset_Font7/cd59971ded42add9070aa2172265ba7fcf8d9327.asset\n",
            "\t/System/Library/AssetsV2/com_apple_MobileAsset_Font7/d7d512f49387f96799ae9271c7fa8f8e9fef05d1.asset\n",
            "\t/System/Library/AssetsV2/com_apple_MobileAsset_Font7/d9a8a6ae726910080d90232eaf0edb06da712758.asset\n",
            "\t/System/Library/AssetsV2/com_apple_MobileAsset_Font7/de4b2bad515a67ab2d11e39fd896b1e189252a43.asset\n",
            "\t/System/Library/AssetsV2/com_apple_MobileAsset_Font7/de97612eef4e3cf8ee8e5c0ebd6fd879bbecd23a.asset\n",
            "\t/System/Library/AssetsV2/com_apple_MobileAsset_Font7/e28431125242b9a298de3296370abdab4a7e8666.asset\n",
            "\t/System/Library/AssetsV2/com_apple_MobileAsset_Font7/e2c331b942cb338404a160a97a7cd6e8a31428e8.asset\n",
            "\t/System/Library/AssetsV2/com_apple_MobileAsset_Font7/e617c1b15920c6ee2d047ed8724de08521ce5c9a.asset\n",
            "\t/System/Library/AssetsV2/com_apple_MobileAsset_Font7/e71ea5469e5f2039223f22203ee8b9186524afd3.asset\n",
            "\t/System/Library/AssetsV2/com_apple_MobileAsset_Font7/e9a9a2d18358033875835a6228cb70ce84b7e47c.asset\n",
            "\t/System/Library/AssetsV2/com_apple_MobileAsset_Font7/eb257c12d1a51c8c661b89f30eec56cacf9b8987.asset\n",
            "\t/System/Library/AssetsV2/com_apple_MobileAsset_Font7/f0706a236683628e16427c6569e441423faaaa93.asset\n",
            "\t/System/Library/AssetsV2/com_apple_MobileAsset_Font7/f110a45f1759f86c645cfd2f47baba57aa50056e.asset\n",
            "\t/System/Library/AssetsV2/com_apple_MobileAsset_Font7/f7f6b250e97c182e68ac53a2b359ec44548878b9.asset\n",
            "\t/System/Library/AssetsV2/com_apple_MobileAsset_Font7/f879347736afb6e4e0880bcede9df92492c0f040.asset\n",
            "\t/System/Library/AssetsV2/com_apple_MobileAsset_Font7/0818d874bf1d0e24a1fe62e79f407717792c5ee1.asset/AssetData\n",
            "\t/System/Library/AssetsV2/com_apple_MobileAsset_Font7/0818d874bf1d0e24a1fe62e79f407717792c5ee1.asset/META-INF\n",
            "\t/System/Library/AssetsV2/com_apple_MobileAsset_Font7/0ab217c39c45c7c6acaddfa199fd32c55a7b4a19.asset/AssetData\n",
            "\t/System/Library/AssetsV2/com_apple_MobileAsset_Font7/0ab217c39c45c7c6acaddfa199fd32c55a7b4a19.asset/META-INF\n",
            "\t/System/Library/AssetsV2/com_apple_MobileAsset_Font7/10b097deccb3c6126d986e24b1980031ff7399da.asset/AssetData\n",
            "\t/System/Library/AssetsV2/com_apple_MobileAsset_Font7/10b097deccb3c6126d986e24b1980031ff7399da.asset/META-INF\n",
            "\t/System/Library/AssetsV2/com_apple_MobileAsset_Font7/12cc699be28fb04f3e3c4969a0378a87b920b174.asset/AssetData\n",
            "\t/System/Library/AssetsV2/com_apple_MobileAsset_Font7/12cc699be28fb04f3e3c4969a0378a87b920b174.asset/META-INF\n",
            "\t/System/Library/AssetsV2/com_apple_MobileAsset_Font7/157acc4d862730d6d5beaa943546f80a71948c7b.asset/AssetData\n",
            "\t/System/Library/AssetsV2/com_apple_MobileAsset_Font7/157acc4d862730d6d5beaa943546f80a71948c7b.asset/META-INF\n",
            "\t/System/Library/AssetsV2/com_apple_MobileAsset_Font7/18189590ed3a5f46cef20ed4d1cec2611dca13ff.asset/AssetData\n",
            "\t/System/Library/AssetsV2/com_apple_MobileAsset_Font7/18189590ed3a5f46cef20ed4d1cec2611dca13ff.asset/META-INF\n",
            "\t/System/Library/AssetsV2/com_apple_MobileAsset_Font7/1821952872c81043711aab6910052b65da8edf2c.asset/AssetData\n",
            "\t/System/Library/AssetsV2/com_apple_MobileAsset_Font7/1821952872c81043711aab6910052b65da8edf2c.asset/META-INF\n",
            "\t/System/Library/AssetsV2/com_apple_MobileAsset_Font7/28f00a24ba19995bab7249993e6e35d11011074a.asset/AssetData\n",
            "\t/System/Library/AssetsV2/com_apple_MobileAsset_Font7/28f00a24ba19995bab7249993e6e35d11011074a.asset/META-INF\n",
            "\t/System/Library/AssetsV2/com_apple_MobileAsset_Font7/2ae839cbaa0ff60fe6a1d8921a77c81adcec0646.asset/AssetData\n",
            "\t/System/Library/AssetsV2/com_apple_MobileAsset_Font7/2ae839cbaa0ff60fe6a1d8921a77c81adcec0646.asset/META-INF\n",
            "\t/System/Library/AssetsV2/com_apple_MobileAsset_Font7/32d11e548996658757774d88f9220993653017ea.asset/AssetData\n",
            "\t/System/Library/AssetsV2/com_apple_MobileAsset_Font7/32d11e548996658757774d88f9220993653017ea.asset/META-INF\n",
            "\t/System/Library/AssetsV2/com_apple_MobileAsset_Font7/3419f2a427639ad8c8e139149a287865a90fa17e.asset/AssetData\n",
            "\t/System/Library/AssetsV2/com_apple_MobileAsset_Font7/3419f2a427639ad8c8e139149a287865a90fa17e.asset/META-INF\n",
            "\t/System/Library/AssetsV2/com_apple_MobileAsset_Font7/3a9dbc8ddc8b85f43055a28fb5d551e905d43de2.asset/AssetData\n",
            "\t/System/Library/AssetsV2/com_apple_MobileAsset_Font7/3a9dbc8ddc8b85f43055a28fb5d551e905d43de2.asset/META-INF\n",
            "\t/System/Library/AssetsV2/com_apple_MobileAsset_Font7/3d7c99b85a518ffb479044c11185e47744b6448d.asset/AssetData\n",
            "\t/System/Library/AssetsV2/com_apple_MobileAsset_Font7/3d7c99b85a518ffb479044c11185e47744b6448d.asset/META-INF\n",
            "\t/System/Library/AssetsV2/com_apple_MobileAsset_Font7/40e56e4eafd8b4db78ffe316f64ac4bedba37b53.asset/AssetData\n",
            "\t/System/Library/AssetsV2/com_apple_MobileAsset_Font7/40e56e4eafd8b4db78ffe316f64ac4bedba37b53.asset/META-INF\n",
            "\t/System/Library/AssetsV2/com_apple_MobileAsset_Font7/42062e40d643fdb5bb3fba917212352fb0690de0.asset/AssetData\n",
            "\t/System/Library/AssetsV2/com_apple_MobileAsset_Font7/42062e40d643fdb5bb3fba917212352fb0690de0.asset/META-INF\n",
            "\t/System/Library/AssetsV2/com_apple_MobileAsset_Font7/54a2ad3dac6cac875ad675d7d273dc425010a877.asset/AssetData\n",
            "\t/System/Library/AssetsV2/com_apple_MobileAsset_Font7/54a2ad3dac6cac875ad675d7d273dc425010a877.asset/META-INF\n",
            "\t/System/Library/AssetsV2/com_apple_MobileAsset_Font7/54ef167d6c8e99a69a0d41ce252cc5995ba47580.asset/AssetData\n",
            "\t/System/Library/AssetsV2/com_apple_MobileAsset_Font7/54ef167d6c8e99a69a0d41ce252cc5995ba47580.asset/META-INF\n",
            "\t/System/Library/AssetsV2/com_apple_MobileAsset_Font7/584ea2a48d14147049c2f9eaee147fe5a1f279ac.asset/AssetData\n",
            "\t/System/Library/AssetsV2/com_apple_MobileAsset_Font7/584ea2a48d14147049c2f9eaee147fe5a1f279ac.asset/META-INF\n",
            "\t/System/Library/AssetsV2/com_apple_MobileAsset_Font7/5a3fc034b64879656271c040cab38b65d4ea6548.asset/AssetData\n",
            "\t/System/Library/AssetsV2/com_apple_MobileAsset_Font7/5a3fc034b64879656271c040cab38b65d4ea6548.asset/META-INF\n",
            "\t/System/Library/AssetsV2/com_apple_MobileAsset_Font7/5b2f5f0b003344b2c67ce463e76d2485bb43d054.asset/AssetData\n",
            "\t/System/Library/AssetsV2/com_apple_MobileAsset_Font7/5b2f5f0b003344b2c67ce463e76d2485bb43d054.asset/META-INF\n",
            "\t/System/Library/AssetsV2/com_apple_MobileAsset_Font7/5b843781be7f58151ada774942a0eaa9ec79bd57.asset/AssetData\n",
            "\t/System/Library/AssetsV2/com_apple_MobileAsset_Font7/5b843781be7f58151ada774942a0eaa9ec79bd57.asset/META-INF\n",
            "\t/System/Library/AssetsV2/com_apple_MobileAsset_Font7/5f2614e7b55639e709d8578e16b324b3eb6eb065.asset/AssetData\n",
            "\t/System/Library/AssetsV2/com_apple_MobileAsset_Font7/5f2614e7b55639e709d8578e16b324b3eb6eb065.asset/META-INF\n",
            "\t/System/Library/AssetsV2/com_apple_MobileAsset_Font7/62032b9b64a0e3a9121c50aeb2ed794e3e2c201f.asset/AssetData\n",
            "\t/System/Library/AssetsV2/com_apple_MobileAsset_Font7/62032b9b64a0e3a9121c50aeb2ed794e3e2c201f.asset/META-INF\n",
            "\t/System/Library/AssetsV2/com_apple_MobileAsset_Font7/6f4c91728bb824d6960725ec479c355eab7eeba8.asset/AssetData\n",
            "\t/System/Library/AssetsV2/com_apple_MobileAsset_Font7/6f4c91728bb824d6960725ec479c355eab7eeba8.asset/META-INF\n",
            "\t/System/Library/AssetsV2/com_apple_MobileAsset_Font7/70816a43827731d40efe234b94feba96db91024f.asset/AssetData\n",
            "\t/System/Library/AssetsV2/com_apple_MobileAsset_Font7/70816a43827731d40efe234b94feba96db91024f.asset/META-INF\n",
            "\t/System/Library/AssetsV2/com_apple_MobileAsset_Font7/7278ac2566252649b05c5a2b07c7d45be59f47c5.asset/AssetData\n",
            "\t/System/Library/AssetsV2/com_apple_MobileAsset_Font7/7278ac2566252649b05c5a2b07c7d45be59f47c5.asset/META-INF\n",
            "\t/System/Library/AssetsV2/com_apple_MobileAsset_Font7/7ca27bc02dd7660f9dacd69df96d24639b96e080.asset/AssetData\n",
            "\t/System/Library/AssetsV2/com_apple_MobileAsset_Font7/7ca27bc02dd7660f9dacd69df96d24639b96e080.asset/META-INF\n",
            "\t/System/Library/AssetsV2/com_apple_MobileAsset_Font7/857d6c90171c328a4892c1492291d34e401d7f25.asset/AssetData\n",
            "\t/System/Library/AssetsV2/com_apple_MobileAsset_Font7/857d6c90171c328a4892c1492291d34e401d7f25.asset/META-INF\n",
            "\t/System/Library/AssetsV2/com_apple_MobileAsset_Font7/8739f5cf483d3b2f04cbb451d310b68f0cf880d0.asset/AssetData\n",
            "\t/System/Library/AssetsV2/com_apple_MobileAsset_Font7/8739f5cf483d3b2f04cbb451d310b68f0cf880d0.asset/META-INF\n",
            "\t/System/Library/AssetsV2/com_apple_MobileAsset_Font7/8dc7805506cc9f233dcc19aabf593196842a47ae.asset/AssetData\n",
            "\t/System/Library/AssetsV2/com_apple_MobileAsset_Font7/8dc7805506cc9f233dcc19aabf593196842a47ae.asset/META-INF\n",
            "\t/System/Library/AssetsV2/com_apple_MobileAsset_Font7/938fc4f0524ec9f143f1b39a4e63ff9585298376.asset/AssetData\n",
            "\t/System/Library/AssetsV2/com_apple_MobileAsset_Font7/938fc4f0524ec9f143f1b39a4e63ff9585298376.asset/META-INF\n",
            "\t/System/Library/AssetsV2/com_apple_MobileAsset_Font7/96af7ec9e88d5dae450d3162213f92a7b1129430.asset/AssetData\n",
            "\t/System/Library/AssetsV2/com_apple_MobileAsset_Font7/96af7ec9e88d5dae450d3162213f92a7b1129430.asset/META-INF\n",
            "\t/System/Library/AssetsV2/com_apple_MobileAsset_Font7/9bcdfd464af84ab30592d781f4a82f44f548239c.asset/AssetData\n",
            "\t/System/Library/AssetsV2/com_apple_MobileAsset_Font7/9bcdfd464af84ab30592d781f4a82f44f548239c.asset/META-INF\n",
            "\t/System/Library/AssetsV2/com_apple_MobileAsset_Font7/9d5450ee93f17da1eacfa01b5e7b598f9e2dda2b.asset/AssetData\n",
            "\t/System/Library/AssetsV2/com_apple_MobileAsset_Font7/9d5450ee93f17da1eacfa01b5e7b598f9e2dda2b.asset/META-INF\n",
            "\t/System/Library/AssetsV2/com_apple_MobileAsset_Font7/9fdda46cbe802833590494a09b2787378340c597.asset/AssetData\n",
            "\t/System/Library/AssetsV2/com_apple_MobileAsset_Font7/9fdda46cbe802833590494a09b2787378340c597.asset/META-INF\n",
            "\t/System/Library/AssetsV2/com_apple_MobileAsset_Font7/a3f9a9e35bdf3babe03b2fd162051306fad439d6.asset/AssetData\n",
            "\t/System/Library/AssetsV2/com_apple_MobileAsset_Font7/a3f9a9e35bdf3babe03b2fd162051306fad439d6.asset/META-INF\n",
            "\t/System/Library/AssetsV2/com_apple_MobileAsset_Font7/aa99d0b2bad7f797f38b49d46cde28fd4b58876e.asset/AssetData\n",
            "\t/System/Library/AssetsV2/com_apple_MobileAsset_Font7/aa99d0b2bad7f797f38b49d46cde28fd4b58876e.asset/META-INF\n",
            "\t/System/Library/AssetsV2/com_apple_MobileAsset_Font7/ad8c3bb76851adc11dc4772c1a7a00caf83e3037.asset/AssetData\n",
            "\t/System/Library/AssetsV2/com_apple_MobileAsset_Font7/ad8c3bb76851adc11dc4772c1a7a00caf83e3037.asset/META-INF\n",
            "\t/System/Library/AssetsV2/com_apple_MobileAsset_Font7/b86e58f38fd21e9782e70a104676f1655e72ebab.asset/AssetData\n",
            "\t/System/Library/AssetsV2/com_apple_MobileAsset_Font7/b86e58f38fd21e9782e70a104676f1655e72ebab.asset/META-INF\n",
            "\t/System/Library/AssetsV2/com_apple_MobileAsset_Font7/b8cf53b3591d6062cd536ba5129454cba899a078.asset/AssetData\n",
            "\t/System/Library/AssetsV2/com_apple_MobileAsset_Font7/b8cf53b3591d6062cd536ba5129454cba899a078.asset/META-INF\n",
            "\t/System/Library/AssetsV2/com_apple_MobileAsset_Font7/bad9b4bf17cf1669dde54184ba4431c22dcad27b.asset/AssetData\n",
            "\t/System/Library/AssetsV2/com_apple_MobileAsset_Font7/bad9b4bf17cf1669dde54184ba4431c22dcad27b.asset/META-INF\n",
            "\t/System/Library/AssetsV2/com_apple_MobileAsset_Font7/c2cf5e684236b5395fd48d6ccf0e3b3191ce83a0.asset/AssetData\n",
            "\t/System/Library/AssetsV2/com_apple_MobileAsset_Font7/c2cf5e684236b5395fd48d6ccf0e3b3191ce83a0.asset/META-INF\n",
            "\t/System/Library/AssetsV2/com_apple_MobileAsset_Font7/cd59971ded42add9070aa2172265ba7fcf8d9327.asset/AssetData\n",
            "\t/System/Library/AssetsV2/com_apple_MobileAsset_Font7/cd59971ded42add9070aa2172265ba7fcf8d9327.asset/META-INF\n",
            "\t/System/Library/AssetsV2/com_apple_MobileAsset_Font7/d7d512f49387f96799ae9271c7fa8f8e9fef05d1.asset/AssetData\n",
            "\t/System/Library/AssetsV2/com_apple_MobileAsset_Font7/d7d512f49387f96799ae9271c7fa8f8e9fef05d1.asset/META-INF\n",
            "\t/System/Library/AssetsV2/com_apple_MobileAsset_Font7/d9a8a6ae726910080d90232eaf0edb06da712758.asset/AssetData\n",
            "\t/System/Library/AssetsV2/com_apple_MobileAsset_Font7/d9a8a6ae726910080d90232eaf0edb06da712758.asset/META-INF\n",
            "\t/System/Library/AssetsV2/com_apple_MobileAsset_Font7/de4b2bad515a67ab2d11e39fd896b1e189252a43.asset/AssetData\n",
            "\t/System/Library/AssetsV2/com_apple_MobileAsset_Font7/de4b2bad515a67ab2d11e39fd896b1e189252a43.asset/META-INF\n",
            "\t/System/Library/AssetsV2/com_apple_MobileAsset_Font7/de97612eef4e3cf8ee8e5c0ebd6fd879bbecd23a.asset/AssetData\n",
            "\t/System/Library/AssetsV2/com_apple_MobileAsset_Font7/de97612eef4e3cf8ee8e5c0ebd6fd879bbecd23a.asset/META-INF\n",
            "\t/System/Library/AssetsV2/com_apple_MobileAsset_Font7/e28431125242b9a298de3296370abdab4a7e8666.asset/AssetData\n",
            "\t/System/Library/AssetsV2/com_apple_MobileAsset_Font7/e28431125242b9a298de3296370abdab4a7e8666.asset/META-INF\n",
            "\t/System/Library/AssetsV2/com_apple_MobileAsset_Font7/e2c331b942cb338404a160a97a7cd6e8a31428e8.asset/AssetData\n",
            "\t/System/Library/AssetsV2/com_apple_MobileAsset_Font7/e2c331b942cb338404a160a97a7cd6e8a31428e8.asset/META-INF\n",
            "\t/System/Library/AssetsV2/com_apple_MobileAsset_Font7/e617c1b15920c6ee2d047ed8724de08521ce5c9a.asset/AssetData\n",
            "\t/System/Library/AssetsV2/com_apple_MobileAsset_Font7/e617c1b15920c6ee2d047ed8724de08521ce5c9a.asset/META-INF\n",
            "\t/System/Library/AssetsV2/com_apple_MobileAsset_Font7/e71ea5469e5f2039223f22203ee8b9186524afd3.asset/AssetData\n",
            "\t/System/Library/AssetsV2/com_apple_MobileAsset_Font7/e71ea5469e5f2039223f22203ee8b9186524afd3.asset/META-INF\n",
            "\t/System/Library/AssetsV2/com_apple_MobileAsset_Font7/e9a9a2d18358033875835a6228cb70ce84b7e47c.asset/AssetData\n",
            "\t/System/Library/AssetsV2/com_apple_MobileAsset_Font7/e9a9a2d18358033875835a6228cb70ce84b7e47c.asset/META-INF\n",
            "\t/System/Library/AssetsV2/com_apple_MobileAsset_Font7/eb257c12d1a51c8c661b89f30eec56cacf9b8987.asset/AssetData\n",
            "\t/System/Library/AssetsV2/com_apple_MobileAsset_Font7/eb257c12d1a51c8c661b89f30eec56cacf9b8987.asset/META-INF\n",
            "\t/System/Library/AssetsV2/com_apple_MobileAsset_Font7/f0706a236683628e16427c6569e441423faaaa93.asset/AssetData\n",
            "\t/System/Library/AssetsV2/com_apple_MobileAsset_Font7/f0706a236683628e16427c6569e441423faaaa93.asset/META-INF\n",
            "\t/System/Library/AssetsV2/com_apple_MobileAsset_Font7/f110a45f1759f86c645cfd2f47baba57aa50056e.asset/AssetData\n",
            "\t/System/Library/AssetsV2/com_apple_MobileAsset_Font7/f110a45f1759f86c645cfd2f47baba57aa50056e.asset/META-INF\n",
            "\t/System/Library/AssetsV2/com_apple_MobileAsset_Font7/f7f6b250e97c182e68ac53a2b359ec44548878b9.asset/AssetData\n",
            "\t/System/Library/AssetsV2/com_apple_MobileAsset_Font7/f7f6b250e97c182e68ac53a2b359ec44548878b9.asset/META-INF\n",
            "\t/System/Library/AssetsV2/com_apple_MobileAsset_Font7/f879347736afb6e4e0880bcede9df92492c0f040.asset/AssetData\n",
            "\t/System/Library/AssetsV2/com_apple_MobileAsset_Font7/f879347736afb6e4e0880bcede9df92492c0f040.asset/META-INF\n",
            "/System/Library/Assets/com_apple_MobileAsset_Font3: skipping, no such directory\n",
            "/System/Library/Assets/com_apple_MobileAsset_Font4: skipping, no such directory\n",
            "/System/Library/Fonts: caching, new cache contents: 1355 fonts, 1 dirs\n",
            "/System/Library/Fonts/Supplemental: caching, new cache contents: 507 fonts, 0 dirs\n",
            "/Library/Fonts: caching, new cache contents: 1 fonts, 0 dirs\n",
            "/Users/registry/Library/Fonts: caching, new cache contents: 113 fonts, 0 dirs\n",
            "/System/Library/AssetsV2/com_apple_MobileAsset_Font7: caching, new cache contents: 0 fonts, 57 dirs\n",
            "/System/Library/AssetsV2/com_apple_MobileAsset_Font7/0818d874bf1d0e24a1fe62e79f407717792c5ee1.asset: caching, new cache contents: 0 fonts, 2 dirs\n",
            "/System/Library/AssetsV2/com_apple_MobileAsset_Font7/0818d874bf1d0e24a1fe62e79f407717792c5ee1.asset/AssetData: caching, new cache contents: 1 fonts, 0 dirs\n",
            "/System/Library/AssetsV2/com_apple_MobileAsset_Font7/0818d874bf1d0e24a1fe62e79f407717792c5ee1.asset/META-INF: caching, new cache contents: 0 fonts, 0 dirs\n",
            "/System/Library/AssetsV2/com_apple_MobileAsset_Font7/0ab217c39c45c7c6acaddfa199fd32c55a7b4a19.asset: caching, new cache contents: 0 fonts, 2 dirs\n",
            "/System/Library/AssetsV2/com_apple_MobileAsset_Font7/0ab217c39c45c7c6acaddfa199fd32c55a7b4a19.asset/AssetData: caching, new cache contents: 2 fonts, 0 dirs\n",
            "/System/Library/AssetsV2/com_apple_MobileAsset_Font7/0ab217c39c45c7c6acaddfa199fd32c55a7b4a19.asset/META-INF: caching, new cache contents: 0 fonts, 0 dirs\n",
            "/System/Library/AssetsV2/com_apple_MobileAsset_Font7/10b097deccb3c6126d986e24b1980031ff7399da.asset: caching, new cache contents: 0 fonts, 2 dirs\n",
            "/System/Library/AssetsV2/com_apple_MobileAsset_Font7/10b097deccb3c6126d986e24b1980031ff7399da.asset/AssetData: caching, new cache contents: 2 fonts, 0 dirs\n",
            "/System/Library/AssetsV2/com_apple_MobileAsset_Font7/10b097deccb3c6126d986e24b1980031ff7399da.asset/META-INF: caching, new cache contents: 0 fonts, 0 dirs\n",
            "/System/Library/AssetsV2/com_apple_MobileAsset_Font7/12cc699be28fb04f3e3c4969a0378a87b920b174.asset: caching, new cache contents: 0 fonts, 2 dirs\n",
            "/System/Library/AssetsV2/com_apple_MobileAsset_Font7/12cc699be28fb04f3e3c4969a0378a87b920b174.asset/AssetData: caching, new cache contents: 1 fonts, 0 dirs\n",
            "/System/Library/AssetsV2/com_apple_MobileAsset_Font7/12cc699be28fb04f3e3c4969a0378a87b920b174.asset/META-INF: caching, new cache contents: 0 fonts, 0 dirs\n",
            "/System/Library/AssetsV2/com_apple_MobileAsset_Font7/157acc4d862730d6d5beaa943546f80a71948c7b.asset: caching, new cache contents: 0 fonts, 2 dirs\n",
            "/System/Library/AssetsV2/com_apple_MobileAsset_Font7/157acc4d862730d6d5beaa943546f80a71948c7b.asset/AssetData: caching, new cache contents: 1 fonts, 0 dirs\n",
            "/System/Library/AssetsV2/com_apple_MobileAsset_Font7/157acc4d862730d6d5beaa943546f80a71948c7b.asset/META-INF: caching, new cache contents: 0 fonts, 0 dirs\n",
            "/System/Library/AssetsV2/com_apple_MobileAsset_Font7/18189590ed3a5f46cef20ed4d1cec2611dca13ff.asset: caching, new cache contents: 0 fonts, 2 dirs\n",
            "/System/Library/AssetsV2/com_apple_MobileAsset_Font7/18189590ed3a5f46cef20ed4d1cec2611dca13ff.asset/AssetData: caching, new cache contents: 1 fonts, 0 dirs\n",
            "/System/Library/AssetsV2/com_apple_MobileAsset_Font7/18189590ed3a5f46cef20ed4d1cec2611dca13ff.asset/META-INF: caching, new cache contents: 0 fonts, 0 dirs\n",
            "/System/Library/AssetsV2/com_apple_MobileAsset_Font7/1821952872c81043711aab6910052b65da8edf2c.asset: caching, new cache contents: 0 fonts, 2 dirs\n",
            "/System/Library/AssetsV2/com_apple_MobileAsset_Font7/1821952872c81043711aab6910052b65da8edf2c.asset/AssetData: caching, new cache contents: 1 fonts, 0 dirs\n",
            "/System/Library/AssetsV2/com_apple_MobileAsset_Font7/1821952872c81043711aab6910052b65da8edf2c.asset/META-INF: caching, new cache contents: 0 fonts, 0 dirs\n",
            "/System/Library/AssetsV2/com_apple_MobileAsset_Font7/28f00a24ba19995bab7249993e6e35d11011074a.asset: caching, new cache contents: 0 fonts, 2 dirs\n",
            "/System/Library/AssetsV2/com_apple_MobileAsset_Font7/28f00a24ba19995bab7249993e6e35d11011074a.asset/AssetData: caching, new cache contents: 1 fonts, 0 dirs\n",
            "/System/Library/AssetsV2/com_apple_MobileAsset_Font7/28f00a24ba19995bab7249993e6e35d11011074a.asset/META-INF: caching, new cache contents: 0 fonts, 0 dirs\n",
            "/System/Library/AssetsV2/com_apple_MobileAsset_Font7/2ae839cbaa0ff60fe6a1d8921a77c81adcec0646.asset: caching, new cache contents: 0 fonts, 2 dirs\n",
            "/System/Library/AssetsV2/com_apple_MobileAsset_Font7/2ae839cbaa0ff60fe6a1d8921a77c81adcec0646.asset/AssetData: caching, new cache contents: 1 fonts, 0 dirs\n",
            "/System/Library/AssetsV2/com_apple_MobileAsset_Font7/2ae839cbaa0ff60fe6a1d8921a77c81adcec0646.asset/META-INF: caching, new cache contents: 0 fonts, 0 dirs\n",
            "/System/Library/AssetsV2/com_apple_MobileAsset_Font7/32d11e548996658757774d88f9220993653017ea.asset: caching, new cache contents: 0 fonts, 2 dirs\n",
            "/System/Library/AssetsV2/com_apple_MobileAsset_Font7/32d11e548996658757774d88f9220993653017ea.asset/AssetData: caching, new cache contents: 2 fonts, 0 dirs\n",
            "/System/Library/AssetsV2/com_apple_MobileAsset_Font7/32d11e548996658757774d88f9220993653017ea.asset/META-INF: caching, new cache contents: 0 fonts, 0 dirs\n",
            "/System/Library/AssetsV2/com_apple_MobileAsset_Font7/3419f2a427639ad8c8e139149a287865a90fa17e.asset: caching, new cache contents: 0 fonts, 2 dirs\n",
            "/System/Library/AssetsV2/com_apple_MobileAsset_Font7/3419f2a427639ad8c8e139149a287865a90fa17e.asset/AssetData: caching, new cache contents: 24 fonts, 0 dirs\n",
            "/System/Library/AssetsV2/com_apple_MobileAsset_Font7/3419f2a427639ad8c8e139149a287865a90fa17e.asset/META-INF: caching, new cache contents: 0 fonts, 0 dirs\n",
            "/System/Library/AssetsV2/com_apple_MobileAsset_Font7/3a9dbc8ddc8b85f43055a28fb5d551e905d43de2.asset: caching, new cache contents: 0 fonts, 2 dirs\n",
            "/System/Library/AssetsV2/com_apple_MobileAsset_Font7/3a9dbc8ddc8b85f43055a28fb5d551e905d43de2.asset/AssetData: caching, new cache contents: 1 fonts, 0 dirs\n",
            "/System/Library/AssetsV2/com_apple_MobileAsset_Font7/3a9dbc8ddc8b85f43055a28fb5d551e905d43de2.asset/META-INF: caching, new cache contents: 0 fonts, 0 dirs\n",
            "/System/Library/AssetsV2/com_apple_MobileAsset_Font7/3d7c99b85a518ffb479044c11185e47744b6448d.asset: caching, new cache contents: 0 fonts, 2 dirs\n",
            "/System/Library/AssetsV2/com_apple_MobileAsset_Font7/3d7c99b85a518ffb479044c11185e47744b6448d.asset/AssetData: caching, new cache contents: 1 fonts, 0 dirs\n",
            "/System/Library/AssetsV2/com_apple_MobileAsset_Font7/3d7c99b85a518ffb479044c11185e47744b6448d.asset/META-INF: caching, new cache contents: 0 fonts, 0 dirs\n",
            "/System/Library/AssetsV2/com_apple_MobileAsset_Font7/40e56e4eafd8b4db78ffe316f64ac4bedba37b53.asset: caching, new cache contents: 0 fonts, 2 dirs\n",
            "/System/Library/AssetsV2/com_apple_MobileAsset_Font7/40e56e4eafd8b4db78ffe316f64ac4bedba37b53.asset/AssetData: caching, new cache contents: 1 fonts, 0 dirs\n",
            "/System/Library/AssetsV2/com_apple_MobileAsset_Font7/40e56e4eafd8b4db78ffe316f64ac4bedba37b53.asset/META-INF: caching, new cache contents: 0 fonts, 0 dirs\n",
            "/System/Library/AssetsV2/com_apple_MobileAsset_Font7/42062e40d643fdb5bb3fba917212352fb0690de0.asset: caching, new cache contents: 0 fonts, 2 dirs\n",
            "/System/Library/AssetsV2/com_apple_MobileAsset_Font7/42062e40d643fdb5bb3fba917212352fb0690de0.asset/AssetData: caching, new cache contents: 1 fonts, 0 dirs\n",
            "/System/Library/AssetsV2/com_apple_MobileAsset_Font7/42062e40d643fdb5bb3fba917212352fb0690de0.asset/META-INF: caching, new cache contents: 0 fonts, 0 dirs\n",
            "/System/Library/AssetsV2/com_apple_MobileAsset_Font7/54a2ad3dac6cac875ad675d7d273dc425010a877.asset: caching, new cache contents: 0 fonts, 2 dirs\n",
            "/System/Library/AssetsV2/com_apple_MobileAsset_Font7/54a2ad3dac6cac875ad675d7d273dc425010a877.asset/AssetData: caching, new cache contents: 7 fonts, 0 dirs\n",
            "/System/Library/AssetsV2/com_apple_MobileAsset_Font7/54a2ad3dac6cac875ad675d7d273dc425010a877.asset/META-INF: caching, new cache contents: 0 fonts, 0 dirs\n",
            "/System/Library/AssetsV2/com_apple_MobileAsset_Font7/54ef167d6c8e99a69a0d41ce252cc5995ba47580.asset: caching, new cache contents: 0 fonts, 2 dirs\n",
            "/System/Library/AssetsV2/com_apple_MobileAsset_Font7/54ef167d6c8e99a69a0d41ce252cc5995ba47580.asset/AssetData: caching, new cache contents: 1 fonts, 0 dirs\n",
            "/System/Library/AssetsV2/com_apple_MobileAsset_Font7/54ef167d6c8e99a69a0d41ce252cc5995ba47580.asset/META-INF: caching, new cache contents: 0 fonts, 0 dirs\n",
            "/System/Library/AssetsV2/com_apple_MobileAsset_Font7/584ea2a48d14147049c2f9eaee147fe5a1f279ac.asset: caching, new cache contents: 0 fonts, 2 dirs\n",
            "/System/Library/AssetsV2/com_apple_MobileAsset_Font7/584ea2a48d14147049c2f9eaee147fe5a1f279ac.asset/AssetData: caching, new cache contents: 2 fonts, 0 dirs\n",
            "/System/Library/AssetsV2/com_apple_MobileAsset_Font7/584ea2a48d14147049c2f9eaee147fe5a1f279ac.asset/META-INF: caching, new cache contents: 0 fonts, 0 dirs\n",
            "/System/Library/AssetsV2/com_apple_MobileAsset_Font7/5a3fc034b64879656271c040cab38b65d4ea6548.asset: caching, new cache contents: 0 fonts, 2 dirs\n",
            "/System/Library/AssetsV2/com_apple_MobileAsset_Font7/5a3fc034b64879656271c040cab38b65d4ea6548.asset/AssetData: caching, new cache contents: 1 fonts, 0 dirs\n",
            "/System/Library/AssetsV2/com_apple_MobileAsset_Font7/5a3fc034b64879656271c040cab38b65d4ea6548.asset/META-INF: caching, new cache contents: 0 fonts, 0 dirs\n",
            "/System/Library/AssetsV2/com_apple_MobileAsset_Font7/5b2f5f0b003344b2c67ce463e76d2485bb43d054.asset: caching, new cache contents: 0 fonts, 2 dirs\n",
            "/System/Library/AssetsV2/com_apple_MobileAsset_Font7/5b2f5f0b003344b2c67ce463e76d2485bb43d054.asset/AssetData: caching, new cache contents: 1 fonts, 0 dirs\n",
            "/System/Library/AssetsV2/com_apple_MobileAsset_Font7/5b2f5f0b003344b2c67ce463e76d2485bb43d054.asset/META-INF: caching, new cache contents: 0 fonts, 0 dirs\n",
            "/System/Library/AssetsV2/com_apple_MobileAsset_Font7/5b843781be7f58151ada774942a0eaa9ec79bd57.asset: caching, new cache contents: 0 fonts, 2 dirs\n",
            "/System/Library/AssetsV2/com_apple_MobileAsset_Font7/5b843781be7f58151ada774942a0eaa9ec79bd57.asset/AssetData: caching, new cache contents: 4 fonts, 0 dirs\n",
            "/System/Library/AssetsV2/com_apple_MobileAsset_Font7/5b843781be7f58151ada774942a0eaa9ec79bd57.asset/META-INF: caching, new cache contents: 0 fonts, 0 dirs\n",
            "/System/Library/AssetsV2/com_apple_MobileAsset_Font7/5f2614e7b55639e709d8578e16b324b3eb6eb065.asset: caching, new cache contents: 0 fonts, 2 dirs\n",
            "/System/Library/AssetsV2/com_apple_MobileAsset_Font7/5f2614e7b55639e709d8578e16b324b3eb6eb065.asset/AssetData: caching, new cache contents: 1 fonts, 0 dirs\n",
            "/System/Library/AssetsV2/com_apple_MobileAsset_Font7/5f2614e7b55639e709d8578e16b324b3eb6eb065.asset/META-INF: caching, new cache contents: 0 fonts, 0 dirs\n",
            "/System/Library/AssetsV2/com_apple_MobileAsset_Font7/62032b9b64a0e3a9121c50aeb2ed794e3e2c201f.asset: caching, new cache contents: 0 fonts, 2 dirs\n",
            "/System/Library/AssetsV2/com_apple_MobileAsset_Font7/62032b9b64a0e3a9121c50aeb2ed794e3e2c201f.asset/AssetData: caching, new cache contents: 1 fonts, 0 dirs\n",
            "/System/Library/AssetsV2/com_apple_MobileAsset_Font7/62032b9b64a0e3a9121c50aeb2ed794e3e2c201f.asset/META-INF: caching, new cache contents: 0 fonts, 0 dirs\n",
            "/System/Library/AssetsV2/com_apple_MobileAsset_Font7/6f4c91728bb824d6960725ec479c355eab7eeba8.asset: caching, new cache contents: 0 fonts, 2 dirs\n",
            "/System/Library/AssetsV2/com_apple_MobileAsset_Font7/6f4c91728bb824d6960725ec479c355eab7eeba8.asset/AssetData: caching, new cache contents: 2 fonts, 0 dirs\n",
            "/System/Library/AssetsV2/com_apple_MobileAsset_Font7/6f4c91728bb824d6960725ec479c355eab7eeba8.asset/META-INF: caching, new cache contents: 0 fonts, 0 dirs\n",
            "/System/Library/AssetsV2/com_apple_MobileAsset_Font7/70816a43827731d40efe234b94feba96db91024f.asset: caching, new cache contents: 0 fonts, 2 dirs\n",
            "/System/Library/AssetsV2/com_apple_MobileAsset_Font7/70816a43827731d40efe234b94feba96db91024f.asset/AssetData: caching, new cache contents: 3 fonts, 0 dirs\n",
            "/System/Library/AssetsV2/com_apple_MobileAsset_Font7/70816a43827731d40efe234b94feba96db91024f.asset/META-INF: caching, new cache contents: 0 fonts, 0 dirs\n",
            "/System/Library/AssetsV2/com_apple_MobileAsset_Font7/7278ac2566252649b05c5a2b07c7d45be59f47c5.asset: caching, new cache contents: 0 fonts, 2 dirs\n",
            "/System/Library/AssetsV2/com_apple_MobileAsset_Font7/7278ac2566252649b05c5a2b07c7d45be59f47c5.asset/AssetData: caching, new cache contents: 2 fonts, 0 dirs\n",
            "/System/Library/AssetsV2/com_apple_MobileAsset_Font7/7278ac2566252649b05c5a2b07c7d45be59f47c5.asset/META-INF: caching, new cache contents: 0 fonts, 0 dirs\n",
            "/System/Library/AssetsV2/com_apple_MobileAsset_Font7/7ca27bc02dd7660f9dacd69df96d24639b96e080.asset: caching, new cache contents: 0 fonts, 2 dirs\n",
            "/System/Library/AssetsV2/com_apple_MobileAsset_Font7/7ca27bc02dd7660f9dacd69df96d24639b96e080.asset/AssetData: caching, new cache contents: 1 fonts, 0 dirs\n",
            "/System/Library/AssetsV2/com_apple_MobileAsset_Font7/7ca27bc02dd7660f9dacd69df96d24639b96e080.asset/META-INF: caching, new cache contents: 0 fonts, 0 dirs\n",
            "/System/Library/AssetsV2/com_apple_MobileAsset_Font7/857d6c90171c328a4892c1492291d34e401d7f25.asset: caching, new cache contents: 0 fonts, 2 dirs\n",
            "/System/Library/AssetsV2/com_apple_MobileAsset_Font7/857d6c90171c328a4892c1492291d34e401d7f25.asset/AssetData: caching, new cache contents: 2 fonts, 0 dirs\n",
            "/System/Library/AssetsV2/com_apple_MobileAsset_Font7/857d6c90171c328a4892c1492291d34e401d7f25.asset/META-INF: caching, new cache contents: 0 fonts, 0 dirs\n",
            "/System/Library/AssetsV2/com_apple_MobileAsset_Font7/8739f5cf483d3b2f04cbb451d310b68f0cf880d0.asset: caching, new cache contents: 0 fonts, 2 dirs\n",
            "/System/Library/AssetsV2/com_apple_MobileAsset_Font7/8739f5cf483d3b2f04cbb451d310b68f0cf880d0.asset/AssetData: caching, new cache contents: 1 fonts, 0 dirs\n",
            "/System/Library/AssetsV2/com_apple_MobileAsset_Font7/8739f5cf483d3b2f04cbb451d310b68f0cf880d0.asset/META-INF: caching, new cache contents: 0 fonts, 0 dirs\n",
            "/System/Library/AssetsV2/com_apple_MobileAsset_Font7/8dc7805506cc9f233dcc19aabf593196842a47ae.asset: caching, new cache contents: 0 fonts, 2 dirs\n",
            "/System/Library/AssetsV2/com_apple_MobileAsset_Font7/8dc7805506cc9f233dcc19aabf593196842a47ae.asset/AssetData: caching, new cache contents: 4 fonts, 0 dirs\n",
            "/System/Library/AssetsV2/com_apple_MobileAsset_Font7/8dc7805506cc9f233dcc19aabf593196842a47ae.asset/META-INF: caching, new cache contents: 0 fonts, 0 dirs\n",
            "/System/Library/AssetsV2/com_apple_MobileAsset_Font7/938fc4f0524ec9f143f1b39a4e63ff9585298376.asset: caching, new cache contents: 0 fonts, 2 dirs\n",
            "/System/Library/AssetsV2/com_apple_MobileAsset_Font7/938fc4f0524ec9f143f1b39a4e63ff9585298376.asset/AssetData: caching, new cache contents: 1 fonts, 0 dirs\n",
            "/System/Library/AssetsV2/com_apple_MobileAsset_Font7/938fc4f0524ec9f143f1b39a4e63ff9585298376.asset/META-INF: caching, new cache contents: 0 fonts, 0 dirs\n",
            "/System/Library/AssetsV2/com_apple_MobileAsset_Font7/96af7ec9e88d5dae450d3162213f92a7b1129430.asset: caching, new cache contents: 0 fonts, 2 dirs\n",
            "/System/Library/AssetsV2/com_apple_MobileAsset_Font7/96af7ec9e88d5dae450d3162213f92a7b1129430.asset/AssetData: caching, new cache contents: 1 fonts, 0 dirs\n",
            "/System/Library/AssetsV2/com_apple_MobileAsset_Font7/96af7ec9e88d5dae450d3162213f92a7b1129430.asset/META-INF: caching, new cache contents: 0 fonts, 0 dirs\n",
            "/System/Library/AssetsV2/com_apple_MobileAsset_Font7/9bcdfd464af84ab30592d781f4a82f44f548239c.asset: caching, new cache contents: 0 fonts, 2 dirs\n",
            "/System/Library/AssetsV2/com_apple_MobileAsset_Font7/9bcdfd464af84ab30592d781f4a82f44f548239c.asset/AssetData: caching, new cache contents: 1 fonts, 0 dirs\n",
            "/System/Library/AssetsV2/com_apple_MobileAsset_Font7/9bcdfd464af84ab30592d781f4a82f44f548239c.asset/META-INF: caching, new cache contents: 0 fonts, 0 dirs\n",
            "/System/Library/AssetsV2/com_apple_MobileAsset_Font7/9d5450ee93f17da1eacfa01b5e7b598f9e2dda2b.asset: caching, new cache contents: 0 fonts, 2 dirs\n",
            "/System/Library/AssetsV2/com_apple_MobileAsset_Font7/9d5450ee93f17da1eacfa01b5e7b598f9e2dda2b.asset/AssetData: caching, new cache contents: 2 fonts, 0 dirs\n",
            "/System/Library/AssetsV2/com_apple_MobileAsset_Font7/9d5450ee93f17da1eacfa01b5e7b598f9e2dda2b.asset/META-INF: caching, new cache contents: 0 fonts, 0 dirs\n",
            "/System/Library/AssetsV2/com_apple_MobileAsset_Font7/9fdda46cbe802833590494a09b2787378340c597.asset: caching, new cache contents: 0 fonts, 2 dirs\n",
            "/System/Library/AssetsV2/com_apple_MobileAsset_Font7/9fdda46cbe802833590494a09b2787378340c597.asset/AssetData: caching, new cache contents: 4 fonts, 0 dirs\n",
            "/System/Library/AssetsV2/com_apple_MobileAsset_Font7/9fdda46cbe802833590494a09b2787378340c597.asset/META-INF: caching, new cache contents: 0 fonts, 0 dirs\n",
            "/System/Library/AssetsV2/com_apple_MobileAsset_Font7/a3f9a9e35bdf3babe03b2fd162051306fad439d6.asset: caching, new cache contents: 0 fonts, 2 dirs\n",
            "/System/Library/AssetsV2/com_apple_MobileAsset_Font7/a3f9a9e35bdf3babe03b2fd162051306fad439d6.asset/AssetData: caching, new cache contents: 1 fonts, 0 dirs\n",
            "/System/Library/AssetsV2/com_apple_MobileAsset_Font7/a3f9a9e35bdf3babe03b2fd162051306fad439d6.asset/META-INF: caching, new cache contents: 0 fonts, 0 dirs\n",
            "/System/Library/AssetsV2/com_apple_MobileAsset_Font7/aa99d0b2bad7f797f38b49d46cde28fd4b58876e.asset: caching, new cache contents: 0 fonts, 2 dirs\n",
            "/System/Library/AssetsV2/com_apple_MobileAsset_Font7/aa99d0b2bad7f797f38b49d46cde28fd4b58876e.asset/AssetData: caching, new cache contents: 4 fonts, 0 dirs\n",
            "/System/Library/AssetsV2/com_apple_MobileAsset_Font7/aa99d0b2bad7f797f38b49d46cde28fd4b58876e.asset/META-INF: caching, new cache contents: 0 fonts, 0 dirs\n",
            "/System/Library/AssetsV2/com_apple_MobileAsset_Font7/ad8c3bb76851adc11dc4772c1a7a00caf83e3037.asset: caching, new cache contents: 0 fonts, 2 dirs\n",
            "/System/Library/AssetsV2/com_apple_MobileAsset_Font7/ad8c3bb76851adc11dc4772c1a7a00caf83e3037.asset/AssetData: caching, new cache contents: 8 fonts, 0 dirs\n",
            "/System/Library/AssetsV2/com_apple_MobileAsset_Font7/ad8c3bb76851adc11dc4772c1a7a00caf83e3037.asset/META-INF: caching, new cache contents: 0 fonts, 0 dirs\n",
            "/System/Library/AssetsV2/com_apple_MobileAsset_Font7/b86e58f38fd21e9782e70a104676f1655e72ebab.asset: caching, new cache contents: 0 fonts, 2 dirs\n",
            "/System/Library/AssetsV2/com_apple_MobileAsset_Font7/b86e58f38fd21e9782e70a104676f1655e72ebab.asset/AssetData: caching, new cache contents: 6 fonts, 0 dirs\n",
            "/System/Library/AssetsV2/com_apple_MobileAsset_Font7/b86e58f38fd21e9782e70a104676f1655e72ebab.asset/META-INF: caching, new cache contents: 0 fonts, 0 dirs\n",
            "/System/Library/AssetsV2/com_apple_MobileAsset_Font7/b8cf53b3591d6062cd536ba5129454cba899a078.asset: caching, new cache contents: 0 fonts, 2 dirs\n",
            "/System/Library/AssetsV2/com_apple_MobileAsset_Font7/b8cf53b3591d6062cd536ba5129454cba899a078.asset/AssetData: caching, new cache contents: 1 fonts, 0 dirs\n",
            "/System/Library/AssetsV2/com_apple_MobileAsset_Font7/b8cf53b3591d6062cd536ba5129454cba899a078.asset/META-INF: caching, new cache contents: 0 fonts, 0 dirs\n",
            "/System/Library/AssetsV2/com_apple_MobileAsset_Font7/bad9b4bf17cf1669dde54184ba4431c22dcad27b.asset: caching, new cache contents: 0 fonts, 2 dirs\n",
            "/System/Library/AssetsV2/com_apple_MobileAsset_Font7/bad9b4bf17cf1669dde54184ba4431c22dcad27b.asset/AssetData: caching, new cache contents: 3 fonts, 0 dirs\n",
            "/System/Library/AssetsV2/com_apple_MobileAsset_Font7/bad9b4bf17cf1669dde54184ba4431c22dcad27b.asset/META-INF: caching, new cache contents: 0 fonts, 0 dirs\n",
            "/System/Library/AssetsV2/com_apple_MobileAsset_Font7/c2cf5e684236b5395fd48d6ccf0e3b3191ce83a0.asset: caching, new cache contents: 0 fonts, 2 dirs\n",
            "/System/Library/AssetsV2/com_apple_MobileAsset_Font7/c2cf5e684236b5395fd48d6ccf0e3b3191ce83a0.asset/AssetData: caching, new cache contents: 1 fonts, 0 dirs\n",
            "/System/Library/AssetsV2/com_apple_MobileAsset_Font7/c2cf5e684236b5395fd48d6ccf0e3b3191ce83a0.asset/META-INF: caching, new cache contents: 0 fonts, 0 dirs\n",
            "/System/Library/AssetsV2/com_apple_MobileAsset_Font7/cd59971ded42add9070aa2172265ba7fcf8d9327.asset: caching, new cache contents: 0 fonts, 2 dirs\n",
            "/System/Library/AssetsV2/com_apple_MobileAsset_Font7/cd59971ded42add9070aa2172265ba7fcf8d9327.asset/AssetData: caching, new cache contents: 1 fonts, 0 dirs\n",
            "/System/Library/AssetsV2/com_apple_MobileAsset_Font7/cd59971ded42add9070aa2172265ba7fcf8d9327.asset/META-INF: caching, new cache contents: 0 fonts, 0 dirs\n",
            "/System/Library/AssetsV2/com_apple_MobileAsset_Font7/d7d512f49387f96799ae9271c7fa8f8e9fef05d1.asset: caching, new cache contents: 0 fonts, 2 dirs\n",
            "/System/Library/AssetsV2/com_apple_MobileAsset_Font7/d7d512f49387f96799ae9271c7fa8f8e9fef05d1.asset/AssetData: caching, new cache contents: 2 fonts, 0 dirs\n",
            "/System/Library/AssetsV2/com_apple_MobileAsset_Font7/d7d512f49387f96799ae9271c7fa8f8e9fef05d1.asset/META-INF: caching, new cache contents: 0 fonts, 0 dirs\n",
            "/System/Library/AssetsV2/com_apple_MobileAsset_Font7/d9a8a6ae726910080d90232eaf0edb06da712758.asset: caching, new cache contents: 0 fonts, 2 dirs\n",
            "/System/Library/AssetsV2/com_apple_MobileAsset_Font7/d9a8a6ae726910080d90232eaf0edb06da712758.asset/AssetData: caching, new cache contents: 2 fonts, 0 dirs\n",
            "/System/Library/AssetsV2/com_apple_MobileAsset_Font7/d9a8a6ae726910080d90232eaf0edb06da712758.asset/META-INF: caching, new cache contents: 0 fonts, 0 dirs\n",
            "/System/Library/AssetsV2/com_apple_MobileAsset_Font7/de4b2bad515a67ab2d11e39fd896b1e189252a43.asset: caching, new cache contents: 0 fonts, 2 dirs\n",
            "/System/Library/AssetsV2/com_apple_MobileAsset_Font7/de4b2bad515a67ab2d11e39fd896b1e189252a43.asset/AssetData: caching, new cache contents: 1 fonts, 0 dirs\n",
            "/System/Library/AssetsV2/com_apple_MobileAsset_Font7/de4b2bad515a67ab2d11e39fd896b1e189252a43.asset/META-INF: caching, new cache contents: 0 fonts, 0 dirs\n",
            "/System/Library/AssetsV2/com_apple_MobileAsset_Font7/de97612eef4e3cf8ee8e5c0ebd6fd879bbecd23a.asset: caching, new cache contents: 0 fonts, 2 dirs\n",
            "/System/Library/AssetsV2/com_apple_MobileAsset_Font7/de97612eef4e3cf8ee8e5c0ebd6fd879bbecd23a.asset/AssetData: caching, new cache contents: 1 fonts, 0 dirs\n",
            "/System/Library/AssetsV2/com_apple_MobileAsset_Font7/de97612eef4e3cf8ee8e5c0ebd6fd879bbecd23a.asset/META-INF: caching, new cache contents: 0 fonts, 0 dirs\n",
            "/System/Library/AssetsV2/com_apple_MobileAsset_Font7/e28431125242b9a298de3296370abdab4a7e8666.asset: caching, new cache contents: 0 fonts, 2 dirs\n",
            "/System/Library/AssetsV2/com_apple_MobileAsset_Font7/e28431125242b9a298de3296370abdab4a7e8666.asset/AssetData: caching, new cache contents: 1 fonts, 0 dirs\n",
            "/System/Library/AssetsV2/com_apple_MobileAsset_Font7/e28431125242b9a298de3296370abdab4a7e8666.asset/META-INF: caching, new cache contents: 0 fonts, 0 dirs\n",
            "/System/Library/AssetsV2/com_apple_MobileAsset_Font7/e2c331b942cb338404a160a97a7cd6e8a31428e8.asset: caching, new cache contents: 0 fonts, 2 dirs\n",
            "/System/Library/AssetsV2/com_apple_MobileAsset_Font7/e2c331b942cb338404a160a97a7cd6e8a31428e8.asset/AssetData: caching, new cache contents: 1 fonts, 0 dirs\n",
            "/System/Library/AssetsV2/com_apple_MobileAsset_Font7/e2c331b942cb338404a160a97a7cd6e8a31428e8.asset/META-INF: caching, new cache contents: 0 fonts, 0 dirs\n",
            "/System/Library/AssetsV2/com_apple_MobileAsset_Font7/e617c1b15920c6ee2d047ed8724de08521ce5c9a.asset: caching, new cache contents: 0 fonts, 2 dirs\n",
            "/System/Library/AssetsV2/com_apple_MobileAsset_Font7/e617c1b15920c6ee2d047ed8724de08521ce5c9a.asset/AssetData: caching, new cache contents: 1 fonts, 0 dirs\n",
            "/System/Library/AssetsV2/com_apple_MobileAsset_Font7/e617c1b15920c6ee2d047ed8724de08521ce5c9a.asset/META-INF: caching, new cache contents: 0 fonts, 0 dirs\n",
            "/System/Library/AssetsV2/com_apple_MobileAsset_Font7/e71ea5469e5f2039223f22203ee8b9186524afd3.asset: caching, new cache contents: 0 fonts, 2 dirs\n",
            "/System/Library/AssetsV2/com_apple_MobileAsset_Font7/e71ea5469e5f2039223f22203ee8b9186524afd3.asset/AssetData: caching, new cache contents: 1 fonts, 0 dirs\n",
            "/System/Library/AssetsV2/com_apple_MobileAsset_Font7/e71ea5469e5f2039223f22203ee8b9186524afd3.asset/META-INF: caching, new cache contents: 0 fonts, 0 dirs\n",
            "/System/Library/AssetsV2/com_apple_MobileAsset_Font7/e9a9a2d18358033875835a6228cb70ce84b7e47c.asset: caching, new cache contents: 0 fonts, 2 dirs\n",
            "/System/Library/AssetsV2/com_apple_MobileAsset_Font7/e9a9a2d18358033875835a6228cb70ce84b7e47c.asset/AssetData: caching, new cache contents: 6 fonts, 0 dirs\n",
            "/System/Library/AssetsV2/com_apple_MobileAsset_Font7/e9a9a2d18358033875835a6228cb70ce84b7e47c.asset/META-INF: caching, new cache contents: 0 fonts, 0 dirs\n",
            "/System/Library/AssetsV2/com_apple_MobileAsset_Font7/eb257c12d1a51c8c661b89f30eec56cacf9b8987.asset: caching, new cache contents: 0 fonts, 2 dirs\n",
            "/System/Library/AssetsV2/com_apple_MobileAsset_Font7/eb257c12d1a51c8c661b89f30eec56cacf9b8987.asset/AssetData: caching, new cache contents: 1 fonts, 0 dirs\n",
            "/System/Library/AssetsV2/com_apple_MobileAsset_Font7/eb257c12d1a51c8c661b89f30eec56cacf9b8987.asset/META-INF: caching, new cache contents: 0 fonts, 0 dirs\n",
            "/System/Library/AssetsV2/com_apple_MobileAsset_Font7/f0706a236683628e16427c6569e441423faaaa93.asset: caching, new cache contents: 0 fonts, 2 dirs\n",
            "/System/Library/AssetsV2/com_apple_MobileAsset_Font7/f0706a236683628e16427c6569e441423faaaa93.asset/AssetData: caching, new cache contents: 1 fonts, 0 dirs\n",
            "/System/Library/AssetsV2/com_apple_MobileAsset_Font7/f0706a236683628e16427c6569e441423faaaa93.asset/META-INF: caching, new cache contents: 0 fonts, 0 dirs\n",
            "/System/Library/AssetsV2/com_apple_MobileAsset_Font7/f110a45f1759f86c645cfd2f47baba57aa50056e.asset: caching, new cache contents: 0 fonts, 2 dirs\n",
            "/System/Library/AssetsV2/com_apple_MobileAsset_Font7/f110a45f1759f86c645cfd2f47baba57aa50056e.asset/AssetData: caching, new cache contents: 2 fonts, 0 dirs\n",
            "/System/Library/AssetsV2/com_apple_MobileAsset_Font7/f110a45f1759f86c645cfd2f47baba57aa50056e.asset/META-INF: caching, new cache contents: 0 fonts, 0 dirs\n",
            "/System/Library/AssetsV2/com_apple_MobileAsset_Font7/f7f6b250e97c182e68ac53a2b359ec44548878b9.asset: caching, new cache contents: 0 fonts, 2 dirs\n",
            "/System/Library/AssetsV2/com_apple_MobileAsset_Font7/f7f6b250e97c182e68ac53a2b359ec44548878b9.asset/AssetData: caching, new cache contents: 6 fonts, 0 dirs\n",
            "/System/Library/AssetsV2/com_apple_MobileAsset_Font7/f7f6b250e97c182e68ac53a2b359ec44548878b9.asset/META-INF: caching, new cache contents: 0 fonts, 0 dirs\n",
            "/System/Library/AssetsV2/com_apple_MobileAsset_Font7/f879347736afb6e4e0880bcede9df92492c0f040.asset: caching, new cache contents: 0 fonts, 2 dirs\n",
            "/System/Library/AssetsV2/com_apple_MobileAsset_Font7/f879347736afb6e4e0880bcede9df92492c0f040.asset/AssetData: caching, new cache contents: 1 fonts, 0 dirs\n",
            "/System/Library/AssetsV2/com_apple_MobileAsset_Font7/f879347736afb6e4e0880bcede9df92492c0f040.asset/META-INF: caching, new cache contents: 0 fonts, 0 dirs\n",
            "/Users/registry/.local/share/fonts: skipping, no such directory\n",
            "/usr/local/share/fonts: skipping, no such directory\n",
            "/usr/share/fonts: skipping, no such directory\n",
            "/Users/registry/.fonts: skipping, no such directory\n",
            "/System/Library/Fonts/Supplemental: skipping, looped directory detected\n",
            "/System/Library/AssetsV2/com_apple_MobileAsset_Font7/0818d874bf1d0e24a1fe62e79f407717792c5ee1.asset: skipping, looped directory detected\n",
            "/System/Library/AssetsV2/com_apple_MobileAsset_Font7/0ab217c39c45c7c6acaddfa199fd32c55a7b4a19.asset: skipping, looped directory detected\n",
            "/System/Library/AssetsV2/com_apple_MobileAsset_Font7/10b097deccb3c6126d986e24b1980031ff7399da.asset: skipping, looped directory detected\n",
            "/System/Library/AssetsV2/com_apple_MobileAsset_Font7/12cc699be28fb04f3e3c4969a0378a87b920b174.asset: skipping, looped directory detected\n",
            "/System/Library/AssetsV2/com_apple_MobileAsset_Font7/157acc4d862730d6d5beaa943546f80a71948c7b.asset: skipping, looped directory detected\n",
            "/System/Library/AssetsV2/com_apple_MobileAsset_Font7/18189590ed3a5f46cef20ed4d1cec2611dca13ff.asset: skipping, looped directory detected\n",
            "/System/Library/AssetsV2/com_apple_MobileAsset_Font7/1821952872c81043711aab6910052b65da8edf2c.asset: skipping, looped directory detected\n",
            "/System/Library/AssetsV2/com_apple_MobileAsset_Font7/28f00a24ba19995bab7249993e6e35d11011074a.asset: skipping, looped directory detected\n",
            "/System/Library/AssetsV2/com_apple_MobileAsset_Font7/2ae839cbaa0ff60fe6a1d8921a77c81adcec0646.asset: skipping, looped directory detected\n",
            "/System/Library/AssetsV2/com_apple_MobileAsset_Font7/32d11e548996658757774d88f9220993653017ea.asset: skipping, looped directory detected\n",
            "/System/Library/AssetsV2/com_apple_MobileAsset_Font7/3419f2a427639ad8c8e139149a287865a90fa17e.asset: skipping, looped directory detected\n",
            "/System/Library/AssetsV2/com_apple_MobileAsset_Font7/3a9dbc8ddc8b85f43055a28fb5d551e905d43de2.asset: skipping, looped directory detected\n",
            "/System/Library/AssetsV2/com_apple_MobileAsset_Font7/3d7c99b85a518ffb479044c11185e47744b6448d.asset: skipping, looped directory detected\n",
            "/System/Library/AssetsV2/com_apple_MobileAsset_Font7/40e56e4eafd8b4db78ffe316f64ac4bedba37b53.asset: skipping, looped directory detected\n",
            "/System/Library/AssetsV2/com_apple_MobileAsset_Font7/42062e40d643fdb5bb3fba917212352fb0690de0.asset: skipping, looped directory detected\n",
            "/System/Library/AssetsV2/com_apple_MobileAsset_Font7/54a2ad3dac6cac875ad675d7d273dc425010a877.asset: skipping, looped directory detected\n",
            "/System/Library/AssetsV2/com_apple_MobileAsset_Font7/54ef167d6c8e99a69a0d41ce252cc5995ba47580.asset: skipping, looped directory detected\n",
            "/System/Library/AssetsV2/com_apple_MobileAsset_Font7/584ea2a48d14147049c2f9eaee147fe5a1f279ac.asset: skipping, looped directory detected\n",
            "/System/Library/AssetsV2/com_apple_MobileAsset_Font7/5a3fc034b64879656271c040cab38b65d4ea6548.asset: skipping, looped directory detected\n",
            "/System/Library/AssetsV2/com_apple_MobileAsset_Font7/5b2f5f0b003344b2c67ce463e76d2485bb43d054.asset: skipping, looped directory detected\n",
            "/System/Library/AssetsV2/com_apple_MobileAsset_Font7/5b843781be7f58151ada774942a0eaa9ec79bd57.asset: skipping, looped directory detected\n",
            "/System/Library/AssetsV2/com_apple_MobileAsset_Font7/5f2614e7b55639e709d8578e16b324b3eb6eb065.asset: skipping, looped directory detected\n",
            "/System/Library/AssetsV2/com_apple_MobileAsset_Font7/62032b9b64a0e3a9121c50aeb2ed794e3e2c201f.asset: skipping, looped directory detected\n",
            "/System/Library/AssetsV2/com_apple_MobileAsset_Font7/6f4c91728bb824d6960725ec479c355eab7eeba8.asset: skipping, looped directory detected\n",
            "/System/Library/AssetsV2/com_apple_MobileAsset_Font7/70816a43827731d40efe234b94feba96db91024f.asset: skipping, looped directory detected\n",
            "/System/Library/AssetsV2/com_apple_MobileAsset_Font7/7278ac2566252649b05c5a2b07c7d45be59f47c5.asset: skipping, looped directory detected\n",
            "/System/Library/AssetsV2/com_apple_MobileAsset_Font7/7ca27bc02dd7660f9dacd69df96d24639b96e080.asset: skipping, looped directory detected\n",
            "/System/Library/AssetsV2/com_apple_MobileAsset_Font7/857d6c90171c328a4892c1492291d34e401d7f25.asset: skipping, looped directory detected\n",
            "/System/Library/AssetsV2/com_apple_MobileAsset_Font7/8739f5cf483d3b2f04cbb451d310b68f0cf880d0.asset: skipping, looped directory detected\n",
            "/System/Library/AssetsV2/com_apple_MobileAsset_Font7/8dc7805506cc9f233dcc19aabf593196842a47ae.asset: skipping, looped directory detected\n",
            "/System/Library/AssetsV2/com_apple_MobileAsset_Font7/938fc4f0524ec9f143f1b39a4e63ff9585298376.asset: skipping, looped directory detected\n",
            "/System/Library/AssetsV2/com_apple_MobileAsset_Font7/96af7ec9e88d5dae450d3162213f92a7b1129430.asset: skipping, looped directory detected\n",
            "/System/Library/AssetsV2/com_apple_MobileAsset_Font7/9bcdfd464af84ab30592d781f4a82f44f548239c.asset: skipping, looped directory detected\n",
            "/System/Library/AssetsV2/com_apple_MobileAsset_Font7/9d5450ee93f17da1eacfa01b5e7b598f9e2dda2b.asset: skipping, looped directory detected\n",
            "/System/Library/AssetsV2/com_apple_MobileAsset_Font7/9fdda46cbe802833590494a09b2787378340c597.asset: skipping, looped directory detected\n",
            "/System/Library/AssetsV2/com_apple_MobileAsset_Font7/a3f9a9e35bdf3babe03b2fd162051306fad439d6.asset: skipping, looped directory detected\n",
            "/System/Library/AssetsV2/com_apple_MobileAsset_Font7/aa99d0b2bad7f797f38b49d46cde28fd4b58876e.asset: skipping, looped directory detected\n",
            "/System/Library/AssetsV2/com_apple_MobileAsset_Font7/ad8c3bb76851adc11dc4772c1a7a00caf83e3037.asset: skipping, looped directory detected\n",
            "/System/Library/AssetsV2/com_apple_MobileAsset_Font7/b86e58f38fd21e9782e70a104676f1655e72ebab.asset: skipping, looped directory detected\n",
            "/System/Library/AssetsV2/com_apple_MobileAsset_Font7/b8cf53b3591d6062cd536ba5129454cba899a078.asset: skipping, looped directory detected\n",
            "/System/Library/AssetsV2/com_apple_MobileAsset_Font7/bad9b4bf17cf1669dde54184ba4431c22dcad27b.asset: skipping, looped directory detected\n",
            "/System/Library/AssetsV2/com_apple_MobileAsset_Font7/c2cf5e684236b5395fd48d6ccf0e3b3191ce83a0.asset: skipping, looped directory detected\n",
            "/System/Library/AssetsV2/com_apple_MobileAsset_Font7/cd59971ded42add9070aa2172265ba7fcf8d9327.asset: skipping, looped directory detected\n",
            "/System/Library/AssetsV2/com_apple_MobileAsset_Font7/d7d512f49387f96799ae9271c7fa8f8e9fef05d1.asset: skipping, looped directory detected\n",
            "/System/Library/AssetsV2/com_apple_MobileAsset_Font7/d9a8a6ae726910080d90232eaf0edb06da712758.asset: skipping, looped directory detected\n",
            "/System/Library/AssetsV2/com_apple_MobileAsset_Font7/de4b2bad515a67ab2d11e39fd896b1e189252a43.asset: skipping, looped directory detected\n",
            "/System/Library/AssetsV2/com_apple_MobileAsset_Font7/de97612eef4e3cf8ee8e5c0ebd6fd879bbecd23a.asset: skipping, looped directory detected\n",
            "/System/Library/AssetsV2/com_apple_MobileAsset_Font7/e28431125242b9a298de3296370abdab4a7e8666.asset: skipping, looped directory detected\n",
            "/System/Library/AssetsV2/com_apple_MobileAsset_Font7/e2c331b942cb338404a160a97a7cd6e8a31428e8.asset: skipping, looped directory detected\n",
            "/System/Library/AssetsV2/com_apple_MobileAsset_Font7/e617c1b15920c6ee2d047ed8724de08521ce5c9a.asset: skipping, looped directory detected\n",
            "/System/Library/AssetsV2/com_apple_MobileAsset_Font7/e71ea5469e5f2039223f22203ee8b9186524afd3.asset: skipping, looped directory detected\n",
            "/System/Library/AssetsV2/com_apple_MobileAsset_Font7/e9a9a2d18358033875835a6228cb70ce84b7e47c.asset: skipping, looped directory detected\n",
            "/System/Library/AssetsV2/com_apple_MobileAsset_Font7/eb257c12d1a51c8c661b89f30eec56cacf9b8987.asset: skipping, looped directory detected\n",
            "/System/Library/AssetsV2/com_apple_MobileAsset_Font7/f0706a236683628e16427c6569e441423faaaa93.asset: skipping, looped directory detected\n",
            "/System/Library/AssetsV2/com_apple_MobileAsset_Font7/f110a45f1759f86c645cfd2f47baba57aa50056e.asset: skipping, looped directory detected\n",
            "/System/Library/AssetsV2/com_apple_MobileAsset_Font7/f7f6b250e97c182e68ac53a2b359ec44548878b9.asset: skipping, looped directory detected\n",
            "/System/Library/AssetsV2/com_apple_MobileAsset_Font7/f879347736afb6e4e0880bcede9df92492c0f040.asset: skipping, looped directory detected\n",
            "/System/Library/AssetsV2/com_apple_MobileAsset_Font7/0818d874bf1d0e24a1fe62e79f407717792c5ee1.asset/AssetData: skipping, looped directory detected\n",
            "/System/Library/AssetsV2/com_apple_MobileAsset_Font7/0818d874bf1d0e24a1fe62e79f407717792c5ee1.asset/META-INF: skipping, looped directory detected\n",
            "/System/Library/AssetsV2/com_apple_MobileAsset_Font7/0ab217c39c45c7c6acaddfa199fd32c55a7b4a19.asset/AssetData: skipping, looped directory detected\n",
            "/System/Library/AssetsV2/com_apple_MobileAsset_Font7/0ab217c39c45c7c6acaddfa199fd32c55a7b4a19.asset/META-INF: skipping, looped directory detected\n",
            "/System/Library/AssetsV2/com_apple_MobileAsset_Font7/10b097deccb3c6126d986e24b1980031ff7399da.asset/AssetData: skipping, looped directory detected\n",
            "/System/Library/AssetsV2/com_apple_MobileAsset_Font7/10b097deccb3c6126d986e24b1980031ff7399da.asset/META-INF: skipping, looped directory detected\n",
            "/System/Library/AssetsV2/com_apple_MobileAsset_Font7/12cc699be28fb04f3e3c4969a0378a87b920b174.asset/AssetData: skipping, looped directory detected\n",
            "/System/Library/AssetsV2/com_apple_MobileAsset_Font7/12cc699be28fb04f3e3c4969a0378a87b920b174.asset/META-INF: skipping, looped directory detected\n",
            "/System/Library/AssetsV2/com_apple_MobileAsset_Font7/157acc4d862730d6d5beaa943546f80a71948c7b.asset/AssetData: skipping, looped directory detected\n",
            "/System/Library/AssetsV2/com_apple_MobileAsset_Font7/157acc4d862730d6d5beaa943546f80a71948c7b.asset/META-INF: skipping, looped directory detected\n",
            "/System/Library/AssetsV2/com_apple_MobileAsset_Font7/18189590ed3a5f46cef20ed4d1cec2611dca13ff.asset/AssetData: skipping, looped directory detected\n",
            "/System/Library/AssetsV2/com_apple_MobileAsset_Font7/18189590ed3a5f46cef20ed4d1cec2611dca13ff.asset/META-INF: skipping, looped directory detected\n",
            "/System/Library/AssetsV2/com_apple_MobileAsset_Font7/1821952872c81043711aab6910052b65da8edf2c.asset/AssetData: skipping, looped directory detected\n",
            "/System/Library/AssetsV2/com_apple_MobileAsset_Font7/1821952872c81043711aab6910052b65da8edf2c.asset/META-INF: skipping, looped directory detected\n",
            "/System/Library/AssetsV2/com_apple_MobileAsset_Font7/28f00a24ba19995bab7249993e6e35d11011074a.asset/AssetData: skipping, looped directory detected\n",
            "/System/Library/AssetsV2/com_apple_MobileAsset_Font7/28f00a24ba19995bab7249993e6e35d11011074a.asset/META-INF: skipping, looped directory detected\n",
            "/System/Library/AssetsV2/com_apple_MobileAsset_Font7/2ae839cbaa0ff60fe6a1d8921a77c81adcec0646.asset/AssetData: skipping, looped directory detected\n",
            "/System/Library/AssetsV2/com_apple_MobileAsset_Font7/2ae839cbaa0ff60fe6a1d8921a77c81adcec0646.asset/META-INF: skipping, looped directory detected\n",
            "/System/Library/AssetsV2/com_apple_MobileAsset_Font7/32d11e548996658757774d88f9220993653017ea.asset/AssetData: skipping, looped directory detected\n",
            "/System/Library/AssetsV2/com_apple_MobileAsset_Font7/32d11e548996658757774d88f9220993653017ea.asset/META-INF: skipping, looped directory detected\n",
            "/System/Library/AssetsV2/com_apple_MobileAsset_Font7/3419f2a427639ad8c8e139149a287865a90fa17e.asset/AssetData: skipping, looped directory detected\n",
            "/System/Library/AssetsV2/com_apple_MobileAsset_Font7/3419f2a427639ad8c8e139149a287865a90fa17e.asset/META-INF: skipping, looped directory detected\n",
            "/System/Library/AssetsV2/com_apple_MobileAsset_Font7/3a9dbc8ddc8b85f43055a28fb5d551e905d43de2.asset/AssetData: skipping, looped directory detected\n",
            "/System/Library/AssetsV2/com_apple_MobileAsset_Font7/3a9dbc8ddc8b85f43055a28fb5d551e905d43de2.asset/META-INF: skipping, looped directory detected\n",
            "/System/Library/AssetsV2/com_apple_MobileAsset_Font7/3d7c99b85a518ffb479044c11185e47744b6448d.asset/AssetData: skipping, looped directory detected\n",
            "/System/Library/AssetsV2/com_apple_MobileAsset_Font7/3d7c99b85a518ffb479044c11185e47744b6448d.asset/META-INF: skipping, looped directory detected\n",
            "/System/Library/AssetsV2/com_apple_MobileAsset_Font7/40e56e4eafd8b4db78ffe316f64ac4bedba37b53.asset/AssetData: skipping, looped directory detected\n",
            "/System/Library/AssetsV2/com_apple_MobileAsset_Font7/40e56e4eafd8b4db78ffe316f64ac4bedba37b53.asset/META-INF: skipping, looped directory detected\n",
            "/System/Library/AssetsV2/com_apple_MobileAsset_Font7/42062e40d643fdb5bb3fba917212352fb0690de0.asset/AssetData: skipping, looped directory detected\n",
            "/System/Library/AssetsV2/com_apple_MobileAsset_Font7/42062e40d643fdb5bb3fba917212352fb0690de0.asset/META-INF: skipping, looped directory detected\n",
            "/System/Library/AssetsV2/com_apple_MobileAsset_Font7/54a2ad3dac6cac875ad675d7d273dc425010a877.asset/AssetData: skipping, looped directory detected\n",
            "/System/Library/AssetsV2/com_apple_MobileAsset_Font7/54a2ad3dac6cac875ad675d7d273dc425010a877.asset/META-INF: skipping, looped directory detected\n",
            "/System/Library/AssetsV2/com_apple_MobileAsset_Font7/54ef167d6c8e99a69a0d41ce252cc5995ba47580.asset/AssetData: skipping, looped directory detected\n",
            "/System/Library/AssetsV2/com_apple_MobileAsset_Font7/54ef167d6c8e99a69a0d41ce252cc5995ba47580.asset/META-INF: skipping, looped directory detected\n",
            "/System/Library/AssetsV2/com_apple_MobileAsset_Font7/584ea2a48d14147049c2f9eaee147fe5a1f279ac.asset/AssetData: skipping, looped directory detected\n",
            "/System/Library/AssetsV2/com_apple_MobileAsset_Font7/584ea2a48d14147049c2f9eaee147fe5a1f279ac.asset/META-INF: skipping, looped directory detected\n",
            "/System/Library/AssetsV2/com_apple_MobileAsset_Font7/5a3fc034b64879656271c040cab38b65d4ea6548.asset/AssetData: skipping, looped directory detected\n",
            "/System/Library/AssetsV2/com_apple_MobileAsset_Font7/5a3fc034b64879656271c040cab38b65d4ea6548.asset/META-INF: skipping, looped directory detected\n",
            "/System/Library/AssetsV2/com_apple_MobileAsset_Font7/5b2f5f0b003344b2c67ce463e76d2485bb43d054.asset/AssetData: skipping, looped directory detected\n",
            "/System/Library/AssetsV2/com_apple_MobileAsset_Font7/5b2f5f0b003344b2c67ce463e76d2485bb43d054.asset/META-INF: skipping, looped directory detected\n",
            "/System/Library/AssetsV2/com_apple_MobileAsset_Font7/5b843781be7f58151ada774942a0eaa9ec79bd57.asset/AssetData: skipping, looped directory detected\n",
            "/System/Library/AssetsV2/com_apple_MobileAsset_Font7/5b843781be7f58151ada774942a0eaa9ec79bd57.asset/META-INF: skipping, looped directory detected\n",
            "/System/Library/AssetsV2/com_apple_MobileAsset_Font7/5f2614e7b55639e709d8578e16b324b3eb6eb065.asset/AssetData: skipping, looped directory detected\n",
            "/System/Library/AssetsV2/com_apple_MobileAsset_Font7/5f2614e7b55639e709d8578e16b324b3eb6eb065.asset/META-INF: skipping, looped directory detected\n",
            "/System/Library/AssetsV2/com_apple_MobileAsset_Font7/62032b9b64a0e3a9121c50aeb2ed794e3e2c201f.asset/AssetData: skipping, looped directory detected\n",
            "/System/Library/AssetsV2/com_apple_MobileAsset_Font7/62032b9b64a0e3a9121c50aeb2ed794e3e2c201f.asset/META-INF: skipping, looped directory detected\n",
            "/System/Library/AssetsV2/com_apple_MobileAsset_Font7/6f4c91728bb824d6960725ec479c355eab7eeba8.asset/AssetData: skipping, looped directory detected\n",
            "/System/Library/AssetsV2/com_apple_MobileAsset_Font7/6f4c91728bb824d6960725ec479c355eab7eeba8.asset/META-INF: skipping, looped directory detected\n",
            "/System/Library/AssetsV2/com_apple_MobileAsset_Font7/70816a43827731d40efe234b94feba96db91024f.asset/AssetData: skipping, looped directory detected\n",
            "/System/Library/AssetsV2/com_apple_MobileAsset_Font7/70816a43827731d40efe234b94feba96db91024f.asset/META-INF: skipping, looped directory detected\n",
            "/System/Library/AssetsV2/com_apple_MobileAsset_Font7/7278ac2566252649b05c5a2b07c7d45be59f47c5.asset/AssetData: skipping, looped directory detected\n",
            "/System/Library/AssetsV2/com_apple_MobileAsset_Font7/7278ac2566252649b05c5a2b07c7d45be59f47c5.asset/META-INF: skipping, looped directory detected\n",
            "/System/Library/AssetsV2/com_apple_MobileAsset_Font7/7ca27bc02dd7660f9dacd69df96d24639b96e080.asset/AssetData: skipping, looped directory detected\n",
            "/System/Library/AssetsV2/com_apple_MobileAsset_Font7/7ca27bc02dd7660f9dacd69df96d24639b96e080.asset/META-INF: skipping, looped directory detected\n",
            "/System/Library/AssetsV2/com_apple_MobileAsset_Font7/857d6c90171c328a4892c1492291d34e401d7f25.asset/AssetData: skipping, looped directory detected\n",
            "/System/Library/AssetsV2/com_apple_MobileAsset_Font7/857d6c90171c328a4892c1492291d34e401d7f25.asset/META-INF: skipping, looped directory detected\n",
            "/System/Library/AssetsV2/com_apple_MobileAsset_Font7/8739f5cf483d3b2f04cbb451d310b68f0cf880d0.asset/AssetData: skipping, looped directory detected\n",
            "/System/Library/AssetsV2/com_apple_MobileAsset_Font7/8739f5cf483d3b2f04cbb451d310b68f0cf880d0.asset/META-INF: skipping, looped directory detected\n",
            "/System/Library/AssetsV2/com_apple_MobileAsset_Font7/8dc7805506cc9f233dcc19aabf593196842a47ae.asset/AssetData: skipping, looped directory detected\n",
            "/System/Library/AssetsV2/com_apple_MobileAsset_Font7/8dc7805506cc9f233dcc19aabf593196842a47ae.asset/META-INF: skipping, looped directory detected\n",
            "/System/Library/AssetsV2/com_apple_MobileAsset_Font7/938fc4f0524ec9f143f1b39a4e63ff9585298376.asset/AssetData: skipping, looped directory detected\n",
            "/System/Library/AssetsV2/com_apple_MobileAsset_Font7/938fc4f0524ec9f143f1b39a4e63ff9585298376.asset/META-INF: skipping, looped directory detected\n",
            "/System/Library/AssetsV2/com_apple_MobileAsset_Font7/96af7ec9e88d5dae450d3162213f92a7b1129430.asset/AssetData: skipping, looped directory detected\n",
            "/System/Library/AssetsV2/com_apple_MobileAsset_Font7/96af7ec9e88d5dae450d3162213f92a7b1129430.asset/META-INF: skipping, looped directory detected\n",
            "/System/Library/AssetsV2/com_apple_MobileAsset_Font7/9bcdfd464af84ab30592d781f4a82f44f548239c.asset/AssetData: skipping, looped directory detected\n",
            "/System/Library/AssetsV2/com_apple_MobileAsset_Font7/9bcdfd464af84ab30592d781f4a82f44f548239c.asset/META-INF: skipping, looped directory detected\n",
            "/System/Library/AssetsV2/com_apple_MobileAsset_Font7/9d5450ee93f17da1eacfa01b5e7b598f9e2dda2b.asset/AssetData: skipping, looped directory detected\n",
            "/System/Library/AssetsV2/com_apple_MobileAsset_Font7/9d5450ee93f17da1eacfa01b5e7b598f9e2dda2b.asset/META-INF: skipping, looped directory detected\n",
            "/System/Library/AssetsV2/com_apple_MobileAsset_Font7/9fdda46cbe802833590494a09b2787378340c597.asset/AssetData: skipping, looped directory detected\n",
            "/System/Library/AssetsV2/com_apple_MobileAsset_Font7/9fdda46cbe802833590494a09b2787378340c597.asset/META-INF: skipping, looped directory detected\n",
            "/System/Library/AssetsV2/com_apple_MobileAsset_Font7/a3f9a9e35bdf3babe03b2fd162051306fad439d6.asset/AssetData: skipping, looped directory detected\n",
            "/System/Library/AssetsV2/com_apple_MobileAsset_Font7/a3f9a9e35bdf3babe03b2fd162051306fad439d6.asset/META-INF: skipping, looped directory detected\n",
            "/System/Library/AssetsV2/com_apple_MobileAsset_Font7/aa99d0b2bad7f797f38b49d46cde28fd4b58876e.asset/AssetData: skipping, looped directory detected\n",
            "/System/Library/AssetsV2/com_apple_MobileAsset_Font7/aa99d0b2bad7f797f38b49d46cde28fd4b58876e.asset/META-INF: skipping, looped directory detected\n",
            "/System/Library/AssetsV2/com_apple_MobileAsset_Font7/ad8c3bb76851adc11dc4772c1a7a00caf83e3037.asset/AssetData: skipping, looped directory detected\n",
            "/System/Library/AssetsV2/com_apple_MobileAsset_Font7/ad8c3bb76851adc11dc4772c1a7a00caf83e3037.asset/META-INF: skipping, looped directory detected\n",
            "/System/Library/AssetsV2/com_apple_MobileAsset_Font7/b86e58f38fd21e9782e70a104676f1655e72ebab.asset/AssetData: skipping, looped directory detected\n",
            "/System/Library/AssetsV2/com_apple_MobileAsset_Font7/b86e58f38fd21e9782e70a104676f1655e72ebab.asset/META-INF: skipping, looped directory detected\n",
            "/System/Library/AssetsV2/com_apple_MobileAsset_Font7/b8cf53b3591d6062cd536ba5129454cba899a078.asset/AssetData: skipping, looped directory detected\n",
            "/System/Library/AssetsV2/com_apple_MobileAsset_Font7/b8cf53b3591d6062cd536ba5129454cba899a078.asset/META-INF: skipping, looped directory detected\n",
            "/System/Library/AssetsV2/com_apple_MobileAsset_Font7/bad9b4bf17cf1669dde54184ba4431c22dcad27b.asset/AssetData: skipping, looped directory detected\n",
            "/System/Library/AssetsV2/com_apple_MobileAsset_Font7/bad9b4bf17cf1669dde54184ba4431c22dcad27b.asset/META-INF: skipping, looped directory detected\n",
            "/System/Library/AssetsV2/com_apple_MobileAsset_Font7/c2cf5e684236b5395fd48d6ccf0e3b3191ce83a0.asset/AssetData: skipping, looped directory detected\n",
            "/System/Library/AssetsV2/com_apple_MobileAsset_Font7/c2cf5e684236b5395fd48d6ccf0e3b3191ce83a0.asset/META-INF: skipping, looped directory detected\n",
            "/System/Library/AssetsV2/com_apple_MobileAsset_Font7/cd59971ded42add9070aa2172265ba7fcf8d9327.asset/AssetData: skipping, looped directory detected\n",
            "/System/Library/AssetsV2/com_apple_MobileAsset_Font7/cd59971ded42add9070aa2172265ba7fcf8d9327.asset/META-INF: skipping, looped directory detected\n",
            "/System/Library/AssetsV2/com_apple_MobileAsset_Font7/d7d512f49387f96799ae9271c7fa8f8e9fef05d1.asset/AssetData: skipping, looped directory detected\n",
            "/System/Library/AssetsV2/com_apple_MobileAsset_Font7/d7d512f49387f96799ae9271c7fa8f8e9fef05d1.asset/META-INF: skipping, looped directory detected\n",
            "/System/Library/AssetsV2/com_apple_MobileAsset_Font7/d9a8a6ae726910080d90232eaf0edb06da712758.asset/AssetData: skipping, looped directory detected\n",
            "/System/Library/AssetsV2/com_apple_MobileAsset_Font7/d9a8a6ae726910080d90232eaf0edb06da712758.asset/META-INF: skipping, looped directory detected\n",
            "/System/Library/AssetsV2/com_apple_MobileAsset_Font7/de4b2bad515a67ab2d11e39fd896b1e189252a43.asset/AssetData: skipping, looped directory detected\n",
            "/System/Library/AssetsV2/com_apple_MobileAsset_Font7/de4b2bad515a67ab2d11e39fd896b1e189252a43.asset/META-INF: skipping, looped directory detected\n",
            "/System/Library/AssetsV2/com_apple_MobileAsset_Font7/de97612eef4e3cf8ee8e5c0ebd6fd879bbecd23a.asset/AssetData: skipping, looped directory detected\n",
            "/System/Library/AssetsV2/com_apple_MobileAsset_Font7/de97612eef4e3cf8ee8e5c0ebd6fd879bbecd23a.asset/META-INF: skipping, looped directory detected\n",
            "/System/Library/AssetsV2/com_apple_MobileAsset_Font7/e28431125242b9a298de3296370abdab4a7e8666.asset/AssetData: skipping, looped directory detected\n",
            "/System/Library/AssetsV2/com_apple_MobileAsset_Font7/e28431125242b9a298de3296370abdab4a7e8666.asset/META-INF: skipping, looped directory detected\n",
            "/System/Library/AssetsV2/com_apple_MobileAsset_Font7/e2c331b942cb338404a160a97a7cd6e8a31428e8.asset/AssetData: skipping, looped directory detected\n",
            "/System/Library/AssetsV2/com_apple_MobileAsset_Font7/e2c331b942cb338404a160a97a7cd6e8a31428e8.asset/META-INF: skipping, looped directory detected\n",
            "/System/Library/AssetsV2/com_apple_MobileAsset_Font7/e617c1b15920c6ee2d047ed8724de08521ce5c9a.asset/AssetData: skipping, looped directory detected\n",
            "/System/Library/AssetsV2/com_apple_MobileAsset_Font7/e617c1b15920c6ee2d047ed8724de08521ce5c9a.asset/META-INF: skipping, looped directory detected\n",
            "/System/Library/AssetsV2/com_apple_MobileAsset_Font7/e71ea5469e5f2039223f22203ee8b9186524afd3.asset/AssetData: skipping, looped directory detected\n",
            "/System/Library/AssetsV2/com_apple_MobileAsset_Font7/e71ea5469e5f2039223f22203ee8b9186524afd3.asset/META-INF: skipping, looped directory detected\n",
            "/System/Library/AssetsV2/com_apple_MobileAsset_Font7/e9a9a2d18358033875835a6228cb70ce84b7e47c.asset/AssetData: skipping, looped directory detected\n",
            "/System/Library/AssetsV2/com_apple_MobileAsset_Font7/e9a9a2d18358033875835a6228cb70ce84b7e47c.asset/META-INF: skipping, looped directory detected\n",
            "/System/Library/AssetsV2/com_apple_MobileAsset_Font7/eb257c12d1a51c8c661b89f30eec56cacf9b8987.asset/AssetData: skipping, looped directory detected\n",
            "/System/Library/AssetsV2/com_apple_MobileAsset_Font7/eb257c12d1a51c8c661b89f30eec56cacf9b8987.asset/META-INF: skipping, looped directory detected\n",
            "/System/Library/AssetsV2/com_apple_MobileAsset_Font7/f0706a236683628e16427c6569e441423faaaa93.asset/AssetData: skipping, looped directory detected\n",
            "/System/Library/AssetsV2/com_apple_MobileAsset_Font7/f0706a236683628e16427c6569e441423faaaa93.asset/META-INF: skipping, looped directory detected\n",
            "/System/Library/AssetsV2/com_apple_MobileAsset_Font7/f110a45f1759f86c645cfd2f47baba57aa50056e.asset/AssetData: skipping, looped directory detected\n",
            "/System/Library/AssetsV2/com_apple_MobileAsset_Font7/f110a45f1759f86c645cfd2f47baba57aa50056e.asset/META-INF: skipping, looped directory detected\n",
            "/System/Library/AssetsV2/com_apple_MobileAsset_Font7/f7f6b250e97c182e68ac53a2b359ec44548878b9.asset/AssetData: skipping, looped directory detected\n",
            "/System/Library/AssetsV2/com_apple_MobileAsset_Font7/f7f6b250e97c182e68ac53a2b359ec44548878b9.asset/META-INF: skipping, looped directory detected\n",
            "/System/Library/AssetsV2/com_apple_MobileAsset_Font7/f879347736afb6e4e0880bcede9df92492c0f040.asset/AssetData: skipping, looped directory detected\n",
            "/System/Library/AssetsV2/com_apple_MobileAsset_Font7/f879347736afb6e4e0880bcede9df92492c0f040.asset/META-INF: skipping, looped directory detected\n",
            "/opt/homebrew/var/cache/fontconfig: cleaning cache directory\n",
            "/Users/registry/.cache/fontconfig: not cleaning non-existent cache directory\n",
            "/Users/registry/.fontconfig: not cleaning non-existent cache directory\n",
            "fc-cache: succeeded\n"
          ]
        }
      ],
      "source": [
        "# Warning 무시\n",
        "warnings.filterwarnings('ignore', category=UserWarning)\n",
        "\n",
        "# Seaborn 테마 설정\n",
        "sns.set_theme(style='whitegrid')\n",
        "\n",
        "# matplotlib 한글 폰트 설정\n",
        "os.system('rm -rf ~/.cache/matplotlib')\n",
        "os.system('fc-cache -fv')\n",
        "\n",
        "plt.rc('font', family='NanumBarunGothic')\n",
        "plt.rcParams['axes.unicode_minus'] = False"
      ]
    },
    {
      "cell_type": "markdown",
      "metadata": {
        "id": "J5npQ_GN_N1J"
      },
      "source": [
        "## 데이터 로드\n"
      ]
    },
    {
      "cell_type": "markdown",
      "metadata": {},
      "source": [
        "### TrainSet 내려받기, 저장 및 로드\n"
      ]
    },
    {
      "cell_type": "code",
      "execution_count": null,
      "metadata": {
        "id": "TzBo1DV3_Tvf"
      },
      "outputs": [
        {
          "name": "stdout",
          "output_type": "stream",
          "text": [
            "<class 'pandas.core.frame.DataFrame'>\n",
            "RangeIndex: 150000 entries, 0 to 149999\n",
            "Data columns (total 3 columns):\n",
            " #   Column    Non-Null Count   Dtype \n",
            "---  ------    --------------   ----- \n",
            " 0   id        150000 non-null  int64 \n",
            " 1   document  149995 non-null  object\n",
            " 2   label     150000 non-null  int64 \n",
            "dtypes: int64(2), object(1)\n",
            "memory usage: 3.4+ MB\n",
            "중복 제거 전 고유 문서 수: 146182\n",
            "중복 제거 후 데이터 형태: (146183, 3)\n"
          ]
        },
        {
          "data": {
            "image/png": "[encoded data removed]",
            "text/plain": [
              "<Figure size 640x480 with 1 Axes>"
            ]
          },
          "metadata": {},
          "output_type": "display_data"
        },
        {
          "name": "stdout",
          "output_type": "stream",
          "text": [
            "결측치 수: 0\n",
            "빈 문서 수: 391\n",
            "최종 데이터 형태: (145791, 3)\n"
          ]
        },
        {
          "name": "stderr",
          "output_type": "stream",
          "text": [
            "  5%|▍         | 7256/145791 [00:13<04:18, 536.59it/s]"
          ]
        }
      ],
      "source": [
        "response = requests.get(\"https://raw.githubusercontent.com/e9t/nsmc/master/ratings_train.txt\")\n",
        "with open(\"../data/mining/ratings_train.txt\", \"wb\") as f:\n",
        "  f.write(response.content)\n",
        "\n",
        "df_train = pd.read_table(\"../data/mining/ratings_train.txt\")\n",
        "df_train.info()\n",
        "\n",
        "# 데이터 전처리\n",
        "# 1. 중복 제거\n",
        "print(f\"중복 제거 전 고유 문서 수: {df_train['document'].nunique()}\")\n",
        "df_train = df_train.drop_duplicates(subset=['document'])\n",
        "print(f\"중복 제거 후 데이터 형태: {df_train.shape}\")\n",
        "\n",
        "# 2. 레이블 분포 확인\n",
        "df_train['label'].value_counts().plot(kind='bar')\n",
        "plt.title('감성 레이블 분포')\n",
        "plt.show()\n",
        "\n",
        "# 3. 결측치 제거\n",
        "df_train = df_train.dropna(how='any')\n",
        "print(f\"결측치 수: {df_train.isnull().values.sum()}\")\n",
        "\n",
        "# 4. 한글과 공백만 남기기\n",
        "df_train['document'] = df_train['document'].apply(lambda x: re.sub(\"[^ㄱ-ㅎㅏ-ㅣ가-힣 ]\", \"\", x))\n",
        "\n",
        "# 5. 빈 문자열 처리\n",
        "empty_docs_count = df_train.loc[df_train['document'] == '', 'document'].count()\n",
        "print(f\"빈 문서 수: {empty_docs_count}\")\n",
        "df_train.replace({'document': {'': np.nan}}, inplace=True)\n",
        "df_train = df_train.dropna(how='any')\n",
        "print(f\"최종 데이터 형태: {df_train.shape}\")\n",
        "\n",
        "# 형태소 분석\n",
        "okt = Okt()\n",
        "X_train = []\n",
        "y_train = []\n",
        "\n",
        "# 진행 상황 표시와 함께 형태소 분석 수행\n",
        "for sentence, label in tqdm(zip(df_train['document'], df_train['label']), total=len(df_train)):\n",
        "  # 형태소 분리, 정규화, 어간 추출\n",
        "  morphs = okt.morphs(sentence, stem=True, norm=True)\n",
        "  X_train.append(morphs)\n",
        "  y_train.append(label)\n",
        "\n",
        "# 데이터 저장\n",
        "with open(\"../data/mining/X_train.pkl\", \"wb\") as f:\n",
        "  pickle.dump(X_train, f)\n",
        "\n",
        "with open(\"../data/mining/y_train.pkl\", \"wb\") as f:\n",
        "  pickle.dump(y_train, f)\n",
        "\n",
        "print(\"X_train.pkl 및 y_train.pkl 파일 저장 완료!\")"
      ]
    },
    {
      "cell_type": "code",
      "execution_count": null,
      "metadata": {
        "id": "ve7O8G0HJJbO"
      },
      "outputs": [],
      "source": [
        "# 훈련된 모델 및 TF-IDF 벡터라이저 불러오기\n",
        "with open(\"../data/mining/X_train.pkl\", \"rb\") as f:\n",
        "  X_train = pickle.load(f)\n",
        "\n",
        "with open(\"../data/mining/y_train.pkl\", \"rb\") as f:\n",
        "  y_train = pickle.load(f)"
      ]
    },
    {
      "cell_type": "markdown",
      "metadata": {
        "id": "fZok0-ywLubE"
      },
      "source": [
        "### TestSet 로드\n"
      ]
    },
    {
      "cell_type": "code",
      "execution_count": null,
      "metadata": {
        "colab": {
          "base_uri": "https://localhost:8080/"
        },
        "id": "PwPz42t8JevV",
        "outputId": "03ed68c5-b70f-45e1-e979-250db7e321bd"
      },
      "outputs": [],
      "source": [
        "# 테스트 데이터 로드\n",
        "df_test = pd.read_csv(\"../data/mining/kakao_map_place_comment.csv\", encoding='utf-8-sig')\n",
        "\n",
        "# 중복 제거\n",
        "df_test = df_test.drop_duplicates(subset=['contents'])\n",
        "\n",
        "# 한글과 공백만 남기고 정제\n",
        "df_test['contents'] = df_test['contents'].str.replace(\"[^ㄱ-ㅎㅏ-ㅣ가-힣 ]\", \"\", regex=True).str.strip()\n",
        "\n",
        "# 빈 문자열 처리\n",
        "df_test['contents'] = df_test['contents'].replace('', np.nan)\n",
        "\n",
        "# 결측치 제거\n",
        "df_test = df_test.dropna(subset=['contents'])"
      ]
    },
    {
      "cell_type": "markdown",
      "metadata": {},
      "source": [
        "## 데이터 전처리\n"
      ]
    },
    {
      "cell_type": "code",
      "execution_count": null,
      "metadata": {
        "id": "mwJWbxTrJW2v"
      },
      "outputs": [],
      "source": [
        "# TF-IDF 벡터라이저 로드\n",
        "tfidf_vectorizer = TfidfVectorizer()\n",
        "X_train = [' '.join(words) for words in X_train]  # 리스트를 문자열로 변환\n",
        "X_train_tfidf = tfidf_vectorizer.fit_transform(X_train)  # 훈련 데이터 변환"
      ]
    },
    {
      "cell_type": "code",
      "execution_count": null,
      "metadata": {
        "colab": {
          "base_uri": "https://localhost:8080/",
          "height": 49,
          "referenced_widgets": [
            "989970ac40dd4e18add9ea5d8b8364cd",
            "de7e56fbbefc42f1b278b8283b4fcd6f",
            "4c6f3e5bc1094480bac880a5af6372ca",
            "18e7986677494102b9e47e32fe7b5d89",
            "a22e9598c9994190b3abe05f27e3dbde",
            "412e537ecd864a7aa1c965241bc1dea4",
            "8e41130456f1405792470f3db6350296",
            "66fb0dca58ad4b7294c8fb90e630c279",
            "2368a80421504ad981a65f11222b3534",
            "7b75c659682a4672a8eabbe2caaa74cf",
            "53403249246848499174ce8ccb5ecd69"
          ]
        },
        "id": "GamdE-NxJjej",
        "outputId": "c8c279e4-43c9-4685-94ba-3a2a423d372d"
      },
      "outputs": [],
      "source": [
        "# 형태소 분석기 설정\n",
        "okt = Okt()\n",
        "\n",
        "# 형태소 분석 (토큰화 후 문자열로 변환) - 리스트 컴프리헨션 사용\n",
        "X_test = [' '.join(okt.morphs(sentence, stem=True, norm=True)) for sentence in tqdm(df_test['contents'])]"
      ]
    },
    {
      "cell_type": "code",
      "execution_count": null,
      "metadata": {
        "id": "mKUjyoYbJa1F"
      },
      "outputs": [],
      "source": [
        "# 로지스틱 회귀 모델 로드\n",
        "log_reg = LogisticRegression(max_iter=100000).fit(X_train_tfidf, y_train)"
      ]
    },
    {
      "cell_type": "code",
      "execution_count": null,
      "metadata": {
        "id": "GeYGNaPCJy1Z"
      },
      "outputs": [],
      "source": [
        "# 테스트 데이터 감정 분석 및 라벨 예측\n",
        "X_test_tfidf = tfidf_vectorizer.transform(X_test)  # TF-IDF 변환\n",
        "predicted_labels = log_reg.predict(X_test_tfidf)  # 감정 예측"
      ]
    },
    {
      "cell_type": "code",
      "execution_count": null,
      "metadata": {
        "id": "-wXzHFR2J3de"
      },
      "outputs": [],
      "source": [
        "# 예측된 감정 라벨을 데이터프레임에 추가\n",
        "df_test['label'] = predicted_labels"
      ]
    },
    {
      "cell_type": "code",
      "execution_count": null,
      "metadata": {
        "colab": {
          "base_uri": "https://localhost:8080/"
        },
        "id": "n0erbtZnJ41M",
        "outputId": "bed7c38f-51a8-4a4d-de28-bf2f13ff22b9"
      },
      "outputs": [],
      "source": [
        "# 결과 확인 및 CSV 저장\n",
        "print(df_test[['contents', 'label']].head(10))  # 상위 5개 데이터 확인\n",
        "df_test.to_csv(\"../data/mining/labeled_test_data.csv\", encoding='utf-8-sig', index=False)  # 결과 저장"
      ]
    },
    {
      "cell_type": "code",
      "execution_count": null,
      "metadata": {
        "id": "dFkCEeGyLa_R"
      },
      "outputs": [],
      "source": [
        "# 지역별 카테고리 설정\n",
        "yg_regions = [\n",
        "    '대학로', '북촌', '서촌', '홍대입구역', '합정', '연남',\n",
        "    '해방촌', '경리단길', '종로3가', '성수동', '신사동 가로수길',\n",
        "    '송리단길', '명동', '신림', '문래', '이수역', '용리단길'\n",
        "]\n",
        "ng_regions = [\n",
        "    '강남역', '압구정로데오', '건대입구역', '여의도역',\n",
        "    '동대문', '잠실역', '회기역', '영등포', '청담', '사당'\n",
        "]\n",
        "nm_regions = [\n",
        "    '성내동', '시흥동', '삼양동', '중화동', '월계동',\n",
        "    '응암동', '신도림동', '신정동', '도봉동', '방화동'\n",
        "]\n",
        "\n",
        "# 지역을 기반으로 카테고리 분류\n",
        "def categorize_region(region):\n",
        "  match region:\n",
        "    case _ if region in yg_regions:\n",
        "      return '젠트리피케이션'\n",
        "    case _ if region in ng_regions:\n",
        "      return '비젠트리피케이션'\n",
        "    case _ if region in nm_regions:\n",
        "      return '기본상권지'\n",
        "    case _:\n",
        "      return '기타'\n",
        "\n",
        "# df_test에 지역별 카테고리 추가\n",
        "df_test['category'] = df_test['region'].apply(categorize_region)\n",
        "\n",
        "# '기타' 지역 제외\n",
        "df_test = df_test[df_test['category'] != '기타']"
      ]
    },
    {
      "cell_type": "code",
      "execution_count": null,
      "metadata": {
        "colab": {
          "base_uri": "https://localhost:8080/",
          "height": 1000
        },
        "id": "rcjMIY4KSIRB",
        "outputId": "57067f6c-6498-45c6-f9e1-5251ae6eaf9a"
      },
      "outputs": [],
      "source": [
        "df_test.head()"
      ]
    },
    {
      "cell_type": "code",
      "execution_count": null,
      "metadata": {
        "colab": {
          "base_uri": "https://localhost:8080/",
          "height": 178
        },
        "id": "CHePQMJRRpY6",
        "outputId": "7f6eb9a6-2633-4cee-ebc0-1df425330534"
      },
      "outputs": [],
      "source": [
        "df_price_gen = df_test[df_test['category'] == '젠트리피케이션'][['contents', 'label']]\n",
        "df_price_gen[df_price_gen['contents'].str.contains('가격', na=False)]['label'].value_counts()"
      ]
    },
    {
      "cell_type": "code",
      "execution_count": null,
      "metadata": {
        "colab": {
          "base_uri": "https://localhost:8080/",
          "height": 990
        },
        "id": "EUY1O7gDTbpC",
        "outputId": "28dfbf57-4a76-4f43-9a47-397ce05ac20a"
      },
      "outputs": [],
      "source": [
        "df_price_gen[df_price_gen['contents'].str.contains('가격', na=False)].head(30)"
      ]
    },
    {
      "cell_type": "code",
      "execution_count": null,
      "metadata": {
        "colab": {
          "base_uri": "https://localhost:8080/",
          "height": 178
        },
        "id": "QU8TD5bMTDap",
        "outputId": "8194833f-b300-43b8-8146-48f6cae7e697"
      },
      "outputs": [],
      "source": [
        "df_price_nongen = df_test[df_test['category'] == '비젠트리피케이션'][['contents', 'label']]\n",
        "df_price_nongen[df_price_nongen['contents'].str.contains('가격', na=False)]['label'].value_counts()"
      ]
    },
    {
      "cell_type": "code",
      "execution_count": null,
      "metadata": {
        "colab": {
          "base_uri": "https://localhost:8080/",
          "height": 178
        },
        "id": "jPEfP4oeTJI1",
        "outputId": "b355cfd8-4825-4db0-9fe0-09f5cacf1bf5"
      },
      "outputs": [],
      "source": [
        "df_price_basic = df_test[df_test['category'] == '기본상권지'][['contents', 'label']]\n",
        "df_price_basic[df_price_basic['contents'].str.contains('가격', na=False)]['label'].value_counts()"
      ]
    },
    {
      "cell_type": "markdown",
      "metadata": {},
      "source": [
        "## 모델링 및 분석\n"
      ]
    },
    {
      "cell_type": "markdown",
      "metadata": {
        "id": "z2GMdJJC7mPd"
      },
      "source": [
        "### 카테고리별 긍/부정 비율 비교\n"
      ]
    },
    {
      "cell_type": "markdown",
      "metadata": {},
      "source": [
        "---\n",
        "- 젠트리 지역이 비젠트리 지역보다 부정적인 리뷰가 적고, 긍정적인 리뷰가 많음.\n",
        "- 비젠트리 지역에서 부정적인 리뷰가 더 많아 상권 만족도가 상대적으로 낮을 가능성이 있음.\n",
        "- 기본상권지는 두 지역 사이의 중간값을 가지며, 무난한 평점 분포를 보임.\n",
        "---\n",
        "\n",
        "이런식으로 해석하면 어떨까 싶어요!\n",
        "\n",
        "비젠트리피케이션 지역은 젠트리피케이션 지역보다 상대적으로 유명하지 않아서, 방문객들이 기대하는 서비스 품질과 실제 경험이 차이가 날 가능성이 있음.\n",
        "\n",
        "즉, 유명한 젠트리피케이션 지역에서는 \"평균적인 경험도 긍정적으로 평가\"하는 반면, 비젠트리피케이션 지역에서는 \"좋은 경험이 아니면 부정적으로 평가\"할 확률이 높음.\n",
        "\n",
        "비젠트리피케이션 지역은 지역 주민이 주 고객층일 가능성이 높음 -> 반복 방문을 하면서 실망하는 요소(가격 상승, 서비스 변화 등)를 경험할 가능성이 큼.\n",
        "\n",
        "반면, 젠트리피케이션 지역은 관광객, 일회성 방문이 많아 \"첫인상\"이 좋으면 긍정적 리뷰를 남기는 경우가 많을 수 있음.\n"
      ]
    },
    {
      "cell_type": "code",
      "execution_count": null,
      "metadata": {
        "colab": {
          "base_uri": "https://localhost:8080/",
          "height": 175
        },
        "id": "n-Tm0sfMORPn",
        "outputId": "d502407b-80d2-4ae7-a7e8-c1bbf5df3924"
      },
      "outputs": [],
      "source": [
        "# 각 카테고리별 긍/부정 리뷰 개수 집계\n",
        "sentiment_counts = df_test.groupby(['category', 'label']).size().unstack()\n",
        "sentiment_counts"
      ]
    },
    {
      "cell_type": "code",
      "execution_count": null,
      "metadata": {
        "colab": {
          "base_uri": "https://localhost:8080/",
          "height": 175
        },
        "id": "znrrmwhdOVpE",
        "outputId": "ca6e154d-24de-41a8-fea8-cee6a4b83bd1"
      },
      "outputs": [],
      "source": [
        "# 각 감정별 비율로 변환 (각 그룹 내 백분율)\n",
        "sentiment_ratio = sentiment_counts.div(sentiment_counts.sum(axis=1), axis=0) * 100\n",
        "sentiment_ratio"
      ]
    },
    {
      "cell_type": "code",
      "execution_count": null,
      "metadata": {
        "colab": {
          "base_uri": "https://localhost:8080/",
          "height": 581
        },
        "id": "H28tE3vMOp0N",
        "outputId": "fe29a107-cf81-41a8-f60f-86f4c03f3d82"
      },
      "outputs": [],
      "source": [
        "# 시각화\n",
        "plt.figure(figsize=(10, 6))\n",
        "sentiment_ratio.plot(kind='bar', stacked=True, colormap=\"coolwarm\", figsize=(10, 6))\n",
        "plt.title(\"젠트리피케이션 / 비젠트리피케이션 / 기본상권지 감정 비율 비교\")\n",
        "plt.xlabel(\"지역 카테고리\")\n",
        "plt.ylabel(\"비율 (%)\")\n",
        "plt.xticks(rotation=0)\n",
        "plt.legend([\"부정\", \"긍정\"])\n",
        "plt.show()"
      ]
    },
    {
      "cell_type": "code",
      "execution_count": null,
      "metadata": {
        "colab": {
          "base_uri": "https://localhost:8080/",
          "height": 237
        },
        "id": "XB0OUP2QO97y",
        "outputId": "385a9b79-18e0-4ab8-bbcf-f79e9b0fc89c"
      },
      "outputs": [],
      "source": [
        "# 1~5점별 긍정(1) / 부정(0) 개수 집계\n",
        "point_sentiment_counts = df_test.groupby(['point', 'label']).size().unstack(fill_value=0)\n",
        "\n",
        "# 1~5점별 긍/부정 비율 계산\n",
        "point_sentiment_ratio = point_sentiment_counts.div(point_sentiment_counts.sum(axis=1), axis=0) * 100\n",
        "point_sentiment_ratio"
      ]
    },
    {
      "cell_type": "markdown",
      "metadata": {
        "id": "reKd_q3H8ruw"
      },
      "source": [
        "### 평점별 감정 비율\n"
      ]
    },
    {
      "cell_type": "markdown",
      "metadata": {},
      "source": [
        "평점이 높을수록 긍정적인 감정이 증가하고, 평점이 낮을수록 부정적인 감정이 증가하는 경향을 확인할 수 있음.\n",
        "\n",
        "감정 분석 라벨링이 적절하게 이루어졌음을 검증함\n"
      ]
    },
    {
      "cell_type": "code",
      "execution_count": null,
      "metadata": {
        "colab": {
          "base_uri": "https://localhost:8080/",
          "height": 504
        },
        "id": "Zz_o2j30FjgO",
        "outputId": "4c057c9e-56a5-4afe-fb9e-733941362993"
      },
      "outputs": [],
      "source": [
        "# 시각화\n",
        "plt.figure(figsize=(8, 5))\n",
        "point_sentiment_ratio.plot(kind='bar', stacked=True, colormap=\"coolwarm\", figsize=(8, 5))\n",
        "plt.title(\"평점별 긍정/부정 비율\")\n",
        "plt.xlabel(\"평점\")\n",
        "plt.ylabel(\"비율 (%)\")\n",
        "plt.xticks(rotation=0)\n",
        "plt.legend([\"부정\", \"긍정\"])  # 0: 부정, 1: 긍정\n",
        "plt.show()"
      ]
    },
    {
      "cell_type": "markdown",
      "metadata": {
        "id": "Rz2M2R6q9kBj"
      },
      "source": [
        "### 평점(1~5)별 젠트리피케이션 / 비젠트리피케이션 / 기본상권지에 대한 긍정/부정 비율 비교\n"
      ]
    },
    {
      "cell_type": "markdown",
      "metadata": {},
      "source": [
        "젠트리 지역이 상대적으로 긍정적인 리뷰 비율이 더 높은 경향을 보임.\n",
        "\n",
        "상권 특성 차이로 해석될 수 있음.\n"
      ]
    },
    {
      "cell_type": "code",
      "execution_count": null,
      "metadata": {
        "colab": {
          "base_uri": "https://localhost:8080/",
          "height": 551
        },
        "id": "yNyTjJ4ncF8T",
        "outputId": "eab50f37-c4cd-499a-9a09-f67f9cd45ec1"
      },
      "outputs": [],
      "source": [
        "all_points = [1, 2, 3, 4, 5]\n",
        "all_categories = [\"젠트리피케이션\", \"비젠트리피케이션\", \"기본상권지\"]\n",
        "\n",
        "# 모든 조합을 포함하도록 데이터 재구성\n",
        "multi_index = pd.MultiIndex.from_product([all_categories, all_points], names=['category', 'point'])\n",
        "sentiment_counts = df_test.groupby(['category', 'point', 'label']).size().unstack(fill_value=0).reindex(multi_index, fill_value=0)\n",
        "\n",
        "# 비율 계산\n",
        "sentiment_ratio = sentiment_counts.div(sentiment_counts.sum(axis=1), axis=0) * 100\n",
        "sentiment_ratio"
      ]
    },
    {
      "cell_type": "code",
      "execution_count": null,
      "metadata": {
        "colab": {
          "base_uri": "https://localhost:8080/",
          "height": 563
        },
        "id": "rABy2UlCsnsM",
        "outputId": "c097e5fa-e89a-4192-87a9-fe1d64490d10"
      },
      "outputs": [],
      "source": [
        "# X축의 위치 조정\n",
        "points = sorted(sentiment_ratio.index.get_level_values('point').unique())  # 평점(1~5)\n",
        "x = np.arange(len(points))\n",
        "width = 0.2\n",
        "\n",
        "# 그래프 설정\n",
        "fig, ax = plt.subplots(figsize=(12, 6))\n",
        "colors = [\"#1f77b4\", \"#ff7f0e\"]\n",
        "\n",
        "# 같은 평점 내에서 지역별로 나란히 배치\n",
        "for idx, category in enumerate([\"젠트리피케이션\", \"비젠트리피케이션\", \"기본상권지\"]):\n",
        "  category_data = sentiment_ratio.xs(category, level='category')\n",
        "\n",
        "  category_data = category_data.reindex(points, fill_value=0)\n",
        "\n",
        "  # 각 평점에서 3개의 카테고리가 보이도록 설정\n",
        "  category_data.plot(\n",
        "      kind='bar', stacked=True, color=colors, alpha=0.8, width=width, position=idx - 1, ax=ax, label=category\n",
        "  )\n",
        "\n",
        "# X축을 평점(1~5)로 설정\n",
        "ax.set_xticks(x)\n",
        "ax.set_xticklabels(points, rotation=0)\n",
        "ax.set_xlim(-0.5, len(points) - 0.2)\n",
        "\n",
        "plt.title(\"평점(1~5)별 젠트리피케이션 / 비젠트리피케이션 / 기본상권지에 대한 긍정/부정 비율 비교\")\n",
        "plt.xlabel(\"평점\")\n",
        "plt.ylabel(\"비율 (%)\")\n",
        "plt.legend([\"부정\", \"긍정\"])\n",
        "plt.show()"
      ]
    },
    {
      "cell_type": "markdown",
      "metadata": {
        "id": "Ebhwba5JG539"
      },
      "source": [
        "### 각 지역별로 각각 토픽 모델링을 해서 자주 나오는 단어를 알아본다면???\n"
      ]
    },
    {
      "cell_type": "code",
      "execution_count": null,
      "metadata": {
        "id": "bHlEpvK4QnAO"
      },
      "outputs": [],
      "source": [
        "df_yg = df_test[df_test['category'] == '젠트리피케이션']\n",
        "df_ng = df_test[df_test['category'] == '비젠트리피케이션']\n",
        "df_nm = df_test[df_test['category'] == '기본상권지']"
      ]
    },
    {
      "cell_type": "code",
      "execution_count": null,
      "metadata": {
        "id": "MuaVFCLIQzrf"
      },
      "outputs": [],
      "source": [
        "df_yg.to_csv(\"../data/mining/yg_reviews.csv\", encoding='utf-8-sig', index=False)\n",
        "df_ng.to_csv(\"../data/mining/ng_reviews.csv\", encoding='utf-8-sig', index=False)\n",
        "df_nm.to_csv(\"../data/mining/nm_reviews.csv\", encoding='utf-8-sig', index=False)"
      ]
    },
    {
      "cell_type": "code",
      "execution_count": null,
      "metadata": {
        "id": "O2mlpINKQ8yn"
      },
      "outputs": [],
      "source": [
        "# 형태소 분석기\n",
        "okt = Okt()\n",
        "\n",
        "# 텍스트 전처리 함수\n",
        "def preprocess_text(text):\n",
        "  text = re.sub(\"[^ㄱ-ㅎㅏ-ㅣ가-힣 ]\", \"\", text)  # 한글과 공백만 남김\n",
        "  tokens = okt.nouns(text)  # 명사만 추출\n",
        "  return \" \".join(tokens)"
      ]
    },
    {
      "cell_type": "code",
      "execution_count": null,
      "metadata": {
        "colab": {
          "base_uri": "https://localhost:8080/"
        },
        "id": "hJp62wrYRnof",
        "outputId": "0dfe360c-d057-4ede-a0b3-33a42422b7e9"
      },
      "outputs": [],
      "source": [
        "# 리뷰 텍스트 전처리\n",
        "for df in [df_yg, df_ng, df_nm]:\n",
        "  df['processed'] = df['contents'].astype(str).apply(preprocess_text)"
      ]
    },
    {
      "cell_type": "code",
      "execution_count": null,
      "metadata": {
        "id": "T9t3uyEiUhvn"
      },
      "outputs": [],
      "source": [
        "# 단어 빈도 벡터화 (CountVectorizer 사용)\n",
        "def vectorize_text(df, max_features=3000):\n",
        "  vectorizer = CountVectorizer(max_features=max_features)\n",
        "  vectors = vectorizer.fit_transform(df['processed'])\n",
        "  return vectors, vectorizer\n",
        "\n",
        "# 각 데이터프레임에 대해 벡터화 적용\n",
        "X, vectorizer_yg = vectorize_text(df_yg)\n",
        "Y, vectorizer_ng = vectorize_text(df_ng)\n",
        "Z, vectorizer_nm = vectorize_text(df_nm)"
      ]
    },
    {
      "cell_type": "code",
      "execution_count": null,
      "metadata": {
        "id": "0GCMMfQkUmXv"
      },
      "outputs": [],
      "source": [
        "# 단어 빈도 데이터프레임 생성 함수\n",
        "def create_word_counts_df(vectors, feature_names):\n",
        "  word_counts = pd.DataFrame({\n",
        "      'word': feature_names,\n",
        "      'count': vectors.toarray().sum(axis=0)\n",
        "  })\n",
        "  return word_counts.sort_values(by='count', ascending=False)\n",
        "\n",
        "# 각 벡터화 결과에 대한 단어 빈도 데이터프레임 생성\n",
        "# X는 df_yg, Y는 df_ng, Z는 df_nm에 대한 벡터화 결과\n",
        "word_counts_yg = create_word_counts_df(X, vectorizer_yg.get_feature_names_out())\n",
        "word_counts_ng = create_word_counts_df(Y, vectorizer_ng.get_feature_names_out())\n",
        "word_counts_nm = create_word_counts_df(Z, vectorizer_nm.get_feature_names_out())"
      ]
    },
    {
      "cell_type": "code",
      "execution_count": null,
      "metadata": {
        "colab": {
          "base_uri": "https://localhost:8080/",
          "height": 423
        },
        "id": "ff5HuFgLVBPf",
        "outputId": "0b0407f4-6eec-4fed-e787-037bf998b392"
      },
      "outputs": [],
      "source": [
        "# 상위 30개 단어 출력\n",
        "display(word_counts_yg.head(10))\n",
        "display(word_counts_ng.head(10))\n",
        "display(word_counts_nm.head(10))"
      ]
    },
    {
      "cell_type": "markdown",
      "metadata": {
        "id": "MuSlya13_A_v"
      },
      "source": [
        "### 젠트리 / 비젠트리 워드 클라우드\n"
      ]
    },
    {
      "cell_type": "markdown",
      "metadata": {},
      "source": [
        "| 비교 항목          | 젠트리피케이션           | 비젠트리피케이션              |\n",
        "| ------------------ | ------------------------ | ----------------------------- |\n",
        "| **주요 평가 요소** | 맛, 분위기, 웨이팅, 가격 | 맛, 서비스(불친절), 매장 환경 |\n",
        "| **특징적인 단어**  | 웨이팅, 자리, 추천, 카페 | 매장, 주문, 불친절, 최고      |\n",
        "| **긍정적인 요소**  | 분위기, 추천, 카페 감성  | 최고, 분위기                  |\n",
        "| **부정적인 요소**  | 가격 (비싸다는 의미가틈) | 불친절, 서비스 관련 불만      |\n",
        "\n",
        "- 젠트리 지역은 분위기/웨이팅/가격에 대한 언급이 많아, 트렌디하고 인기 있는 지역 특성이 반영됨\n",
        "- 비젠트리 지역은 맛과 서비스(불친절)에 대한 언급이 많아, 상대적으로 운영 방식이나 친절도가 중요한 평가 요소일 가능성이 있음\n"
      ]
    },
    {
      "cell_type": "code",
      "execution_count": null,
      "metadata": {
        "id": "abrhMGX1YAoU"
      },
      "outputs": [],
      "source": [
        "# 워드 클라우드 생성\n",
        "wc = WordCloud(\n",
        "    font_path=\"NanumBarunGothic\",\n",
        "    background_color=\"white\",\n",
        "    width=800,\n",
        "    height=800,\n",
        "    max_words=200\n",
        ")"
      ]
    },
    {
      "cell_type": "code",
      "execution_count": null,
      "metadata": {
        "id": "UvqkVVDrVFO3"
      },
      "outputs": [],
      "source": [
        "# 모든 리뷰를 하나의 문자열로 합치기\n",
        "all_reviews_text_yg = \" \".join(df_yg['processed'])\n",
        "all_reviews_text_ng = \" \".join(df_ng['processed'])\n",
        "all_reviews_text_nm = \" \".join(df_nm['processed'])"
      ]
    },
    {
      "cell_type": "code",
      "execution_count": null,
      "metadata": {
        "colab": {
          "base_uri": "https://localhost:8080/",
          "height": 831
        },
        "id": "KPVNMCQkYEGy",
        "outputId": "94e42234-1eca-4b5c-bb8d-25b5637c8d79"
      },
      "outputs": [],
      "source": [
        "wordcloud = wc.generate(all_reviews_text_yg)\n",
        "\n",
        "plt.figure(figsize=(10, 10))\n",
        "plt.axis('off')\n",
        "plt.imshow(wordcloud)\n",
        "plt.title(\"젠트리피케이션 지역 워드 클라우드\", fontsize=15)\n",
        "plt.show()"
      ]
    },
    {
      "cell_type": "code",
      "execution_count": null,
      "metadata": {
        "colab": {
          "base_uri": "https://localhost:8080/",
          "height": 831
        },
        "id": "hmTNd89DYSf4",
        "outputId": "8bbc72be-2dfe-4c38-8fab-65a34a838405"
      },
      "outputs": [],
      "source": [
        "wordcloud = wc.generate(all_reviews_text_ng)\n",
        "\n",
        "plt.figure(figsize=(10, 10))\n",
        "plt.axis('off')\n",
        "plt.imshow(wordcloud)\n",
        "plt.title(\"비젠트리피케이션 지역 워드 클라우드\", fontsize=15)\n",
        "plt.show()"
      ]
    },
    {
      "cell_type": "code",
      "execution_count": null,
      "metadata": {},
      "outputs": [],
      "source": [
        "wordcloud = wc.generate(all_reviews_text_nm)\n",
        "\n",
        "plt.figure(figsize=(10, 10))\n",
        "plt.axis('off')\n",
        "plt.imshow(wordcloud)\n",
        "plt.title(\"기본상권지역 지역 워드 클라우드\", fontsize=15)\n",
        "plt.show()"
      ]
    }
  ],
  "metadata": {
    "colab": {
      "provenance": []
    },
    "kernelspec": {
      "display_name": "gen",
      "language": "python",
      "name": "python3"
    },
    "language_info": {
      "codemirror_mode": {
        "name": "ipython",
        "version": 3
      },
      "file_extension": ".py",
      "mimetype": "text/x-python",
      "name": "python",
      "nbconvert_exporter": "python",
      "pygments_lexer": "ipython3",
      "version": "3.11.11"
    },
    "widgets": {
      "application/vnd.jupyter.widget-state+json": {
        "18e7986677494102b9e47e32fe7b5d89": {
          "model_module": "@jupyter-widgets/controls",
          "model_module_version": "1.5.0",
          "model_name": "HTMLModel",
          "state": {
            "_dom_classes": [],
            "_model_module": "@jupyter-widgets/controls",
            "_model_module_version": "1.5.0",
            "_model_name": "HTMLModel",
            "_view_count": null,
            "_view_module": "@jupyter-widgets/controls",
            "_view_module_version": "1.5.0",
            "_view_name": "HTMLView",
            "description": "",
            "description_tooltip": null,
            "layout": "IPY_MODEL_7b75c659682a4672a8eabbe2caaa74cf",
            "placeholder": "​",
            "style": "IPY_MODEL_53403249246848499174ce8ccb5ecd69",
            "value": " 48353/48353 [06:12&lt;00:00, 151.29it/s]"
          }
        },
        "2368a80421504ad981a65f11222b3534": {
          "model_module": "@jupyter-widgets/controls",
          "model_module_version": "1.5.0",
          "model_name": "ProgressStyleModel",
          "state": {
            "_model_module": "@jupyter-widgets/controls",
            "_model_module_version": "1.5.0",
            "_model_name": "ProgressStyleModel",
            "_view_count": null,
            "_view_module": "@jupyter-widgets/base",
            "_view_module_version": "1.2.0",
            "_view_name": "StyleView",
            "bar_color": null,
            "description_width": ""
          }
        },
        "412e537ecd864a7aa1c965241bc1dea4": {
          "model_module": "@jupyter-widgets/base",
          "model_module_version": "1.2.0",
          "model_name": "LayoutModel",
          "state": {
            "_model_module": "@jupyter-widgets/base",
            "_model_module_version": "1.2.0",
            "_model_name": "LayoutModel",
            "_view_count": null,
            "_view_module": "@jupyter-widgets/base",
            "_view_module_version": "1.2.0",
            "_view_name": "LayoutView",
            "align_content": null,
            "align_items": null,
            "align_self": null,
            "border": null,
            "bottom": null,
            "display": null,
            "flex": null,
            "flex_flow": null,
            "grid_area": null,
            "grid_auto_columns": null,
            "grid_auto_flow": null,
            "grid_auto_rows": null,
            "grid_column": null,
            "grid_gap": null,
            "grid_row": null,
            "grid_template_areas": null,
            "grid_template_columns": null,
            "grid_template_rows": null,
            "height": null,
            "justify_content": null,
            "justify_items": null,
            "left": null,
            "margin": null,
            "max_height": null,
            "max_width": null,
            "min_height": null,
            "min_width": null,
            "object_fit": null,
            "object_position": null,
            "order": null,
            "overflow": null,
            "overflow_x": null,
            "overflow_y": null,
            "padding": null,
            "right": null,
            "top": null,
            "visibility": null,
            "width": null
          }
        },
        "4c6f3e5bc1094480bac880a5af6372ca": {
          "model_module": "@jupyter-widgets/controls",
          "model_module_version": "1.5.0",
          "model_name": "FloatProgressModel",
          "state": {
            "_dom_classes": [],
            "_model_module": "@jupyter-widgets/controls",
            "_model_module_version": "1.5.0",
            "_model_name": "FloatProgressModel",
            "_view_count": null,
            "_view_module": "@jupyter-widgets/controls",
            "_view_module_version": "1.5.0",
            "_view_name": "ProgressView",
            "bar_style": "success",
            "description": "",
            "description_tooltip": null,
            "layout": "IPY_MODEL_66fb0dca58ad4b7294c8fb90e630c279",
            "max": 48353,
            "min": 0,
            "orientation": "horizontal",
            "style": "IPY_MODEL_2368a80421504ad981a65f11222b3534",
            "value": 48353
          }
        },
        "53403249246848499174ce8ccb5ecd69": {
          "model_module": "@jupyter-widgets/controls",
          "model_module_version": "1.5.0",
          "model_name": "DescriptionStyleModel",
          "state": {
            "_model_module": "@jupyter-widgets/controls",
            "_model_module_version": "1.5.0",
            "_model_name": "DescriptionStyleModel",
            "_view_count": null,
            "_view_module": "@jupyter-widgets/base",
            "_view_module_version": "1.2.0",
            "_view_name": "StyleView",
            "description_width": ""
          }
        },
        "66fb0dca58ad4b7294c8fb90e630c279": {
          "model_module": "@jupyter-widgets/base",
          "model_module_version": "1.2.0",
          "model_name": "LayoutModel",
          "state": {
            "_model_module": "@jupyter-widgets/base",
            "_model_module_version": "1.2.0",
            "_model_name": "LayoutModel",
            "_view_count": null,
            "_view_module": "@jupyter-widgets/base",
            "_view_module_version": "1.2.0",
            "_view_name": "LayoutView",
            "align_content": null,
            "align_items": null,
            "align_self": null,
            "border": null,
            "bottom": null,
            "display": null,
            "flex": null,
            "flex_flow": null,
            "grid_area": null,
            "grid_auto_columns": null,
            "grid_auto_flow": null,
            "grid_auto_rows": null,
            "grid_column": null,
            "grid_gap": null,
            "grid_row": null,
            "grid_template_areas": null,
            "grid_template_columns": null,
            "grid_template_rows": null,
            "height": null,
            "justify_content": null,
            "justify_items": null,
            "left": null,
            "margin": null,
            "max_height": null,
            "max_width": null,
            "min_height": null,
            "min_width": null,
            "object_fit": null,
            "object_position": null,
            "order": null,
            "overflow": null,
            "overflow_x": null,
            "overflow_y": null,
            "padding": null,
            "right": null,
            "top": null,
            "visibility": null,
            "width": null
          }
        },
        "7b75c659682a4672a8eabbe2caaa74cf": {
          "model_module": "@jupyter-widgets/base",
          "model_module_version": "1.2.0",
          "model_name": "LayoutModel",
          "state": {
            "_model_module": "@jupyter-widgets/base",
            "_model_module_version": "1.2.0",
            "_model_name": "LayoutModel",
            "_view_count": null,
            "_view_module": "@jupyter-widgets/base",
            "_view_module_version": "1.2.0",
            "_view_name": "LayoutView",
            "align_content": null,
            "align_items": null,
            "align_self": null,
            "border": null,
            "bottom": null,
            "display": null,
            "flex": null,
            "flex_flow": null,
            "grid_area": null,
            "grid_auto_columns": null,
            "grid_auto_flow": null,
            "grid_auto_rows": null,
            "grid_column": null,
            "grid_gap": null,
            "grid_row": null,
            "grid_template_areas": null,
            "grid_template_columns": null,
            "grid_template_rows": null,
            "height": null,
            "justify_content": null,
            "justify_items": null,
            "left": null,
            "margin": null,
            "max_height": null,
            "max_width": null,
            "min_height": null,
            "min_width": null,
            "object_fit": null,
            "object_position": null,
            "order": null,
            "overflow": null,
            "overflow_x": null,
            "overflow_y": null,
            "padding": null,
            "right": null,
            "top": null,
            "visibility": null,
            "width": null
          }
        },
        "8e41130456f1405792470f3db6350296": {
          "model_module": "@jupyter-widgets/controls",
          "model_module_version": "1.5.0",
          "model_name": "DescriptionStyleModel",
          "state": {
            "_model_module": "@jupyter-widgets/controls",
            "_model_module_version": "1.5.0",
            "_model_name": "DescriptionStyleModel",
            "_view_count": null,
            "_view_module": "@jupyter-widgets/base",
            "_view_module_version": "1.2.0",
            "_view_name": "StyleView",
            "description_width": ""
          }
        },
        "989970ac40dd4e18add9ea5d8b8364cd": {
          "model_module": "@jupyter-widgets/controls",
          "model_module_version": "1.5.0",
          "model_name": "HBoxModel",
          "state": {
            "_dom_classes": [],
            "_model_module": "@jupyter-widgets/controls",
            "_model_module_version": "1.5.0",
            "_model_name": "HBoxModel",
            "_view_count": null,
            "_view_module": "@jupyter-widgets/controls",
            "_view_module_version": "1.5.0",
            "_view_name": "HBoxView",
            "box_style": "",
            "children": [
              "IPY_MODEL_de7e56fbbefc42f1b278b8283b4fcd6f",
              "IPY_MODEL_4c6f3e5bc1094480bac880a5af6372ca",
              "IPY_MODEL_18e7986677494102b9e47e32fe7b5d89"
            ],
            "layout": "IPY_MODEL_a22e9598c9994190b3abe05f27e3dbde"
          }
        },
        "a22e9598c9994190b3abe05f27e3dbde": {
          "model_module": "@jupyter-widgets/base",
          "model_module_version": "1.2.0",
          "model_name": "LayoutModel",
          "state": {
            "_model_module": "@jupyter-widgets/base",
            "_model_module_version": "1.2.0",
            "_model_name": "LayoutModel",
            "_view_count": null,
            "_view_module": "@jupyter-widgets/base",
            "_view_module_version": "1.2.0",
            "_view_name": "LayoutView",
            "align_content": null,
            "align_items": null,
            "align_self": null,
            "border": null,
            "bottom": null,
            "display": null,
            "flex": null,
            "flex_flow": null,
            "grid_area": null,
            "grid_auto_columns": null,
            "grid_auto_flow": null,
            "grid_auto_rows": null,
            "grid_column": null,
            "grid_gap": null,
            "grid_row": null,
            "grid_template_areas": null,
            "grid_template_columns": null,
            "grid_template_rows": null,
            "height": null,
            "justify_content": null,
            "justify_items": null,
            "left": null,
            "margin": null,
            "max_height": null,
            "max_width": null,
            "min_height": null,
            "min_width": null,
            "object_fit": null,
            "object_position": null,
            "order": null,
            "overflow": null,
            "overflow_x": null,
            "overflow_y": null,
            "padding": null,
            "right": null,
            "top": null,
            "visibility": null,
            "width": null
          }
        },
        "de7e56fbbefc42f1b278b8283b4fcd6f": {
          "model_module": "@jupyter-widgets/controls",
          "model_module_version": "1.5.0",
          "model_name": "HTMLModel",
          "state": {
            "_dom_classes": [],
            "_model_module": "@jupyter-widgets/controls",
            "_model_module_version": "1.5.0",
            "_model_name": "HTMLModel",
            "_view_count": null,
            "_view_module": "@jupyter-widgets/controls",
            "_view_module_version": "1.5.0",
            "_view_name": "HTMLView",
            "description": "",
            "description_tooltip": null,
            "layout": "IPY_MODEL_412e537ecd864a7aa1c965241bc1dea4",
            "placeholder": "​",
            "style": "IPY_MODEL_8e41130456f1405792470f3db6350296",
            "value": "100%"
          }
        }
      }
    }
  },
  "nbformat": 4,
  "nbformat_minor": 0
}
