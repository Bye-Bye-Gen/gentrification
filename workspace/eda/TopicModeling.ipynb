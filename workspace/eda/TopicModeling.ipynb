{
  "nbformat": 4,
  "nbformat_minor": 0,
  "metadata": {
    "colab": {
      "provenance": []
    },
    "kernelspec": {
      "name": "python3",
      "display_name": "Python 3"
    },
    "language_info": {
      "name": "python"
    }
  },
  "cells": [
    {
      "cell_type": "code",
      "execution_count": null,
      "metadata": {
        "id": "3ILHpjW9zK5G"
      },
      "outputs": [],
      "source": [
        "#  region 컬럼에서\n",
        "# 젠트리피케이션 지역  ['대학로', '북촌', '서촌', '홍대입구역', '합정', '연남', '해방촌', '경리단길',  '종로3가', '성수동', '신사동 가로수길', '송리단길', '명동', '신림', '문래', '이수역', '용리단길']\n",
        "# 비젠트리피케이션 지역 ['강남역', '압구정로데오', '건대입구역', '여의도역', '동대문', '잠실역', '회기역', '영등포', '청담', '사당']\n",
        "# 기본상권지로 설정한 지역 [성내동, 시흥동, 삼양동, 중화동,  월계동, 응암동, 신도림동, 신정동, 도봉동, 방화동]"
      ]
    },
    {
      "cell_type": "code",
      "source": [
        "import matplotlib.pyplot as plt\n",
        "import matplotlib.font_manager as fm\n",
        "import seaborn as sns"
      ],
      "metadata": {
        "id": "I-30srlWsv1s"
      },
      "execution_count": null,
      "outputs": []
    },
    {
      "cell_type": "code",
      "source": [
        "!sudo apt-get install -y fonts-nanum\n",
        "!sudo fc-cache -fv\n",
        "!rm ~/.cache/matplotlib -rf\n",
        "plt.rc('font', family='NanumBarunGothic')\n",
        "plt.rcParams['axes.unicode_minus'] = False"
      ],
      "metadata": {
        "colab": {
          "base_uri": "https://localhost:8080/"
        },
        "id": "LFex7DNP1ZPN",
        "outputId": "b9e5e23d-7db7-4484-e443-65b0846ebf82"
      },
      "execution_count": null,
      "outputs": [
        {
          "output_type": "stream",
          "name": "stdout",
          "text": [
            "Reading package lists... Done\n",
            "Building dependency tree... Done\n",
            "Reading state information... Done\n",
            "fonts-nanum is already the newest version (20200506-1).\n",
            "0 upgraded, 0 newly installed, 0 to remove and 29 not upgraded.\n",
            "/usr/share/fonts: caching, new cache contents: 0 fonts, 1 dirs\n",
            "/usr/share/fonts/truetype: caching, new cache contents: 0 fonts, 3 dirs\n",
            "/usr/share/fonts/truetype/humor-sans: caching, new cache contents: 1 fonts, 0 dirs\n",
            "/usr/share/fonts/truetype/liberation: caching, new cache contents: 16 fonts, 0 dirs\n",
            "/usr/share/fonts/truetype/nanum: caching, new cache contents: 12 fonts, 0 dirs\n",
            "/usr/local/share/fonts: caching, new cache contents: 0 fonts, 0 dirs\n",
            "/root/.local/share/fonts: skipping, no such directory\n",
            "/root/.fonts: skipping, no such directory\n",
            "/usr/share/fonts/truetype: skipping, looped directory detected\n",
            "/usr/share/fonts/truetype/humor-sans: skipping, looped directory detected\n",
            "/usr/share/fonts/truetype/liberation: skipping, looped directory detected\n",
            "/usr/share/fonts/truetype/nanum: skipping, looped directory detected\n",
            "/var/cache/fontconfig: cleaning cache directory\n",
            "/root/.cache/fontconfig: not cleaning non-existent cache directory\n",
            "/root/.fontconfig: not cleaning non-existent cache directory\n",
            "fc-cache: succeeded\n"
          ]
        }
      ]
    },
    {
      "cell_type": "code",
      "source": [
        "!pip uninstall -y pyLDAvis\n",
        "!pip install pyLDAvis"
      ],
      "metadata": {
        "colab": {
          "base_uri": "https://localhost:8080/",
          "height": 592
        },
        "id": "M66rtaZV2Fdy",
        "outputId": "2140af21-a16d-459f-ab51-b2781c1d33d7"
      },
      "execution_count": null,
      "outputs": [
        {
          "output_type": "stream",
          "name": "stdout",
          "text": [
            "Found existing installation: pyLDAvis 3.4.1\n",
            "Uninstalling pyLDAvis-3.4.1:\n",
            "  Successfully uninstalled pyLDAvis-3.4.1\n",
            "Collecting pyLDAvis\n",
            "  Using cached pyLDAvis-3.4.1-py3-none-any.whl.metadata (4.2 kB)\n",
            "Requirement already satisfied: numpy>=1.24.2 in /usr/local/lib/python3.11/dist-packages (from pyLDAvis) (1.26.4)\n",
            "Requirement already satisfied: scipy in /usr/local/lib/python3.11/dist-packages (from pyLDAvis) (1.13.1)\n",
            "Requirement already satisfied: pandas>=2.0.0 in /usr/local/lib/python3.11/dist-packages (from pyLDAvis) (2.2.2)\n",
            "Requirement already satisfied: joblib>=1.2.0 in /usr/local/lib/python3.11/dist-packages (from pyLDAvis) (1.4.2)\n",
            "Requirement already satisfied: jinja2 in /usr/local/lib/python3.11/dist-packages (from pyLDAvis) (3.1.6)\n",
            "Requirement already satisfied: numexpr in /usr/local/lib/python3.11/dist-packages (from pyLDAvis) (2.10.2)\n",
            "Requirement already satisfied: funcy in /usr/local/lib/python3.11/dist-packages (from pyLDAvis) (2.0)\n",
            "Requirement already satisfied: scikit-learn>=1.0.0 in /usr/local/lib/python3.11/dist-packages (from pyLDAvis) (1.6.1)\n",
            "Requirement already satisfied: gensim in /usr/local/lib/python3.11/dist-packages (from pyLDAvis) (4.3.3)\n",
            "Requirement already satisfied: setuptools in /usr/local/lib/python3.11/dist-packages (from pyLDAvis) (75.1.0)\n",
            "Requirement already satisfied: python-dateutil>=2.8.2 in /usr/local/lib/python3.11/dist-packages (from pandas>=2.0.0->pyLDAvis) (2.8.2)\n",
            "Requirement already satisfied: pytz>=2020.1 in /usr/local/lib/python3.11/dist-packages (from pandas>=2.0.0->pyLDAvis) (2025.1)\n",
            "Requirement already satisfied: tzdata>=2022.7 in /usr/local/lib/python3.11/dist-packages (from pandas>=2.0.0->pyLDAvis) (2025.1)\n",
            "Requirement already satisfied: threadpoolctl>=3.1.0 in /usr/local/lib/python3.11/dist-packages (from scikit-learn>=1.0.0->pyLDAvis) (3.6.0)\n",
            "Requirement already satisfied: smart-open>=1.8.1 in /usr/local/lib/python3.11/dist-packages (from gensim->pyLDAvis) (7.1.0)\n",
            "Requirement already satisfied: MarkupSafe>=2.0 in /usr/local/lib/python3.11/dist-packages (from jinja2->pyLDAvis) (3.0.2)\n",
            "Requirement already satisfied: six>=1.5 in /usr/local/lib/python3.11/dist-packages (from python-dateutil>=2.8.2->pandas>=2.0.0->pyLDAvis) (1.17.0)\n",
            "Requirement already satisfied: wrapt in /usr/local/lib/python3.11/dist-packages (from smart-open>=1.8.1->gensim->pyLDAvis) (1.17.2)\n",
            "Using cached pyLDAvis-3.4.1-py3-none-any.whl (2.6 MB)\n",
            "Installing collected packages: pyLDAvis\n",
            "Successfully installed pyLDAvis-3.4.1\n"
          ]
        },
        {
          "output_type": "display_data",
          "data": {
            "application/vnd.colab-display-data+json": {
              "pip_warning": {
                "packages": [
                  "pyLDAvis"
                ]
              },
              "id": "f167bbd4cabe4711b8277067816beead"
            }
          },
          "metadata": {}
        }
      ]
    },
    {
      "cell_type": "code",
      "source": [
        "# !pip uninstall -y numpy\n",
        "# !pip install numpy==1.23.5"
      ],
      "metadata": {
        "id": "dyXG1uz329B4"
      },
      "execution_count": null,
      "outputs": []
    },
    {
      "cell_type": "code",
      "source": [
        "!pip install konlpy"
      ],
      "metadata": {
        "colab": {
          "base_uri": "https://localhost:8080/"
        },
        "id": "0rO_LUae5j7y",
        "outputId": "adce67a5-8bde-425f-e811-8dcc8be30582"
      },
      "execution_count": null,
      "outputs": [
        {
          "output_type": "stream",
          "name": "stdout",
          "text": [
            "Requirement already satisfied: konlpy in /usr/local/lib/python3.11/dist-packages (0.6.0)\n",
            "Requirement already satisfied: JPype1>=0.7.0 in /usr/local/lib/python3.11/dist-packages (from konlpy) (1.5.2)\n",
            "Requirement already satisfied: lxml>=4.1.0 in /usr/local/lib/python3.11/dist-packages (from konlpy) (5.3.1)\n",
            "Requirement already satisfied: numpy>=1.6 in /usr/local/lib/python3.11/dist-packages (from konlpy) (1.26.4)\n",
            "Requirement already satisfied: packaging in /usr/local/lib/python3.11/dist-packages (from JPype1>=0.7.0->konlpy) (24.2)\n"
          ]
        }
      ]
    },
    {
      "cell_type": "code",
      "source": [
        "import pandas as pd\n",
        "import re\n",
        "from konlpy.tag import Okt\n",
        "from sklearn.feature_extraction.text import CountVectorizer\n",
        "from sklearn.decomposition import LatentDirichletAllocation\n",
        "import pyLDAvis\n",
        "import pyLDAvis.gensim_models as gensimvis\n",
        "import matplotlib.pyplot as plt\n",
        "import seaborn as sns"
      ],
      "metadata": {
        "id": "MtQCp5Bd2Grk"
      },
      "execution_count": null,
      "outputs": []
    },
    {
      "cell_type": "code",
      "source": [
        "# 데이터 로드\n",
        "file_path = \"/content/kakao_map_place_comment_final.csv\"  # 업로드한 파일 경로\n",
        "df = pd.read_csv(file_path)"
      ],
      "metadata": {
        "id": "yzwYQFhW2Ojv"
      },
      "execution_count": null,
      "outputs": []
    },
    {
      "cell_type": "code",
      "source": [
        "# 지역별 분류\n",
        "gentrified_regions = ['대학로', '북촌', '서촌', '홍대입구역', '합정', '연남', '해방촌', '경리단길',\n",
        "                       '종로3가', '성수동', '신사동 가로수길', '송리단길', '명동', '신림', '문래',\n",
        "                       '이수역', '용리단길']\n",
        "non_gentrified_regions = ['강남역', '압구정로데오', '건대입구역', '여의도역', '동대문', '잠실역',\n",
        "                          '회기역', '영등포', '청담', '사당']\n",
        "baseline_regions = ['성내동', '시흥동', '삼양동', '중화동', '월계동', '응암동', '신도림동',\n",
        "                    '신정동', '도봉동', '방화동']"
      ],
      "metadata": {
        "id": "eymVTlYF2Pr7"
      },
      "execution_count": null,
      "outputs": []
    },
    {
      "cell_type": "code",
      "source": [
        "# 지역별 카테고리 추가\n",
        "def categorize_region(region):\n",
        "    if region in gentrified_regions:\n",
        "        return '젠트리피케이션'\n",
        "    elif region in non_gentrified_regions:\n",
        "        return '비젠트리피케이션'\n",
        "    elif region in baseline_regions:\n",
        "        return '기본상권지'\n",
        "    else:\n",
        "        return '기타'\n",
        "\n",
        "df['category'] = df['region'].apply(categorize_region)\n",
        "\n",
        "# '기타' 지역 제외\n",
        "df = df[df['category'] != '기타']"
      ],
      "metadata": {
        "id": "9Rp-1OPA2XIL"
      },
      "execution_count": null,
      "outputs": []
    },
    {
      "cell_type": "code",
      "source": [
        "# 텍스트 전처리 함수\n",
        "okt = Okt()\n",
        "def preprocess_text(text):\n",
        "    if pd.isna(text):\n",
        "        return \"\"\n",
        "    text = re.sub(r\"[^ㄱ-ㅎㅏ-ㅣ가-힣 ]\", \"\", text)  # 한글만 남기기\n",
        "    tokens = okt.nouns(text)  # 명사 추출\n",
        "    return \" \".join(tokens)\n",
        "\n",
        "# 리뷰 데이터 전처리\n",
        "df['cleaned_comment'] = df['contents'].astype(str).apply(preprocess_text)"
      ],
      "metadata": {
        "id": "Xrzkp0A_2hXz"
      },
      "execution_count": null,
      "outputs": []
    },
    {
      "cell_type": "code",
      "source": [
        "# CountVectorizer 적용\n",
        "vectorizer = CountVectorizer(\n",
        "    max_df=0.95,\n",
        "    min_df=2,\n",
        "    max_features=1000,\n",
        "    stop_words=None\n",
        ")\n",
        "dtm = vectorizer.fit_transform(df['cleaned_comment'])"
      ],
      "metadata": {
        "id": "PPtkP2-o2mTA"
      },
      "execution_count": null,
      "outputs": []
    },
    {
      "cell_type": "code",
      "source": [
        "# LDA 모델 적용 (토픽 개수 3개)\n",
        "lda = LatentDirichletAllocation(n_components=3, random_state=42)\n",
        "lda.fit(dtm)"
      ],
      "metadata": {
        "colab": {
          "base_uri": "https://localhost:8080/",
          "height": 80
        },
        "id": "33VLY3jq2tzm",
        "outputId": "9d66b631-73df-403f-fb74-903d0ac3234c"
      },
      "execution_count": null,
      "outputs": [
        {
          "output_type": "execute_result",
          "data": {
            "text/plain": [
              "LatentDirichletAllocation(n_components=3, random_state=42)"
            ],
            "text/html": [
              "<style>#sk-container-id-2 {\n",
              "  /* Definition of color scheme common for light and dark mode */\n",
              "  --sklearn-color-text: #000;\n",
              "  --sklearn-color-text-muted: #666;\n",
              "  --sklearn-color-line: gray;\n",
              "  /* Definition of color scheme for unfitted estimators */\n",
              "  --sklearn-color-unfitted-level-0: #fff5e6;\n",
              "  --sklearn-color-unfitted-level-1: #f6e4d2;\n",
              "  --sklearn-color-unfitted-level-2: #ffe0b3;\n",
              "  --sklearn-color-unfitted-level-3: chocolate;\n",
              "  /* Definition of color scheme for fitted estimators */\n",
              "  --sklearn-color-fitted-level-0: #f0f8ff;\n",
              "  --sklearn-color-fitted-level-1: #d4ebff;\n",
              "  --sklearn-color-fitted-level-2: #b3dbfd;\n",
              "  --sklearn-color-fitted-level-3: cornflowerblue;\n",
              "\n",
              "  /* Specific color for light theme */\n",
              "  --sklearn-color-text-on-default-background: var(--sg-text-color, var(--theme-code-foreground, var(--jp-content-font-color1, black)));\n",
              "  --sklearn-color-background: var(--sg-background-color, var(--theme-background, var(--jp-layout-color0, white)));\n",
              "  --sklearn-color-border-box: var(--sg-text-color, var(--theme-code-foreground, var(--jp-content-font-color1, black)));\n",
              "  --sklearn-color-icon: #696969;\n",
              "\n",
              "  @media (prefers-color-scheme: dark) {\n",
              "    /* Redefinition of color scheme for dark theme */\n",
              "    --sklearn-color-text-on-default-background: var(--sg-text-color, var(--theme-code-foreground, var(--jp-content-font-color1, white)));\n",
              "    --sklearn-color-background: var(--sg-background-color, var(--theme-background, var(--jp-layout-color0, #111)));\n",
              "    --sklearn-color-border-box: var(--sg-text-color, var(--theme-code-foreground, var(--jp-content-font-color1, white)));\n",
              "    --sklearn-color-icon: #878787;\n",
              "  }\n",
              "}\n",
              "\n",
              "#sk-container-id-2 {\n",
              "  color: var(--sklearn-color-text);\n",
              "}\n",
              "\n",
              "#sk-container-id-2 pre {\n",
              "  padding: 0;\n",
              "}\n",
              "\n",
              "#sk-container-id-2 input.sk-hidden--visually {\n",
              "  border: 0;\n",
              "  clip: rect(1px 1px 1px 1px);\n",
              "  clip: rect(1px, 1px, 1px, 1px);\n",
              "  height: 1px;\n",
              "  margin: -1px;\n",
              "  overflow: hidden;\n",
              "  padding: 0;\n",
              "  position: absolute;\n",
              "  width: 1px;\n",
              "}\n",
              "\n",
              "#sk-container-id-2 div.sk-dashed-wrapped {\n",
              "  border: 1px dashed var(--sklearn-color-line);\n",
              "  margin: 0 0.4em 0.5em 0.4em;\n",
              "  box-sizing: border-box;\n",
              "  padding-bottom: 0.4em;\n",
              "  background-color: var(--sklearn-color-background);\n",
              "}\n",
              "\n",
              "#sk-container-id-2 div.sk-container {\n",
              "  /* jupyter's `normalize.less` sets `[hidden] { display: none; }`\n",
              "     but bootstrap.min.css set `[hidden] { display: none !important; }`\n",
              "     so we also need the `!important` here to be able to override the\n",
              "     default hidden behavior on the sphinx rendered scikit-learn.org.\n",
              "     See: https://github.com/scikit-learn/scikit-learn/issues/21755 */\n",
              "  display: inline-block !important;\n",
              "  position: relative;\n",
              "}\n",
              "\n",
              "#sk-container-id-2 div.sk-text-repr-fallback {\n",
              "  display: none;\n",
              "}\n",
              "\n",
              "div.sk-parallel-item,\n",
              "div.sk-serial,\n",
              "div.sk-item {\n",
              "  /* draw centered vertical line to link estimators */\n",
              "  background-image: linear-gradient(var(--sklearn-color-text-on-default-background), var(--sklearn-color-text-on-default-background));\n",
              "  background-size: 2px 100%;\n",
              "  background-repeat: no-repeat;\n",
              "  background-position: center center;\n",
              "}\n",
              "\n",
              "/* Parallel-specific style estimator block */\n",
              "\n",
              "#sk-container-id-2 div.sk-parallel-item::after {\n",
              "  content: \"\";\n",
              "  width: 100%;\n",
              "  border-bottom: 2px solid var(--sklearn-color-text-on-default-background);\n",
              "  flex-grow: 1;\n",
              "}\n",
              "\n",
              "#sk-container-id-2 div.sk-parallel {\n",
              "  display: flex;\n",
              "  align-items: stretch;\n",
              "  justify-content: center;\n",
              "  background-color: var(--sklearn-color-background);\n",
              "  position: relative;\n",
              "}\n",
              "\n",
              "#sk-container-id-2 div.sk-parallel-item {\n",
              "  display: flex;\n",
              "  flex-direction: column;\n",
              "}\n",
              "\n",
              "#sk-container-id-2 div.sk-parallel-item:first-child::after {\n",
              "  align-self: flex-end;\n",
              "  width: 50%;\n",
              "}\n",
              "\n",
              "#sk-container-id-2 div.sk-parallel-item:last-child::after {\n",
              "  align-self: flex-start;\n",
              "  width: 50%;\n",
              "}\n",
              "\n",
              "#sk-container-id-2 div.sk-parallel-item:only-child::after {\n",
              "  width: 0;\n",
              "}\n",
              "\n",
              "/* Serial-specific style estimator block */\n",
              "\n",
              "#sk-container-id-2 div.sk-serial {\n",
              "  display: flex;\n",
              "  flex-direction: column;\n",
              "  align-items: center;\n",
              "  background-color: var(--sklearn-color-background);\n",
              "  padding-right: 1em;\n",
              "  padding-left: 1em;\n",
              "}\n",
              "\n",
              "\n",
              "/* Toggleable style: style used for estimator/Pipeline/ColumnTransformer box that is\n",
              "clickable and can be expanded/collapsed.\n",
              "- Pipeline and ColumnTransformer use this feature and define the default style\n",
              "- Estimators will overwrite some part of the style using the `sk-estimator` class\n",
              "*/\n",
              "\n",
              "/* Pipeline and ColumnTransformer style (default) */\n",
              "\n",
              "#sk-container-id-2 div.sk-toggleable {\n",
              "  /* Default theme specific background. It is overwritten whether we have a\n",
              "  specific estimator or a Pipeline/ColumnTransformer */\n",
              "  background-color: var(--sklearn-color-background);\n",
              "}\n",
              "\n",
              "/* Toggleable label */\n",
              "#sk-container-id-2 label.sk-toggleable__label {\n",
              "  cursor: pointer;\n",
              "  display: flex;\n",
              "  width: 100%;\n",
              "  margin-bottom: 0;\n",
              "  padding: 0.5em;\n",
              "  box-sizing: border-box;\n",
              "  text-align: center;\n",
              "  align-items: start;\n",
              "  justify-content: space-between;\n",
              "  gap: 0.5em;\n",
              "}\n",
              "\n",
              "#sk-container-id-2 label.sk-toggleable__label .caption {\n",
              "  font-size: 0.6rem;\n",
              "  font-weight: lighter;\n",
              "  color: var(--sklearn-color-text-muted);\n",
              "}\n",
              "\n",
              "#sk-container-id-2 label.sk-toggleable__label-arrow:before {\n",
              "  /* Arrow on the left of the label */\n",
              "  content: \"▸\";\n",
              "  float: left;\n",
              "  margin-right: 0.25em;\n",
              "  color: var(--sklearn-color-icon);\n",
              "}\n",
              "\n",
              "#sk-container-id-2 label.sk-toggleable__label-arrow:hover:before {\n",
              "  color: var(--sklearn-color-text);\n",
              "}\n",
              "\n",
              "/* Toggleable content - dropdown */\n",
              "\n",
              "#sk-container-id-2 div.sk-toggleable__content {\n",
              "  max-height: 0;\n",
              "  max-width: 0;\n",
              "  overflow: hidden;\n",
              "  text-align: left;\n",
              "  /* unfitted */\n",
              "  background-color: var(--sklearn-color-unfitted-level-0);\n",
              "}\n",
              "\n",
              "#sk-container-id-2 div.sk-toggleable__content.fitted {\n",
              "  /* fitted */\n",
              "  background-color: var(--sklearn-color-fitted-level-0);\n",
              "}\n",
              "\n",
              "#sk-container-id-2 div.sk-toggleable__content pre {\n",
              "  margin: 0.2em;\n",
              "  border-radius: 0.25em;\n",
              "  color: var(--sklearn-color-text);\n",
              "  /* unfitted */\n",
              "  background-color: var(--sklearn-color-unfitted-level-0);\n",
              "}\n",
              "\n",
              "#sk-container-id-2 div.sk-toggleable__content.fitted pre {\n",
              "  /* unfitted */\n",
              "  background-color: var(--sklearn-color-fitted-level-0);\n",
              "}\n",
              "\n",
              "#sk-container-id-2 input.sk-toggleable__control:checked~div.sk-toggleable__content {\n",
              "  /* Expand drop-down */\n",
              "  max-height: 200px;\n",
              "  max-width: 100%;\n",
              "  overflow: auto;\n",
              "}\n",
              "\n",
              "#sk-container-id-2 input.sk-toggleable__control:checked~label.sk-toggleable__label-arrow:before {\n",
              "  content: \"▾\";\n",
              "}\n",
              "\n",
              "/* Pipeline/ColumnTransformer-specific style */\n",
              "\n",
              "#sk-container-id-2 div.sk-label input.sk-toggleable__control:checked~label.sk-toggleable__label {\n",
              "  color: var(--sklearn-color-text);\n",
              "  background-color: var(--sklearn-color-unfitted-level-2);\n",
              "}\n",
              "\n",
              "#sk-container-id-2 div.sk-label.fitted input.sk-toggleable__control:checked~label.sk-toggleable__label {\n",
              "  background-color: var(--sklearn-color-fitted-level-2);\n",
              "}\n",
              "\n",
              "/* Estimator-specific style */\n",
              "\n",
              "/* Colorize estimator box */\n",
              "#sk-container-id-2 div.sk-estimator input.sk-toggleable__control:checked~label.sk-toggleable__label {\n",
              "  /* unfitted */\n",
              "  background-color: var(--sklearn-color-unfitted-level-2);\n",
              "}\n",
              "\n",
              "#sk-container-id-2 div.sk-estimator.fitted input.sk-toggleable__control:checked~label.sk-toggleable__label {\n",
              "  /* fitted */\n",
              "  background-color: var(--sklearn-color-fitted-level-2);\n",
              "}\n",
              "\n",
              "#sk-container-id-2 div.sk-label label.sk-toggleable__label,\n",
              "#sk-container-id-2 div.sk-label label {\n",
              "  /* The background is the default theme color */\n",
              "  color: var(--sklearn-color-text-on-default-background);\n",
              "}\n",
              "\n",
              "/* On hover, darken the color of the background */\n",
              "#sk-container-id-2 div.sk-label:hover label.sk-toggleable__label {\n",
              "  color: var(--sklearn-color-text);\n",
              "  background-color: var(--sklearn-color-unfitted-level-2);\n",
              "}\n",
              "\n",
              "/* Label box, darken color on hover, fitted */\n",
              "#sk-container-id-2 div.sk-label.fitted:hover label.sk-toggleable__label.fitted {\n",
              "  color: var(--sklearn-color-text);\n",
              "  background-color: var(--sklearn-color-fitted-level-2);\n",
              "}\n",
              "\n",
              "/* Estimator label */\n",
              "\n",
              "#sk-container-id-2 div.sk-label label {\n",
              "  font-family: monospace;\n",
              "  font-weight: bold;\n",
              "  display: inline-block;\n",
              "  line-height: 1.2em;\n",
              "}\n",
              "\n",
              "#sk-container-id-2 div.sk-label-container {\n",
              "  text-align: center;\n",
              "}\n",
              "\n",
              "/* Estimator-specific */\n",
              "#sk-container-id-2 div.sk-estimator {\n",
              "  font-family: monospace;\n",
              "  border: 1px dotted var(--sklearn-color-border-box);\n",
              "  border-radius: 0.25em;\n",
              "  box-sizing: border-box;\n",
              "  margin-bottom: 0.5em;\n",
              "  /* unfitted */\n",
              "  background-color: var(--sklearn-color-unfitted-level-0);\n",
              "}\n",
              "\n",
              "#sk-container-id-2 div.sk-estimator.fitted {\n",
              "  /* fitted */\n",
              "  background-color: var(--sklearn-color-fitted-level-0);\n",
              "}\n",
              "\n",
              "/* on hover */\n",
              "#sk-container-id-2 div.sk-estimator:hover {\n",
              "  /* unfitted */\n",
              "  background-color: var(--sklearn-color-unfitted-level-2);\n",
              "}\n",
              "\n",
              "#sk-container-id-2 div.sk-estimator.fitted:hover {\n",
              "  /* fitted */\n",
              "  background-color: var(--sklearn-color-fitted-level-2);\n",
              "}\n",
              "\n",
              "/* Specification for estimator info (e.g. \"i\" and \"?\") */\n",
              "\n",
              "/* Common style for \"i\" and \"?\" */\n",
              "\n",
              ".sk-estimator-doc-link,\n",
              "a:link.sk-estimator-doc-link,\n",
              "a:visited.sk-estimator-doc-link {\n",
              "  float: right;\n",
              "  font-size: smaller;\n",
              "  line-height: 1em;\n",
              "  font-family: monospace;\n",
              "  background-color: var(--sklearn-color-background);\n",
              "  border-radius: 1em;\n",
              "  height: 1em;\n",
              "  width: 1em;\n",
              "  text-decoration: none !important;\n",
              "  margin-left: 0.5em;\n",
              "  text-align: center;\n",
              "  /* unfitted */\n",
              "  border: var(--sklearn-color-unfitted-level-1) 1pt solid;\n",
              "  color: var(--sklearn-color-unfitted-level-1);\n",
              "}\n",
              "\n",
              ".sk-estimator-doc-link.fitted,\n",
              "a:link.sk-estimator-doc-link.fitted,\n",
              "a:visited.sk-estimator-doc-link.fitted {\n",
              "  /* fitted */\n",
              "  border: var(--sklearn-color-fitted-level-1) 1pt solid;\n",
              "  color: var(--sklearn-color-fitted-level-1);\n",
              "}\n",
              "\n",
              "/* On hover */\n",
              "div.sk-estimator:hover .sk-estimator-doc-link:hover,\n",
              ".sk-estimator-doc-link:hover,\n",
              "div.sk-label-container:hover .sk-estimator-doc-link:hover,\n",
              ".sk-estimator-doc-link:hover {\n",
              "  /* unfitted */\n",
              "  background-color: var(--sklearn-color-unfitted-level-3);\n",
              "  color: var(--sklearn-color-background);\n",
              "  text-decoration: none;\n",
              "}\n",
              "\n",
              "div.sk-estimator.fitted:hover .sk-estimator-doc-link.fitted:hover,\n",
              ".sk-estimator-doc-link.fitted:hover,\n",
              "div.sk-label-container:hover .sk-estimator-doc-link.fitted:hover,\n",
              ".sk-estimator-doc-link.fitted:hover {\n",
              "  /* fitted */\n",
              "  background-color: var(--sklearn-color-fitted-level-3);\n",
              "  color: var(--sklearn-color-background);\n",
              "  text-decoration: none;\n",
              "}\n",
              "\n",
              "/* Span, style for the box shown on hovering the info icon */\n",
              ".sk-estimator-doc-link span {\n",
              "  display: none;\n",
              "  z-index: 9999;\n",
              "  position: relative;\n",
              "  font-weight: normal;\n",
              "  right: .2ex;\n",
              "  padding: .5ex;\n",
              "  margin: .5ex;\n",
              "  width: min-content;\n",
              "  min-width: 20ex;\n",
              "  max-width: 50ex;\n",
              "  color: var(--sklearn-color-text);\n",
              "  box-shadow: 2pt 2pt 4pt #999;\n",
              "  /* unfitted */\n",
              "  background: var(--sklearn-color-unfitted-level-0);\n",
              "  border: .5pt solid var(--sklearn-color-unfitted-level-3);\n",
              "}\n",
              "\n",
              ".sk-estimator-doc-link.fitted span {\n",
              "  /* fitted */\n",
              "  background: var(--sklearn-color-fitted-level-0);\n",
              "  border: var(--sklearn-color-fitted-level-3);\n",
              "}\n",
              "\n",
              ".sk-estimator-doc-link:hover span {\n",
              "  display: block;\n",
              "}\n",
              "\n",
              "/* \"?\"-specific style due to the `<a>` HTML tag */\n",
              "\n",
              "#sk-container-id-2 a.estimator_doc_link {\n",
              "  float: right;\n",
              "  font-size: 1rem;\n",
              "  line-height: 1em;\n",
              "  font-family: monospace;\n",
              "  background-color: var(--sklearn-color-background);\n",
              "  border-radius: 1rem;\n",
              "  height: 1rem;\n",
              "  width: 1rem;\n",
              "  text-decoration: none;\n",
              "  /* unfitted */\n",
              "  color: var(--sklearn-color-unfitted-level-1);\n",
              "  border: var(--sklearn-color-unfitted-level-1) 1pt solid;\n",
              "}\n",
              "\n",
              "#sk-container-id-2 a.estimator_doc_link.fitted {\n",
              "  /* fitted */\n",
              "  border: var(--sklearn-color-fitted-level-1) 1pt solid;\n",
              "  color: var(--sklearn-color-fitted-level-1);\n",
              "}\n",
              "\n",
              "/* On hover */\n",
              "#sk-container-id-2 a.estimator_doc_link:hover {\n",
              "  /* unfitted */\n",
              "  background-color: var(--sklearn-color-unfitted-level-3);\n",
              "  color: var(--sklearn-color-background);\n",
              "  text-decoration: none;\n",
              "}\n",
              "\n",
              "#sk-container-id-2 a.estimator_doc_link.fitted:hover {\n",
              "  /* fitted */\n",
              "  background-color: var(--sklearn-color-fitted-level-3);\n",
              "}\n",
              "</style><div id=\"sk-container-id-2\" class=\"sk-top-container\"><div class=\"sk-text-repr-fallback\"><pre>LatentDirichletAllocation(n_components=3, random_state=42)</pre><b>In a Jupyter environment, please rerun this cell to show the HTML representation or trust the notebook. <br />On GitHub, the HTML representation is unable to render, please try loading this page with nbviewer.org.</b></div><div class=\"sk-container\" hidden><div class=\"sk-item\"><div class=\"sk-estimator fitted sk-toggleable\"><input class=\"sk-toggleable__control sk-hidden--visually\" id=\"sk-estimator-id-2\" type=\"checkbox\" checked><label for=\"sk-estimator-id-2\" class=\"sk-toggleable__label fitted sk-toggleable__label-arrow\"><div><div>LatentDirichletAllocation</div></div><div><a class=\"sk-estimator-doc-link fitted\" rel=\"noreferrer\" target=\"_blank\" href=\"https://scikit-learn.org/1.6/modules/generated/sklearn.decomposition.LatentDirichletAllocation.html\">?<span>Documentation for LatentDirichletAllocation</span></a><span class=\"sk-estimator-doc-link fitted\">i<span>Fitted</span></span></div></label><div class=\"sk-toggleable__content fitted\"><pre>LatentDirichletAllocation(n_components=3, random_state=42)</pre></div> </div></div></div></div>"
            ]
          },
          "metadata": {},
          "execution_count": 37
        }
      ]
    },
    {
      "cell_type": "code",
      "source": [
        "lda.components_"
      ],
      "metadata": {
        "colab": {
          "base_uri": "https://localhost:8080/"
        },
        "id": "mQM9KvGcwFdS",
        "outputId": "9d4da330-3ed6-41c5-facc-ff37188a2150"
      },
      "execution_count": null,
      "outputs": [
        {
          "output_type": "execute_result",
          "data": {
            "text/plain": [
              "array([[7.07831876e+01, 2.76574639e+02, 8.96257193e+00, ...,\n",
              "        3.52456697e+01, 3.43890342e-01, 3.47320150e-01],\n",
              "       [9.20648974e+02, 3.69876902e+03, 5.11843571e+00, ...,\n",
              "        8.93156196e+01, 7.17453981e-01, 1.90453796e+01],\n",
              "       [5.41567839e+02, 2.10656339e+02, 2.66918992e+02, ...,\n",
              "        2.44387108e+01, 7.89386557e+01, 7.66073002e+01]])"
            ]
          },
          "metadata": {},
          "execution_count": 38
        }
      ]
    },
    {
      "cell_type": "code",
      "source": [
        "# 각 토픽별 주요 단어 출력\n",
        "def print_top_words(model, feature_names, n_top_words):\n",
        "    for topic_idx, topic in enumerate(model.components_):\n",
        "        print(f\"Topic {topic_idx + 1}:\")\n",
        "        print(\" \".join([feature_names[i] for i in topic.argsort()[:-n_top_words - 1:-1]]))\n",
        "        print()\n",
        "\n",
        "print_top_words(lda, vectorizer.get_feature_names_out(), 10)"
      ],
      "metadata": {
        "colab": {
          "base_uri": "https://localhost:8080/"
        },
        "id": "pmIL1PtywHY0",
        "outputId": "5d2741a6-f043-4723-f580-544d9d88cb1d"
      },
      "execution_count": null,
      "outputs": [
        {
          "output_type": "stream",
          "name": "stdout",
          "text": [
            "Topic 1:\n",
            "맛집 진짜 최고 김치 가성 칼국수 고기 만두 정말 여기\n",
            "\n",
            "Topic 2:\n",
            "가격 방문 정도 고기 웨이 생각 국물 사람 시간 포장\n",
            "\n",
            "Topic 3:\n",
            "직원 커피 분위기 사람 카페 손님 사장 음식 주문 자리\n",
            "\n"
          ]
        }
      ]
    },
    {
      "cell_type": "code",
      "source": [
        "# 문서별 토픽 분포\n",
        "doc_topic_dist = lda.transform(dtm)\n",
        "df['topic'] = doc_topic_dist.argmax(axis=1)"
      ],
      "metadata": {
        "id": "_mUQyr4B2uVc"
      },
      "execution_count": null,
      "outputs": []
    },
    {
      "cell_type": "code",
      "source": [
        "# 지역별 토픽 분포 시각화\n",
        "plt.figure(figsize=(10, 6))\n",
        "sns.countplot(data=df, x='category', hue='topic', palette='Set2')\n",
        "plt.title(\"지역별 토픽 분포\")\n",
        "plt.xlabel(\"지역 분류\")\n",
        "plt.ylabel(\"리뷰 수\")\n",
        "plt.legend(title=\"토픽\")\n",
        "plt.xticks(rotation=30)\n",
        "plt.show()"
      ],
      "metadata": {
        "colab": {
          "base_uri": "https://localhost:8080/",
          "height": 54
        },
        "id": "TRC-hy-D20VS",
        "outputId": "919194cd-5e35-4c35-eaaf-77edeff87c42"
      },
      "execution_count": null,
      "outputs": [
        {
          "output_type": "display_data",
          "data": {
            "text/plain": [
              "<Figure size 1000x600 with 1 Axes>"
            ],
            "image/png": "[encoded data removed]"
          },
          "metadata": {}
        }
      ]
    },
    {
      "cell_type": "code",
      "source": [
        "# !pip uninstall -y pyLDAvis scikit-learn sklearn\n",
        "\n",
        "# !pip install -U pyLDAvis scikit-learn"
      ],
      "metadata": {
        "id": "DGN10e1Z9eas"
      },
      "execution_count": null,
      "outputs": []
    },
    {
      "cell_type": "code",
      "source": [
        "import pyLDAvis\n",
        "import numpy as np\n",
        "\n",
        "# pyLDAvis 활성화\n",
        "pyLDAvis.enable_notebook()\n",
        "\n",
        "# 단어 목록 및 빈도 계산\n",
        "vocab = vectorizer.get_feature_names_out()\n",
        "term_frequency = np.asarray(dtm.sum(axis=0)).flatten()\n",
        "\n",
        "# BrokenProcessPool 오류 방지를 위해 `joblib` 사용 안 함\n",
        "import joblib\n",
        "joblib.parallel_backend('threading')\n",
        "\n",
        "# LDA 시각화 실행\n",
        "lda_visualization = pyLDAvis.prepare(\n",
        "    topic_term_dists=lda.components_ / lda.components_.sum(axis=1)[:, None],\n",
        "    doc_topic_dists=lda.transform(dtm),\n",
        "    doc_lengths=[len(doc.split()) for doc in df['cleaned_comment']],\n",
        "    vocab=vocab,\n",
        "    term_frequency=term_frequency\n",
        ")\n",
        "\n",
        "pyLDAvis.display(lda_visualization)"
      ],
      "metadata": {
        "colab": {
          "base_uri": "https://localhost:8080/",
          "height": 860
        },
        "id": "PvI61bGG213U",
        "outputId": "7a966765-b321-42bc-f236-e2bfdc443964"
      },
      "execution_count": null,
      "outputs": [
        {
          "output_type": "execute_result",
          "data": {
            "text/plain": [
              "<IPython.core.display.HTML object>"
            ],
            "text/html": [
              "\n",
              "<link rel=\"stylesheet\" type=\"text/css\" href=\"https://cdn.jsdelivr.net/gh/bmabey/pyLDAvis@3.4.0/pyLDAvis/js/ldavis.v1.0.0.css\">\n",
              "\n",
              "\n",
              "<div id=\"ldavis_el58281370108682742245982842105\" style=\"background-color:white;\"></div>\n",
              "<script type=\"text/javascript\">\n",
              "\n",
              "var ldavis_el58281370108682742245982842105_data = {\"mdsDat\": {\"x\": [0.21460968342398692, -0.015590230124969157, -0.19901945329901785], \"y\": [0.0757705926785919, -0.17086113268275813, 0.0950905400041663], \"topics\": [1, 2, 3], \"cluster\": [1, 1, 1], \"Freq\": [42.667379602560324, 31.21624698872773, 26.116373408711958]}, \"tinfo\": {\"Term\": [\"\\ucee4\\ud53c\", \"\\uac00\\uaca9\", \"\\uc9c1\\uc6d0\", \"\\ub9db\\uc9d1\", \"\\ucd5c\\uace0\", \"\\uc815\\ub3c4\", \"\\ubc29\\ubb38\", \"\\uae40\\uce58\", \"\\uc6e8\\uc774\", \"\\uce74\\ud398\", \"\\uce7c\\uad6d\\uc218\", \"\\uac00\\uc131\", \"\\uace0\\uae30\", \"\\uc190\\ub2d8\", \"\\ub9cc\\ub450\", \"\\ubd84\\uc704\\uae30\", \"\\ud53c\\uc790\", \"\\uc790\\ub9ac\", \"\\uae30\\ubd84\", \"\\uad6d\\ubb3c\", \"\\ud3ec\\uc7a5\", \"\\uc9c4\\uc9dc\", \"\\uc74c\\ub8cc\", \"\\uc591\\ub3c4\", \"\\uc6e8\\uc774\\ud305\", \"\\uc9ec\\ubf55\", \"\\ud30c\\uc2a4\\ud0c0\", \"\\ub0c4\\uc0c8\", \"\\ud14c\\uc774\\ube14\", \"\\ub514\\uc800\\ud2b8\", \"\\ucee4\\ud53c\", \"\\uce74\\ud398\", \"\\uc74c\\ub8cc\", \"\\ub77c\\ub5bc\", \"\\uacf5\\uac04\", \"\\ub514\\uc800\\ud2b8\", \"\\ucf00\\uc774\\ud06c\", \"\\uc5d0\\uc2a4\\ud504\\ub808\\uc18c\", \"\\uc751\\ub300\", \"\\ub0a8\\uc790\", \"\\uc54c\\ubc14\", \"\\uc758\\uc790\", \"\\uc544\\uba54\\ub9ac\\uce74\\ub178\", \"\\ubca0\\uc774\\uae00\", \"\\ub538\\uae30\", \"\\uc6d0\\ub450\", \"\\uc18c\\ub9ac\", \"\\ud654\\uc7a5\\uc2e4\", \"\\uc5ec\\uc790\", \"\\uc88c\\uc11d\", \"\\uc774\\uc6a9\", \"\\uc54c\\ubc14\\uc0dd\", \"\\ucd08\\ucf54\", \"\\uc74c\\uc545\", \"\\uc2a4\\ucf58\", \"\\ud0dc\\ub3c4\", \"\\ud655\\uc778\", \"\\uad50\\uc721\", \"\\uacc4\\uc0b0\", \"\\uace0\\uac1d\", \"\\uc190\\ub2d8\", \"\\uae30\\ubd84\", \"\\uc790\\ub9ac\", \"\\uc778\\ud14c\\ub9ac\\uc5b4\", \"\\ucd5c\\uc545\", \"\\uc548\\ub0b4\", \"\\uad00\\ub9ac\", \"\\uc9c1\\uc6d0\", \"\\ubd88\\uce5c\\uc808\", \"\\uc11c\\ube59\", \"\\ud14c\\uc774\\ube14\", \"\\ubd84\\uc704\\uae30\", \"\\ub9e4\\uc7a5\", \"\\ud06c\\ub9bc\", \"\\uc0ac\\uc7a5\", \"\\uc8fc\\ubb38\", \"\\uc0ac\\ub78c\", \"\\uc11c\\ube44\\uc2a4\", \"\\uc74c\\uc2dd\", \"\\uc8fc\\ucc28\", \"\\uc7a5\\uc0ac\", \"\\uc2dc\\uac04\", \"\\uadf8\\ub0e5\", \"\\uce5c\\uc808\", \"\\ubcc4\\ub85c\", \"\\uc815\\ub9d0\", \"\\ub2e4\\ub978\", \"\\uc9c4\\uc9dc\", \"\\ubc29\\ubb38\", \"\\uc5ec\\uae30\", \"\\uba54\\ub274\", \"\\uc0dd\\uac01\", \"\\ub77c\\uba58\", \"\\uacf1\\ucc3d\", \"\\ub300\\uad6d\", \"\\uc6b0\\ub3d9\", \"\\ucd08\\ubc25\", \"\\uc124\\ub801\\ud0d5\", \"\\uacf0\\ud0d5\", \"\\uc21c\\ub300\", \"\\uad6d\\ubc25\", \"\\uc218\\uc721\", \"\\ub3c8\\uac00\\uc2a4\", \"\\ubc29\\uc5b4\", \"\\ucc28\\uc288\", \"\\uc721\\ud68c\", \"\\ud0c0\\ucf54\", \"\\ub85c\\uc6b0\", \"\\uae40\\ubc25\", \"\\ud3ec\\uc7a5\", \"\\uc0ac\\uc8fc\", \"\\ub0b4\\uc7a5\", \"\\uc6d0\\uc870\", \"\\uc5f0\\uc5b4\", \"\\ub3c4\\uc0ad\", \"\\ube59\\uc218\", \"\\ud569\\ub9ac\", \"\\ube44\\uacc4\", \"\\uc6e8\\uc774\", \"\\uac00\\uc2b4\", \"\\ud1a0\\ub9ac\", \"\\uaf2c\\ub9ac\", \"\\ub300\\ube44\", \"\\ub3fc\\uc9c0\", \"\\ucd94\\uc5b5\", \"\\uae4d\\ub450\\uae30\", \"\\ub300\\ucc3d\", \"\\uc6e8\\uc774\\ud305\", \"\\uac00\\uba74\", \"\\uae30\\ub300\", \"\\uac00\\uaca9\", \"\\ub0c4\\uc0c8\", \"\\uc758\\uc0ac\", \"\\uc815\\ub3c4\", \"\\ube44\\ube54\\ubc25\", \"\\uc608\\uc804\", \"\\ub3c8\\uae4c\\uc2a4\", \"\\ubc29\\ubb38\", \"\\ubcf4\\ud1b5\", \"\\uc778\\ubd84\", \"\\uc0dd\\uac01\", \"\\uace0\\uae30\", \"\\ub9cc\\uc6d0\", \"\\uad6d\\ubb3c\", \"\\uac00\\uac8c\", \"\\uc874\\ub9db\", \"\\uadfc\\ucc98\", \"\\uc2dc\\uac04\", \"\\uc870\\uae08\", \"\\ucc98\\uc74c\", \"\\uc0ac\\ub78c\", \"\\ub2e4\\uc74c\", \"\\uadf8\\ub0e5\", \"\\ub290\\ub08c\", \"\\uc74c\\uc2dd\", \"\\uc9c4\\uc9dc\", \"\\ub9db\\uc9d1\", \"\\ucd94\\ucc9c\", \"\\uc815\\ub9d0\", \"\\uc5ec\\uae30\", \"\\ucd5c\\uace0\", \"\\uce7c\\uad6d\\uc218\", \"\\ub9cc\\ub450\", \"\\ud53c\\uc790\", \"\\ud30c\\uc2a4\\ud0c0\", \"\\ub9c8\\ub298\", \"\\ucf69\\uad6d\\uc218\", \"\\ub2ed\\uac08\\ube44\", \"\\ub0c9\\uba74\", \"\\ubcf4\\uc308\", \"\\ube44\\ube54\\uad6d\\uc218\", \"\\uc2e0\\ub9bc\", \"\\ubc84\\uac70\", \"\\ubcf6\\uc74c\\ubc25\", \"\\ubc84\\uc12f\", \"\\uc2a4\\ud14c\\uc774\\ud06c\", \"\\ucb48\\uafb8\\ubbf8\", \"\\uad6d\\uc218\", \"\\uce58\\ud0a8\", \"\\uc2dc\\uae08\\uce58\", \"\\uc0ac\\ub9ac\", \"\\uce74\\uce20\", \"\\uad50\\uc790\", \"\\ube44\\ube54\", \"\\ud3c9\\uc591\", \"\\ud1b5\\ub2ed\", \"\\uc721\\uc999\", \"\\uc131\\ube44\", \"\\ube44\\ub3c4\", \"\\ub9db\\ub0a8\", \"\\ub9c9\\uad6d\\uc218\", \"\\uae40\\uce58\", \"\\ub9e5\\uc8fc\", \"\\uac00\\uc131\", \"\\uc790\\uadf9\", \"\\uc0c8\\uc6b0\", \"\\uc591\\ub3c4\", \"\\ub9e4\\ucf64\", \"\\uc9ec\\ubf55\", \"\\ub9db\\uc9d1\", \"\\ub41c\\uc7a5\\ucc0c\\uac1c\", \"\\uc18c\\uc2a4\", \"\\uc9c4\\uc9dc\", \"\\ucd94\\uac00\", \"\\ubc18\\ucc2c\", \"\\uc644\\uc804\", \"\\uc5ec\\uae30\", \"\\uace0\\uae30\", \"\\uc815\\ub9d0\", \"\\ucd94\\ucc9c\", \"\\uad6d\\ubb3c\", \"\\uba54\\ub274\", \"\\uadf8\\ub0e5\", \"\\ub290\\ub08c\", \"\\ud558\\ub098\"], \"Freq\": [6957.0, 7842.0, 7967.0, 5763.0, 3365.0, 5346.0, 7205.0, 2775.0, 3094.0, 3929.0, 2366.0, 2687.0, 5325.0, 3508.0, 2085.0, 6807.0, 1788.0, 2792.0, 2702.0, 3747.0, 1800.0, 7474.0, 2355.0, 1543.0, 1716.0, 1699.0, 1226.0, 1878.0, 2860.0, 1856.0, 6955.822106466454, 3928.1914730822086, 2354.282782648983, 1772.7011199390472, 1716.8262756121524, 1855.2813738107686, 1513.0697236861704, 802.0120518511991, 855.9542884756934, 893.5519845140744, 827.0126217416434, 686.6936735864223, 656.1168808656116, 828.6634745411787, 647.098116127058, 587.6907854804251, 902.1628120015436, 1221.9158157221773, 833.7357466274099, 700.7798345719337, 664.8310886023622, 533.6221077368101, 477.81974388231174, 483.2040712203387, 492.1808772691129, 430.9823794497035, 445.3431216965731, 416.5725236559905, 732.5639301540481, 412.9554231734556, 3486.9768404949605, 2680.6647831032064, 2765.4723177412006, 1461.1885895934752, 1327.9453710436378, 665.7717522410775, 635.3943412009452, 7722.835110245558, 1355.002261802779, 771.5119691111222, 2703.3574393588938, 6013.6379774892475, 2419.1078592448844, 1357.6061176921462, 3325.8974331833188, 3017.2139253309606, 4200.830082853844, 2261.663825740271, 3179.325545620466, 1244.480867532095, 964.5584154614083, 2213.822714712315, 2311.204627314349, 1169.8480766043504, 1715.2093401633417, 2077.133727678675, 1608.551288258616, 2204.4534476130084, 1612.547413819486, 1444.9608182898137, 1407.2470377837521, 1398.4749835335404, 1136.9040935714831, 1039.0477646569243, 905.5110656170658, 843.3890565538795, 700.4268502603181, 634.5806263916159, 542.4001506038256, 508.5495860947745, 508.5356425572871, 802.8250668280946, 399.3898879664198, 342.997882426871, 341.09953182816264, 352.2633921106336, 324.1558374926059, 309.08379471317517, 309.0699339069204, 1792.4175188232168, 275.2571002121608, 267.7473222342144, 265.865055481298, 263.9053105213362, 250.78029825572386, 407.8795989527298, 222.38659067800148, 192.43689849681104, 3073.435362058771, 183.01315899414183, 158.6412314869576, 160.5046635725432, 941.9981941595266, 653.1875627429321, 530.4068225750826, 369.4515492764483, 290.76587980026096, 1664.9285363414144, 1255.2069506973573, 876.3018009805689, 6958.564307993208, 1727.2213334124904, 1298.8304039376735, 4534.059550853431, 470.0473345335043, 1109.1899461920138, 1496.208357688411, 5371.70767629649, 932.8914291813295, 772.0347665293942, 2880.814735396769, 3176.289852244652, 719.5291817750895, 2149.655263316404, 1732.034373889837, 1089.6587181458437, 1091.6026757204556, 1883.189100734746, 1397.4141748609304, 1325.6129233788129, 1911.1141766447718, 1063.1071395805677, 1432.4579515598475, 1273.5132581559874, 1378.4325726595873, 1380.7792850830367, 1287.141843456109, 1137.753316045226, 1137.1704347098887, 1114.9988328076684, 3363.7543425160507, 2365.6671483173395, 2084.6238672165423, 1787.1605356615878, 1225.0187068485604, 1146.5800045377919, 987.8500513123065, 916.7002080960942, 1084.2648431659327, 885.6291873337808, 566.301951336267, 571.745892709817, 1030.6126475710162, 1013.9119799992355, 476.87498644035173, 635.1158640270519, 447.62203664153145, 642.3090307631279, 483.81593825398346, 438.1969119671208, 356.360560075733, 369.06411704786893, 332.69045669634124, 574.3886564963659, 310.81191375059217, 419.7689587085918, 310.65432794590447, 294.29803134471746, 292.45392412137465, 308.7896717678882, 830.0097254070729, 2727.291529672545, 831.0804099875197, 2575.8817394853813, 509.7310288624393, 946.8900899906376, 1481.5493418126566, 423.64696672280417, 1484.1071964626817, 4465.997165589402, 642.9650758518344, 1097.1514635742578, 3888.929560665902, 1191.6927925894277, 995.5622831249768, 944.6298264021896, 1950.8420797553692, 2146.839918706218, 2078.937626518383, 1630.3839888940454, 1596.8544140278104, 1379.633077310681, 1266.9746643047708, 1041.9730589337582, 949.3423541972619], \"Total\": [6957.0, 7842.0, 7967.0, 5763.0, 3365.0, 5346.0, 7205.0, 2775.0, 3094.0, 3929.0, 2366.0, 2687.0, 5325.0, 3508.0, 2085.0, 6807.0, 1788.0, 2792.0, 2702.0, 3747.0, 1800.0, 7474.0, 2355.0, 1543.0, 1716.0, 1699.0, 1226.0, 1878.0, 2860.0, 1856.0, 6957.089062119868, 3929.7100426806596, 2355.678147630603, 1773.9671990797938, 1718.139801816645, 1856.822185597581, 1514.6443086362633, 803.2568919509124, 857.2880853043164, 895.115062943492, 828.4745515617653, 687.9982945416169, 657.38079568784, 830.2866836642742, 648.3765784213493, 588.9446675277467, 904.1389892763679, 1224.7063746608212, 835.6848543416526, 702.4201592314504, 666.3954944624206, 534.9175117840246, 479.08734725106615, 484.4909863897481, 493.4968436161246, 432.2632049498681, 446.67184310393446, 417.8554807745724, 734.8496780651711, 414.2544608685317, 3508.966338565102, 2702.0934450149034, 2792.593856972691, 1467.9589602322137, 1338.4722725038657, 668.2374955717765, 637.6097368003261, 7967.365045695485, 1385.3476183467208, 778.1791424107811, 2860.507576771862, 6807.029133293364, 2664.6620617561625, 1489.3486345411939, 4242.876177437515, 4023.8369506127788, 6512.686778315325, 3326.5424880005085, 5335.069280935904, 1486.0885395618488, 1054.9230875756482, 4133.054656573665, 5010.637243178968, 1486.6590167553231, 3386.5400549765955, 5293.241788906947, 3094.676189861154, 7474.162293361947, 7205.660163676972, 4510.8017308528515, 3691.0672127898456, 4682.970099389652, 1138.1511002505113, 1040.3214859007016, 906.7490433308794, 844.6643140739387, 701.6846061053129, 635.8385393000203, 543.6539985992503, 509.79067079821715, 509.7901342259478, 805.125044501797, 400.672562919886, 344.2347047095136, 342.35300709361667, 353.6369245808661, 325.4205344074953, 310.36937845553746, 310.368544885523, 1800.089376957442, 276.5065991402279, 268.98207309207424, 267.1006660728605, 265.21692309113223, 252.04914773077851, 410.0397911322965, 223.82377854410976, 193.72749203442314, 3094.0827835954815, 184.3201811961837, 159.86599078139653, 161.74650997448884, 953.412869260784, 660.1201931245596, 535.9661302349664, 372.40141129843676, 293.3960701888936, 1716.0550962435232, 1305.4827706836847, 909.3348266657898, 7842.673687925731, 1878.9975136007563, 1395.4560738996904, 5346.173130823558, 486.73689350446205, 1227.6031359102353, 1728.416141182428, 7205.660163676972, 1066.8859175284747, 873.5455369049442, 4682.970099389652, 5325.419565140373, 836.0179846162025, 3747.1303910532924, 2836.5428597059454, 1578.364920498212, 1587.3096540168858, 4133.054656573665, 2545.699833093852, 2532.3557898653858, 6512.686778315325, 1818.447880350311, 5010.637243178968, 3608.758974932406, 5335.069280935904, 7474.162293361947, 5763.245089167883, 3616.0944480220683, 5293.241788906947, 4510.8017308528515, 3365.177279585709, 2366.9426051139053, 2085.903881101576, 1788.440349494992, 1226.3627556100835, 1147.8923596202605, 989.1225577720273, 917.94976484049, 1085.852499639349, 886.927023288424, 567.5639194532343, 573.0378427977384, 1032.952426176704, 1016.5346995936858, 478.1424545636739, 636.9235161058092, 448.9433630867114, 644.2299340890299, 485.45198886873345, 439.8298369325529, 357.69784242844634, 370.4747612796169, 333.9728339048627, 576.720719412926, 312.0740758380897, 421.58602324944314, 312.07867002591223, 295.65136156251793, 293.8258308386809, 310.2492294746843, 834.0878655101418, 2775.3020484050426, 837.5861882349792, 2687.1029095659883, 514.7531121675426, 969.6934462874508, 1543.8338387401725, 428.9916364666459, 1699.8992074832265, 5763.245089167883, 678.0719233805924, 1405.265121523369, 7474.162293361947, 1700.0671739153017, 1419.4494619305522, 1327.0822386701464, 4510.8017308528515, 5325.419565140373, 5293.241788906947, 3616.0944480220683, 3747.1303910532924, 3691.0672127898456, 5010.637243178968, 3608.758974932406, 3022.1058476560684], \"Category\": [\"Default\", \"Default\", \"Default\", \"Default\", \"Default\", \"Default\", \"Default\", \"Default\", \"Default\", \"Default\", \"Default\", \"Default\", \"Default\", \"Default\", \"Default\", \"Default\", \"Default\", \"Default\", \"Default\", \"Default\", \"Default\", \"Default\", \"Default\", \"Default\", \"Default\", \"Default\", \"Default\", \"Default\", \"Default\", \"Default\", \"Topic1\", \"Topic1\", \"Topic1\", \"Topic1\", \"Topic1\", \"Topic1\", \"Topic1\", \"Topic1\", \"Topic1\", \"Topic1\", \"Topic1\", \"Topic1\", \"Topic1\", \"Topic1\", \"Topic1\", \"Topic1\", \"Topic1\", \"Topic1\", \"Topic1\", \"Topic1\", \"Topic1\", \"Topic1\", \"Topic1\", \"Topic1\", \"Topic1\", \"Topic1\", \"Topic1\", \"Topic1\", \"Topic1\", \"Topic1\", \"Topic1\", \"Topic1\", \"Topic1\", \"Topic1\", \"Topic1\", \"Topic1\", \"Topic1\", \"Topic1\", \"Topic1\", \"Topic1\", \"Topic1\", \"Topic1\", \"Topic1\", \"Topic1\", \"Topic1\", \"Topic1\", \"Topic1\", \"Topic1\", \"Topic1\", \"Topic1\", \"Topic1\", \"Topic1\", \"Topic1\", \"Topic1\", \"Topic1\", \"Topic1\", \"Topic1\", \"Topic1\", \"Topic1\", \"Topic1\", \"Topic1\", \"Topic1\", \"Topic2\", \"Topic2\", \"Topic2\", \"Topic2\", \"Topic2\", \"Topic2\", \"Topic2\", \"Topic2\", \"Topic2\", \"Topic2\", \"Topic2\", \"Topic2\", \"Topic2\", \"Topic2\", \"Topic2\", \"Topic2\", \"Topic2\", \"Topic2\", \"Topic2\", \"Topic2\", \"Topic2\", \"Topic2\", \"Topic2\", \"Topic2\", \"Topic2\", \"Topic2\", \"Topic2\", \"Topic2\", \"Topic2\", \"Topic2\", \"Topic2\", \"Topic2\", \"Topic2\", \"Topic2\", \"Topic2\", \"Topic2\", \"Topic2\", \"Topic2\", \"Topic2\", \"Topic2\", \"Topic2\", \"Topic2\", \"Topic2\", \"Topic2\", \"Topic2\", \"Topic2\", \"Topic2\", \"Topic2\", \"Topic2\", \"Topic2\", \"Topic2\", \"Topic2\", \"Topic2\", \"Topic2\", \"Topic2\", \"Topic2\", \"Topic2\", \"Topic2\", \"Topic2\", \"Topic2\", \"Topic2\", \"Topic2\", \"Topic2\", \"Topic2\", \"Topic2\", \"Topic2\", \"Topic2\", \"Topic2\", \"Topic3\", \"Topic3\", \"Topic3\", \"Topic3\", \"Topic3\", \"Topic3\", \"Topic3\", \"Topic3\", \"Topic3\", \"Topic3\", \"Topic3\", \"Topic3\", \"Topic3\", \"Topic3\", \"Topic3\", \"Topic3\", \"Topic3\", \"Topic3\", \"Topic3\", \"Topic3\", \"Topic3\", \"Topic3\", \"Topic3\", \"Topic3\", \"Topic3\", \"Topic3\", \"Topic3\", \"Topic3\", \"Topic3\", \"Topic3\", \"Topic3\", \"Topic3\", \"Topic3\", \"Topic3\", \"Topic3\", \"Topic3\", \"Topic3\", \"Topic3\", \"Topic3\", \"Topic3\", \"Topic3\", \"Topic3\", \"Topic3\", \"Topic3\", \"Topic3\", \"Topic3\", \"Topic3\", \"Topic3\", \"Topic3\", \"Topic3\", \"Topic3\", \"Topic3\", \"Topic3\", \"Topic3\", \"Topic3\"], \"logprob\": [30.0, 29.0, 28.0, 27.0, 26.0, 25.0, 24.0, 23.0, 22.0, 21.0, 20.0, 19.0, 18.0, 17.0, 16.0, 15.0, 14.0, 13.0, 12.0, 11.0, 10.0, 9.0, 8.0, 7.0, 6.0, 5.0, 4.0, 3.0, 2.0, 1.0, -3.548, -4.1194, -4.6314, -4.9151, -4.9471, -4.8696, -5.0735, -5.7082, -5.6431, -5.6001, -5.6775, -5.8635, -5.909, -5.6755, -5.9228, -6.0191, -5.5906, -5.2872, -5.6694, -5.8432, -5.8958, -6.1157, -6.2261, -6.2149, -6.1965, -6.3293, -6.2965, -6.3633, -5.7988, -6.372, -4.2386, -4.5015, -4.4704, -5.1083, -5.204, -5.8944, -5.9411, -3.4434, -5.1838, -5.747, -4.4931, -3.6936, -4.6042, -5.1819, -4.2859, -4.3833, -4.0523, -4.6715, -4.3309, -5.2689, -5.5237, -4.6929, -4.6498, -5.3307, -4.9481, -4.7566, -5.0123, -4.6971, -5.0098, -5.1195, -5.146, -5.1522, -5.0468, -5.1368, -5.2744, -5.3454, -5.5312, -5.6299, -5.7868, -5.8513, -5.8513, -5.3947, -6.0929, -6.2451, -6.2507, -6.2185, -6.3016, -6.3492, -6.3493, -4.5915, -6.4651, -6.4928, -6.4999, -6.5073, -6.5583, -6.0719, -6.6784, -6.8231, -4.0523, -6.8733, -7.0162, -7.0045, -5.2348, -5.601, -5.8092, -6.1708, -6.4103, -4.6653, -4.9478, -5.3071, -3.2351, -4.6286, -4.9136, -3.6635, -5.93, -5.0715, -4.7722, -3.4939, -5.2446, -5.4338, -4.117, -4.0194, -5.5043, -4.4098, -4.6258, -5.0892, -5.0874, -4.5421, -4.8405, -4.8932, -4.5274, -5.1139, -4.8157, -4.9333, -4.8541, -4.8524, -4.9227, -5.046, -5.0466, -5.0662, -3.7837, -4.1357, -4.2621, -4.4161, -4.7938, -4.8599, -5.0089, -5.0837, -4.9158, -5.1182, -5.5653, -5.5558, -4.9666, -4.9829, -5.7372, -5.4507, -5.8005, -5.4394, -5.7228, -5.8218, -6.0285, -5.9935, -6.0973, -5.5512, -6.1653, -5.8648, -6.1658, -6.2199, -6.2262, -6.1718, -5.183, -3.9934, -5.1817, -4.0505, -5.6706, -5.0513, -4.6036, -5.8556, -4.6019, -3.5002, -5.4384, -4.904, -3.6386, -4.8213, -5.0012, -5.0537, -4.3285, -4.2327, -4.2649, -4.5079, -4.5287, -4.6749, -4.7601, -4.9556, -5.0487], \"loglift\": [30.0, 29.0, 28.0, 27.0, 26.0, 25.0, 24.0, 23.0, 22.0, 21.0, 20.0, 19.0, 18.0, 17.0, 16.0, 15.0, 14.0, 13.0, 12.0, 11.0, 10.0, 9.0, 8.0, 7.0, 6.0, 5.0, 4.0, 3.0, 2.0, 1.0, 0.8516, 0.8513, 0.8511, 0.851, 0.851, 0.8509, 0.8507, 0.8502, 0.8502, 0.85, 0.85, 0.8498, 0.8498, 0.8498, 0.8498, 0.8496, 0.8495, 0.8495, 0.8494, 0.8494, 0.8494, 0.8493, 0.8491, 0.8491, 0.8491, 0.8488, 0.8488, 0.8487, 0.8486, 0.8486, 0.8454, 0.8438, 0.842, 0.8471, 0.8438, 0.848, 0.8483, 0.8206, 0.8296, 0.8431, 0.7952, 0.7278, 0.7551, 0.7591, 0.6082, 0.5638, 0.4133, 0.4659, 0.3341, 0.6743, 0.7622, 0.2274, 0.0779, 0.6121, 0.1715, -0.0837, 0.1974, -0.3692, -0.6453, -0.2867, -0.1125, -0.3568, 1.1631, 1.163, 1.1629, 1.1627, 1.1624, 1.1623, 1.1619, 1.1618, 1.1618, 1.1614, 1.161, 1.1606, 1.1606, 1.1603, 1.1603, 1.1601, 1.16, 1.16, 1.1597, 1.1596, 1.1596, 1.1593, 1.1592, 1.1589, 1.1578, 1.1575, 1.1575, 1.1571, 1.1565, 1.1565, 1.1522, 1.1537, 1.1538, 1.1563, 1.1552, 1.134, 1.125, 1.1272, 1.0446, 1.08, 1.0925, 0.9995, 1.1293, 1.0628, 1.02, 0.8705, 1.03, 1.0407, 0.6784, 0.6475, 1.0142, 0.6085, 0.6709, 0.7937, 0.7898, 0.3782, 0.5644, 0.517, -0.0618, 0.6274, -0.0879, 0.1226, -0.1891, -0.5246, -0.3348, 0.0079, -0.3737, -0.2334, 1.3422, 1.3421, 1.342, 1.3419, 1.3415, 1.3415, 1.3413, 1.3412, 1.3411, 1.3411, 1.3404, 1.3404, 1.3403, 1.34, 1.34, 1.3398, 1.3397, 1.3396, 1.3392, 1.3389, 1.3389, 1.3388, 1.3388, 1.3386, 1.3386, 1.3383, 1.338, 1.338, 1.3379, 1.3379, 1.3377, 1.3252, 1.3348, 1.3003, 1.3328, 1.3188, 1.3014, 1.3301, 1.2069, 1.0876, 1.2894, 1.0951, 0.6893, 0.9873, 0.9879, 1.0027, 0.5044, 0.4341, 0.408, 0.546, 0.4897, 0.3585, -0.0323, 0.1004, 0.1847]}, \"token.table\": {\"Topic\": [1, 2, 3, 1, 2, 3, 1, 2, 3, 1, 2, 3, 1, 2, 3, 1, 2, 3, 1, 2, 3, 1, 2, 3, 1, 2, 3, 1, 2, 3, 1, 2, 3, 1, 2, 3, 1, 2, 3, 1, 2, 3, 1, 2, 3, 1, 2, 3, 1, 2, 3, 1, 2, 3, 1, 2, 3, 1, 2, 3, 1, 2, 3, 1, 2, 3, 1, 2, 3, 1, 2, 3, 1, 2, 3, 1, 2, 3, 1, 2, 3, 1, 2, 3, 1, 2, 3, 1, 2, 3, 1, 2, 3, 1, 2, 3, 1, 2, 3, 1, 2, 3, 1, 2, 3, 1, 2, 3, 1, 2, 3, 1, 2, 3, 1, 2, 3, 1, 2, 3, 1, 2, 3, 1, 2, 3, 1, 2, 3, 1, 2, 3, 1, 2, 3, 1, 2, 3, 1, 2, 3, 1, 2, 3, 1, 2, 3, 1, 2, 3, 1, 2, 3, 1, 2, 3, 1, 2, 3, 1, 2, 3, 1, 2, 3, 1, 2, 3, 1, 2, 3, 1, 2, 3, 1, 2, 3, 1, 2, 3, 1, 2, 3, 1, 2, 3, 1, 2, 3, 1, 2, 3, 1, 2, 3, 1, 2, 3, 1, 2, 3, 1, 2, 3, 1, 2, 3, 1, 2, 3, 1, 2, 3, 1, 2, 3, 1, 2, 3, 1, 2, 3, 1, 2, 3, 1, 2, 3, 1, 2, 3, 1, 2, 3, 1, 2, 3, 1, 2, 3, 1, 2, 3, 1, 2, 3, 1, 2, 3, 1, 2, 3, 1, 2, 3, 1, 2, 3, 1, 2, 3, 1, 2, 3, 1, 2, 3, 1, 2, 3, 1, 2, 3, 1, 2, 3, 1, 2, 3, 1, 2, 3, 1, 2, 3, 1, 2, 3, 1, 2, 3, 1, 2, 3, 1, 2, 3, 1, 2, 3, 1, 2, 3, 1, 2, 3, 1, 2, 3, 1, 2, 3, 1, 2, 3, 1, 2, 3, 1, 2, 3, 1, 2, 3, 1, 2, 3, 1, 2, 3, 1, 2, 3, 1, 2, 3, 1, 2, 3, 1, 2, 3, 1, 2, 3, 1, 2, 3, 1, 2, 3, 1, 2, 3, 1, 2, 3, 1, 2, 3, 1, 2, 3, 1, 2, 3, 1, 2, 3, 1, 2, 3, 1, 2, 3, 1, 2, 3, 1, 2, 3, 1, 2, 3, 1, 2, 3, 1, 2, 3, 1, 2, 3, 1, 2, 3, 1, 2, 3, 1, 2, 3, 1, 2, 3, 1, 2, 3, 1, 2, 3, 1, 2, 3, 1, 2, 3, 1, 2, 3, 1, 2, 3, 1, 2, 3, 1, 2, 3, 1, 2, 3, 1, 2, 3, 1, 2, 3, 1, 2, 3, 1, 2, 3, 1, 2, 3, 1, 2, 3, 1, 2, 3, 1, 2, 3, 1, 2, 3, 1, 2, 3, 1, 2, 3, 1, 2, 3, 1, 2, 3, 1, 2, 3, 1, 2, 3, 1, 2, 3, 1, 2, 3, 1, 2, 3, 1, 2, 3, 1, 2, 3, 1, 2, 3, 1, 2, 3], \"Freq\": [0.343728280594736, 0.6106024430667515, 0.045477895586380455, 0.04832535626000777, 0.8873249451540741, 0.064391305834575, 0.026810005299166384, 0.961330190012966, 0.011490002271071307, 0.005954368157259845, 0.03535406093373033, 0.958653273318835, 0.005425341888827878, 0.9928375656555016, 0.005425341888827878, 0.9974829164108212, 0.0013608225326204929, 0.0013608225326204929, 0.9969717625589316, 0.0024139752120070986, 0.0024139752120070986, 0.00037555726371153665, 0.5963849347739202, 0.4031607225943346, 0.0018394052146706295, 0.9969576263514811, 0.0018394052146706295, 0.0009612413216037813, 0.9987297331463287, 0.0009612413216037813, 0.9993366070587272, 0.0005820248148274474, 0.0005820248148274474, 0.9959069997685067, 0.0031367149599008087, 0.0015683574799504043, 0.9979526874387609, 0.0023931719123231675, 0.0023931719123231675, 0.002994255515659293, 0.002994255515659293, 0.9970870867145446, 0.0002668708840203735, 0.573772400643803, 0.4261928017805365, 0.001961591511609722, 0.9984500794093485, 0.001961591511609722, 0.0015522408182011053, 0.0015522408182011053, 0.9965386052851096, 0.4612187807341248, 0.2857919922160393, 0.25286204897885595, 0.27089862328489667, 0.6879565037839701, 0.041579788690239955, 0.01649557408353061, 0.9633415264781875, 0.01979468890023673, 0.9921936655988642, 0.004811084540389868, 0.0029606674094706876, 0.0032219759910555434, 0.995590581236163, 0.0032219759910555434, 0.0003603211407474357, 0.01693509361512948, 0.9825957508182572, 0.002685274463685143, 0.9908662770998177, 0.005370548927370286, 0.0061825136144064135, 0.9953846919194326, 0.0061825136144064135, 0.9987542797684297, 0.0011171748095843734, 0.0011171748095843734, 0.0037177198781485105, 0.9963489273438008, 0.0037177198781485105, 0.0542842655520792, 0.9191071236121645, 0.02660993409415647, 0.000920935394385643, 0.000920935394385643, 0.9982939675140369, 0.35829491772146366, 0.35302994986631453, 0.2887419213192306, 0.51992515574697, 0.3053631275207499, 0.17481635131082085, 0.22711676505154413, 0.5845644582319405, 0.1886223980936553, 0.0010893842324517264, 0.0010893842324517264, 0.9989653411582331, 0.0011028409760726846, 0.9991739243218521, 0.0011028409760726846, 0.005244317715027996, 0.9880294575112745, 0.007342044801039194, 0.003408361943485413, 0.9918333255542552, 0.006816723886970826, 0.003967480187904189, 0.9958375271639516, 0.003967480187904189, 0.0024958035377130347, 0.9958256115475009, 0.0024958035377130347, 0.03644955546232114, 0.8655323011370227, 0.09777737893860751, 0.0015148756399447209, 0.9892137928839028, 0.009089253839668326, 0.001474769807625133, 0.050142173459254515, 0.9482769863029604, 0.9990186536913902, 0.0005385545302918546, 0.0005385545302918546, 0.9978768844107525, 0.0015423135771418122, 0.0015423135771418122, 0.9994547818695321, 0.0005637082808062786, 0.0005637082808062786, 0.0008786179618680651, 0.99898862264399, 0.0008786179618680651, 0.0032219673376806947, 0.9955879073433347, 0.0032219673376806947, 0.0008711618224646208, 0.0008711618224646208, 0.99922261036692, 0.0011989144565583431, 0.003596743369675029, 0.9950989989434248, 0.00047940847565415865, 0.00047940847565415865, 0.9995666717389208, 0.11602621209701675, 0.861225491854145, 0.022726783812817713, 0.003223215096112263, 0.003223215096112263, 0.9959734646986892, 0.0017351335654274308, 0.22331168987051034, 0.7749106503198906, 0.9078074232068822, 0.08669016732566755, 0.005253949534888942, 0.002331047775747838, 0.011655238878739189, 0.9883642569170833, 0.007163441905177094, 0.0011939069841961825, 0.9921367038670276, 0.38119056600341267, 0.24491561596807748, 0.373875608446844, 0.004226990929173042, 0.294480368065722, 0.701680494242725, 0.22385180030151508, 0.745525028654519, 0.03067033345730616, 0.0029049947210983895, 0.9964131893367476, 0.0029049947210983895, 0.0009680987958964657, 0.0019361975917929315, 0.9981098585692562, 0.0020914269177635444, 0.0020914269177635444, 0.9976106397732106, 0.9984503139823998, 0.0012044032738026537, 0.0012044032738026537, 0.506416570351728, 0.23770573710387236, 0.25571822153037693, 0.0011274884784684312, 0.0011274884784684312, 0.9989547919230299, 0.09091881184888835, 0.8745077469588951, 0.03468037152998834, 0.0009837342497011712, 0.0019674684994023424, 0.9975065291969877, 0.883498495780687, 0.0796235757753795, 0.03687364856018497, 0.9780938603821778, 0.0007218404873669209, 0.021655214621007626, 0.005161889980087656, 0.99108287617683, 0.005161889980087656, 0.0034033767458281424, 0.0034033767458281424, 0.9937860097818176, 0.0017339415185532992, 0.0034678830371065983, 0.9952824316495937, 0.001761916086849487, 0.001761916086849487, 0.9972445051568095, 0.0020544980529420926, 0.9656140848827836, 0.03287196884707348, 0.0048775754042726886, 0.9950253824716285, 0.0024387877021363443, 0.6450486785250706, 0.2934272850896001, 0.06157213046621122, 0.0027956556662765988, 0.0027956556662765988, 0.9952534171944691, 0.783902207112897, 0.08932619858562477, 0.12680077793948846, 0.0036165502129403386, 0.9945513085585932, 0.0036165502129403386, 0.0010312537470770584, 0.022687582435695287, 0.9765972984819744, 0.2985284916045495, 0.6152078571621653, 0.08627003620045635, 0.6799853025053725, 0.09769903771628914, 0.22245319356939683, 0.9920594859537892, 0.0038551534428256057, 0.005140204590434141, 0.001572726310520398, 0.9986812071804527, 0.001572726310520398, 0.0033823622347449993, 0.0033823622347449993, 0.9944144970150298, 0.9976342251559356, 0.0011060246398624564, 0.0011060246398624564, 0.0007116094925318833, 0.21846411420728817, 0.780635613307476, 0.9937399403568845, 0.004274763150373751, 0.001994889470174417, 0.0012420430923482074, 0.9973606031556105, 0.0024840861846964148, 0.0019615894469669787, 0.9984490285061923, 0.0019615894469669787, 0.9969668628371432, 0.002026355412270616, 0.002026355412270616, 0.0015700472265713526, 0.0015700472265713526, 0.9969799888728089, 0.5356812778845329, 0.4555952331782183, 0.008710264681049315, 0.00227360655423963, 0.00227360655423963, 0.995839670756958, 0.0017450854469186665, 0.0017450854469186665, 0.9981888756374773, 0.9978995497025507, 0.0015211883379612054, 0.0015211883379612054, 0.9966516461787855, 0.0029929478864227795, 0.0014964739432113898, 0.9982201607050143, 0.0012070376792079978, 0.0012070376792079978, 0.998284760240949, 0.0018694471165560844, 0.0018694471165560844, 0.001295476203340689, 0.03886428610022067, 0.9599478666754505, 0.9984352553168143, 0.0012449317397965267, 0.0012449317397965267, 0.320342166696561, 0.2471844400461353, 0.43251734756054705, 0.9979838639734833, 0.0011966233380977017, 0.0011966233380977017, 0.0037704984596943917, 0.9954115933593194, 0.0037704984596943917, 0.05946547207691224, 0.9033864182643243, 0.036656797855630835, 0.25695468604998595, 0.031648377753957214, 0.7120884994640374, 0.001183902271396852, 0.9980296147875461, 0.001183902271396852, 0.9983959995228208, 0.0016979523801408517, 0.0016979523801408517, 0.0037439068000197986, 0.9958792088052664, 0.0037439068000197986, 0.0012927902321190634, 0.9931860958254703, 0.005494358486506019, 0.0005827318727638866, 0.9702485681518712, 0.029136593638194333, 0.0032043202437288293, 0.0032043202437288293, 0.9965435957996659, 0.002827759010700621, 0.9953711717666186, 0.002827759010700621, 0.9992876159112438, 0.0004245062089682429, 0.0004245062089682429, 0.5958685506408876, 0.25829092884024635, 0.14564009557973254, 0.9969225714582258, 0.002064021887077072, 0.002064021887077072, 0.9984974883864632, 0.001166469028488859, 0.001166469028488859, 0.06592826655080598, 0.9308784592336627, 0.0035830579647177165, 0.9985489868949718, 0.0014534919751018512, 0.0014534919751018512, 0.9979059065164503, 0.001500610385739023, 0.001500610385739023, 0.0011447600127900556, 0.883754729873923, 0.11562076129179562, 0.9952594313460147, 0.0020436538631335003, 0.0020436538631335003, 0.0019426788811225655, 0.007770715524490262, 0.9907662293725084, 0.9901189151069021, 0.0093103406122168, 0.0003580900235468, 0.9147586315678204, 0.06351173918657406, 0.02180253733270453, 0.1268196864203604, 0.848083271725537, 0.02506465778809483, 0.3923871387006676, 0.21480220351596488, 0.39276497898829466, 0.3225046367710283, 0.548768547587243, 0.12845190770295523, 0.0006335670458795734, 0.6905880800087351, 0.30918071838923183, 0.9979781912395507, 0.0014236493455628398, 0.0014236493455628398, 0.749781871638847, 0.19583298470381552, 0.05417714551450734, 0.837096826254225, 0.01682268541507687, 0.14602090940286722, 0.9693292519805519, 0.0015061441180586072, 0.029118786282466405, 0.29488254515926765, 0.1847698706283796, 0.5203258702923739, 0.0011765403449779152, 0.12530154674014796, 0.872992935973613, 0.0022274524633229837, 0.0022274524633229837, 0.9978987035686968, 0.002920961636906403, 0.9960479181850835, 0.002920961636906403, 0.3858067669282503, 0.5236231043468371, 0.09082452036181941, 0.0014251417108185984, 0.9975991975730188, 0.0014251417108185984, 0.9977303778584319, 0.002087302045728937, 0.002087302045728937, 0.0002971611647523994, 0.0002971611647523994, 0.9996501582270715, 0.9921759511056024, 0.005976963560877123, 0.002241361335328921, 0.09352571618321327, 0.2052860059618958, 0.7011487653483662, 0.005597368622313515, 0.988868456608721, 0.005597368622313515, 0.23450714913263374, 0.3147041694728033, 0.45076256260164266, 0.002059935942028658, 0.002059935942028658, 0.9970089959418704, 0.7869995653432078, 0.007399141212628449, 0.2058306555513005, 0.0026992392047058963, 0.0026992392047058963, 0.9960192665364758, 0.9995648425298338, 0.00025447170125504935, 0.00025447170125504935, 0.0004224859520629891, 0.0004224859520629891, 0.9996017625810323, 0.9998434600865185, 0.00014373827775826888, 0.00014373827775826888, 0.9989143928862455, 0.0006602210131435859, 0.0006602210131435859, 0.0010109970621360348, 0.0010109970621360348, 0.9988650973904024, 0.9118080001586352, 0.0006714344625615871, 0.0879579145955679, 0.0030729468311541416, 0.9956347732939418, 0.0030729468311541416, 0.9970776949427962, 0.002313405324693263, 0.002313405324693263, 0.9449371929475493, 0.025170358080733833, 0.029715006067533, 0.006255239123169211, 0.9945830205839046, 0.006255239123169211, 0.002371995144175646, 0.002371995144175646, 0.9962379605537712, 0.0008154194143824322, 0.0008154194143824322, 0.9988887826184794, 0.0032043674160195865, 0.0032043674160195865, 0.9965582663820914, 0.003888695800111649, 0.9955061248285821, 0.0005555279714445213, 0.0005591464094859935, 0.0005591464094859935, 0.9991946337514702, 0.4328107835847242, 0.2531347472800566, 0.31401944466506365, 0.004467800546057382, 0.9918517212247386, 0.004467800546057382, 0.997790184882829, 0.0008165222462216276, 0.0016330444924432552, 0.9962571110542433, 0.002238780024840996, 0.002238780024840996], \"Term\": [\"\\uac00\\uac8c\", \"\\uac00\\uac8c\", \"\\uac00\\uac8c\", \"\\uac00\\uaca9\", \"\\uac00\\uaca9\", \"\\uac00\\uaca9\", \"\\uac00\\uba74\", \"\\uac00\\uba74\", \"\\uac00\\uba74\", \"\\uac00\\uc131\", \"\\uac00\\uc131\", \"\\uac00\\uc131\", \"\\uac00\\uc2b4\", \"\\uac00\\uc2b4\", \"\\uac00\\uc2b4\", \"\\uacc4\\uc0b0\", \"\\uacc4\\uc0b0\", \"\\uacc4\\uc0b0\", \"\\uace0\\uac1d\", \"\\uace0\\uac1d\", \"\\uace0\\uac1d\", \"\\uace0\\uae30\", \"\\uace0\\uae30\", \"\\uace0\\uae30\", \"\\uacf0\\ud0d5\", \"\\uacf0\\ud0d5\", \"\\uacf0\\ud0d5\", \"\\uacf1\\ucc3d\", \"\\uacf1\\ucc3d\", \"\\uacf1\\ucc3d\", \"\\uacf5\\uac04\", \"\\uacf5\\uac04\", \"\\uacf5\\uac04\", \"\\uad00\\ub9ac\", \"\\uad00\\ub9ac\", \"\\uad00\\ub9ac\", \"\\uad50\\uc721\", \"\\uad50\\uc721\", \"\\uad50\\uc721\", \"\\uad50\\uc790\", \"\\uad50\\uc790\", \"\\uad50\\uc790\", \"\\uad6d\\ubb3c\", \"\\uad6d\\ubb3c\", \"\\uad6d\\ubb3c\", \"\\uad6d\\ubc25\", \"\\uad6d\\ubc25\", \"\\uad6d\\ubc25\", \"\\uad6d\\uc218\", \"\\uad6d\\uc218\", \"\\uad6d\\uc218\", \"\\uadf8\\ub0e5\", \"\\uadf8\\ub0e5\", \"\\uadf8\\ub0e5\", \"\\uadfc\\ucc98\", \"\\uadfc\\ucc98\", \"\\uadfc\\ucc98\", \"\\uae30\\ub300\", \"\\uae30\\ub300\", \"\\uae30\\ub300\", \"\\uae30\\ubd84\", \"\\uae30\\ubd84\", \"\\uae30\\ubd84\", \"\\uae40\\ubc25\", \"\\uae40\\ubc25\", \"\\uae40\\ubc25\", \"\\uae40\\uce58\", \"\\uae40\\uce58\", \"\\uae40\\uce58\", \"\\uae4d\\ub450\\uae30\", \"\\uae4d\\ub450\\uae30\", \"\\uae4d\\ub450\\uae30\", \"\\uaf2c\\ub9ac\", \"\\uaf2c\\ub9ac\", \"\\uaf2c\\ub9ac\", \"\\ub0a8\\uc790\", \"\\ub0a8\\uc790\", \"\\ub0a8\\uc790\", \"\\ub0b4\\uc7a5\", \"\\ub0b4\\uc7a5\", \"\\ub0b4\\uc7a5\", \"\\ub0c4\\uc0c8\", \"\\ub0c4\\uc0c8\", \"\\ub0c4\\uc0c8\", \"\\ub0c9\\uba74\", \"\\ub0c9\\uba74\", \"\\ub0c9\\uba74\", \"\\ub290\\ub08c\", \"\\ub290\\ub08c\", \"\\ub290\\ub08c\", \"\\ub2e4\\ub978\", \"\\ub2e4\\ub978\", \"\\ub2e4\\ub978\", \"\\ub2e4\\uc74c\", \"\\ub2e4\\uc74c\", \"\\ub2e4\\uc74c\", \"\\ub2ed\\uac08\\ube44\", \"\\ub2ed\\uac08\\ube44\", \"\\ub2ed\\uac08\\ube44\", \"\\ub300\\uad6d\", \"\\ub300\\uad6d\", \"\\ub300\\uad6d\", \"\\ub300\\ube44\", \"\\ub300\\ube44\", \"\\ub300\\ube44\", \"\\ub300\\ucc3d\", \"\\ub300\\ucc3d\", \"\\ub300\\ucc3d\", \"\\ub3c4\\uc0ad\", \"\\ub3c4\\uc0ad\", \"\\ub3c4\\uc0ad\", \"\\ub3c8\\uac00\\uc2a4\", \"\\ub3c8\\uac00\\uc2a4\", \"\\ub3c8\\uac00\\uc2a4\", \"\\ub3c8\\uae4c\\uc2a4\", \"\\ub3c8\\uae4c\\uc2a4\", \"\\ub3c8\\uae4c\\uc2a4\", \"\\ub3fc\\uc9c0\", \"\\ub3fc\\uc9c0\", \"\\ub3fc\\uc9c0\", \"\\ub41c\\uc7a5\\ucc0c\\uac1c\", \"\\ub41c\\uc7a5\\ucc0c\\uac1c\", \"\\ub41c\\uc7a5\\ucc0c\\uac1c\", \"\\ub514\\uc800\\ud2b8\", \"\\ub514\\uc800\\ud2b8\", \"\\ub514\\uc800\\ud2b8\", \"\\ub538\\uae30\", \"\\ub538\\uae30\", \"\\ub538\\uae30\", \"\\ub77c\\ub5bc\", \"\\ub77c\\ub5bc\", \"\\ub77c\\ub5bc\", \"\\ub77c\\uba58\", \"\\ub77c\\uba58\", \"\\ub77c\\uba58\", \"\\ub85c\\uc6b0\", \"\\ub85c\\uc6b0\", \"\\ub85c\\uc6b0\", \"\\ub9c8\\ub298\", \"\\ub9c8\\ub298\", \"\\ub9c8\\ub298\", \"\\ub9c9\\uad6d\\uc218\", \"\\ub9c9\\uad6d\\uc218\", \"\\ub9c9\\uad6d\\uc218\", \"\\ub9cc\\ub450\", \"\\ub9cc\\ub450\", \"\\ub9cc\\ub450\", \"\\ub9cc\\uc6d0\", \"\\ub9cc\\uc6d0\", \"\\ub9cc\\uc6d0\", \"\\ub9db\\ub0a8\", \"\\ub9db\\ub0a8\", \"\\ub9db\\ub0a8\", \"\\ub9db\\uc9d1\", \"\\ub9db\\uc9d1\", \"\\ub9db\\uc9d1\", \"\\ub9e4\\uc7a5\", \"\\ub9e4\\uc7a5\", \"\\ub9e4\\uc7a5\", \"\\ub9e4\\ucf64\", \"\\ub9e4\\ucf64\", \"\\ub9e4\\ucf64\", \"\\ub9e5\\uc8fc\", \"\\ub9e5\\uc8fc\", \"\\ub9e5\\uc8fc\", \"\\uba54\\ub274\", \"\\uba54\\ub274\", \"\\uba54\\ub274\", \"\\ubc18\\ucc2c\", \"\\ubc18\\ucc2c\", \"\\ubc18\\ucc2c\", \"\\ubc29\\ubb38\", \"\\ubc29\\ubb38\", \"\\ubc29\\ubb38\", \"\\ubc29\\uc5b4\", \"\\ubc29\\uc5b4\", \"\\ubc29\\uc5b4\", \"\\ubc84\\uac70\", \"\\ubc84\\uac70\", \"\\ubc84\\uac70\", \"\\ubc84\\uc12f\", \"\\ubc84\\uc12f\", \"\\ubc84\\uc12f\", \"\\ubca0\\uc774\\uae00\", \"\\ubca0\\uc774\\uae00\", \"\\ubca0\\uc774\\uae00\", \"\\ubcc4\\ub85c\", \"\\ubcc4\\ub85c\", \"\\ubcc4\\ub85c\", \"\\ubcf4\\uc308\", \"\\ubcf4\\uc308\", \"\\ubcf4\\uc308\", \"\\ubcf4\\ud1b5\", \"\\ubcf4\\ud1b5\", \"\\ubcf4\\ud1b5\", \"\\ubcf6\\uc74c\\ubc25\", \"\\ubcf6\\uc74c\\ubc25\", \"\\ubcf6\\uc74c\\ubc25\", \"\\ubd84\\uc704\\uae30\", \"\\ubd84\\uc704\\uae30\", \"\\ubd84\\uc704\\uae30\", \"\\ubd88\\uce5c\\uc808\", \"\\ubd88\\uce5c\\uc808\", \"\\ubd88\\uce5c\\uc808\", \"\\ube44\\uacc4\", \"\\ube44\\uacc4\", \"\\ube44\\uacc4\", \"\\ube44\\ub3c4\", \"\\ube44\\ub3c4\", \"\\ube44\\ub3c4\", \"\\ube44\\ube54\", \"\\ube44\\ube54\", \"\\ube44\\ube54\", \"\\ube44\\ube54\\uad6d\\uc218\", \"\\ube44\\ube54\\uad6d\\uc218\", \"\\ube44\\ube54\\uad6d\\uc218\", \"\\ube44\\ube54\\ubc25\", \"\\ube44\\ube54\\ubc25\", \"\\ube44\\ube54\\ubc25\", \"\\ube59\\uc218\", \"\\ube59\\uc218\", \"\\ube59\\uc218\", \"\\uc0ac\\ub78c\", \"\\uc0ac\\ub78c\", \"\\uc0ac\\ub78c\", \"\\uc0ac\\ub9ac\", \"\\uc0ac\\ub9ac\", \"\\uc0ac\\ub9ac\", \"\\uc0ac\\uc7a5\", \"\\uc0ac\\uc7a5\", \"\\uc0ac\\uc7a5\", \"\\uc0ac\\uc8fc\", \"\\uc0ac\\uc8fc\", \"\\uc0ac\\uc8fc\", \"\\uc0c8\\uc6b0\", \"\\uc0c8\\uc6b0\", \"\\uc0c8\\uc6b0\", \"\\uc0dd\\uac01\", \"\\uc0dd\\uac01\", \"\\uc0dd\\uac01\", \"\\uc11c\\ube44\\uc2a4\", \"\\uc11c\\ube44\\uc2a4\", \"\\uc11c\\ube44\\uc2a4\", \"\\uc11c\\ube59\", \"\\uc11c\\ube59\", \"\\uc11c\\ube59\", \"\\uc124\\ub801\\ud0d5\", \"\\uc124\\ub801\\ud0d5\", \"\\uc124\\ub801\\ud0d5\", \"\\uc131\\ube44\", \"\\uc131\\ube44\", \"\\uc131\\ube44\", \"\\uc18c\\ub9ac\", \"\\uc18c\\ub9ac\", \"\\uc18c\\ub9ac\", \"\\uc18c\\uc2a4\", \"\\uc18c\\uc2a4\", \"\\uc18c\\uc2a4\", \"\\uc190\\ub2d8\", \"\\uc190\\ub2d8\", \"\\uc190\\ub2d8\", \"\\uc218\\uc721\", \"\\uc218\\uc721\", \"\\uc218\\uc721\", \"\\uc21c\\ub300\", \"\\uc21c\\ub300\", \"\\uc21c\\ub300\", \"\\uc2a4\\ucf58\", \"\\uc2a4\\ucf58\", \"\\uc2a4\\ucf58\", \"\\uc2a4\\ud14c\\uc774\\ud06c\", \"\\uc2a4\\ud14c\\uc774\\ud06c\", \"\\uc2a4\\ud14c\\uc774\\ud06c\", \"\\uc2dc\\uac04\", \"\\uc2dc\\uac04\", \"\\uc2dc\\uac04\", \"\\uc2dc\\uae08\\uce58\", \"\\uc2dc\\uae08\\uce58\", \"\\uc2dc\\uae08\\uce58\", \"\\uc2e0\\ub9bc\", \"\\uc2e0\\ub9bc\", \"\\uc2e0\\ub9bc\", \"\\uc544\\uba54\\ub9ac\\uce74\\ub178\", \"\\uc544\\uba54\\ub9ac\\uce74\\ub178\", \"\\uc544\\uba54\\ub9ac\\uce74\\ub178\", \"\\uc548\\ub0b4\", \"\\uc548\\ub0b4\", \"\\uc548\\ub0b4\", \"\\uc54c\\ubc14\", \"\\uc54c\\ubc14\", \"\\uc54c\\ubc14\", \"\\uc54c\\ubc14\\uc0dd\", \"\\uc54c\\ubc14\\uc0dd\", \"\\uc54c\\ubc14\\uc0dd\", \"\\uc591\\ub3c4\", \"\\uc591\\ub3c4\", \"\\uc591\\ub3c4\", \"\\uc5d0\\uc2a4\\ud504\\ub808\\uc18c\", \"\\uc5d0\\uc2a4\\ud504\\ub808\\uc18c\", \"\\uc5d0\\uc2a4\\ud504\\ub808\\uc18c\", \"\\uc5ec\\uae30\", \"\\uc5ec\\uae30\", \"\\uc5ec\\uae30\", \"\\uc5ec\\uc790\", \"\\uc5ec\\uc790\", \"\\uc5ec\\uc790\", \"\\uc5f0\\uc5b4\", \"\\uc5f0\\uc5b4\", \"\\uc5f0\\uc5b4\", \"\\uc608\\uc804\", \"\\uc608\\uc804\", \"\\uc608\\uc804\", \"\\uc644\\uc804\", \"\\uc644\\uc804\", \"\\uc644\\uc804\", \"\\uc6b0\\ub3d9\", \"\\uc6b0\\ub3d9\", \"\\uc6b0\\ub3d9\", \"\\uc6d0\\ub450\", \"\\uc6d0\\ub450\", \"\\uc6d0\\ub450\", \"\\uc6d0\\uc870\", \"\\uc6d0\\uc870\", \"\\uc6d0\\uc870\", \"\\uc6e8\\uc774\", \"\\uc6e8\\uc774\", \"\\uc6e8\\uc774\", \"\\uc6e8\\uc774\\ud305\", \"\\uc6e8\\uc774\\ud305\", \"\\uc6e8\\uc774\\ud305\", \"\\uc721\\uc999\", \"\\uc721\\uc999\", \"\\uc721\\uc999\", \"\\uc721\\ud68c\", \"\\uc721\\ud68c\", \"\\uc721\\ud68c\", \"\\uc74c\\ub8cc\", \"\\uc74c\\ub8cc\", \"\\uc74c\\ub8cc\", \"\\uc74c\\uc2dd\", \"\\uc74c\\uc2dd\", \"\\uc74c\\uc2dd\", \"\\uc74c\\uc545\", \"\\uc74c\\uc545\", \"\\uc74c\\uc545\", \"\\uc751\\ub300\", \"\\uc751\\ub300\", \"\\uc751\\ub300\", \"\\uc758\\uc0ac\", \"\\uc758\\uc0ac\", \"\\uc758\\uc0ac\", \"\\uc758\\uc790\", \"\\uc758\\uc790\", \"\\uc758\\uc790\", \"\\uc774\\uc6a9\", \"\\uc774\\uc6a9\", \"\\uc774\\uc6a9\", \"\\uc778\\ubd84\", \"\\uc778\\ubd84\", \"\\uc778\\ubd84\", \"\\uc778\\ud14c\\ub9ac\\uc5b4\", \"\\uc778\\ud14c\\ub9ac\\uc5b4\", \"\\uc778\\ud14c\\ub9ac\\uc5b4\", \"\\uc790\\uadf9\", \"\\uc790\\uadf9\", \"\\uc790\\uadf9\", \"\\uc790\\ub9ac\", \"\\uc790\\ub9ac\", \"\\uc790\\ub9ac\", \"\\uc7a5\\uc0ac\", \"\\uc7a5\\uc0ac\", \"\\uc7a5\\uc0ac\", \"\\uc815\\ub3c4\", \"\\uc815\\ub3c4\", \"\\uc815\\ub3c4\", \"\\uc815\\ub9d0\", \"\\uc815\\ub9d0\", \"\\uc815\\ub9d0\", \"\\uc870\\uae08\", \"\\uc870\\uae08\", \"\\uc870\\uae08\", \"\\uc874\\ub9db\", \"\\uc874\\ub9db\", \"\\uc874\\ub9db\", \"\\uc88c\\uc11d\", \"\\uc88c\\uc11d\", \"\\uc88c\\uc11d\", \"\\uc8fc\\ubb38\", \"\\uc8fc\\ubb38\", \"\\uc8fc\\ubb38\", \"\\uc8fc\\ucc28\", \"\\uc8fc\\ucc28\", \"\\uc8fc\\ucc28\", \"\\uc9c1\\uc6d0\", \"\\uc9c1\\uc6d0\", \"\\uc9c1\\uc6d0\", \"\\uc9c4\\uc9dc\", \"\\uc9c4\\uc9dc\", \"\\uc9c4\\uc9dc\", \"\\uc9ec\\ubf55\", \"\\uc9ec\\ubf55\", \"\\uc9ec\\ubf55\", \"\\ucb48\\uafb8\\ubbf8\", \"\\ucb48\\uafb8\\ubbf8\", \"\\ucb48\\uafb8\\ubbf8\", \"\\ucc28\\uc288\", \"\\ucc28\\uc288\", \"\\ucc28\\uc288\", \"\\ucc98\\uc74c\", \"\\ucc98\\uc74c\", \"\\ucc98\\uc74c\", \"\\ucd08\\ubc25\", \"\\ucd08\\ubc25\", \"\\ucd08\\ubc25\", \"\\ucd08\\ucf54\", \"\\ucd08\\ucf54\", \"\\ucd08\\ucf54\", \"\\ucd5c\\uace0\", \"\\ucd5c\\uace0\", \"\\ucd5c\\uace0\", \"\\ucd5c\\uc545\", \"\\ucd5c\\uc545\", \"\\ucd5c\\uc545\", \"\\ucd94\\uac00\", \"\\ucd94\\uac00\", \"\\ucd94\\uac00\", \"\\ucd94\\uc5b5\", \"\\ucd94\\uc5b5\", \"\\ucd94\\uc5b5\", \"\\ucd94\\ucc9c\", \"\\ucd94\\ucc9c\", \"\\ucd94\\ucc9c\", \"\\uce58\\ud0a8\", \"\\uce58\\ud0a8\", \"\\uce58\\ud0a8\", \"\\uce5c\\uc808\", \"\\uce5c\\uc808\", \"\\uce5c\\uc808\", \"\\uce74\\uce20\", \"\\uce74\\uce20\", \"\\uce74\\uce20\", \"\\uce74\\ud398\", \"\\uce74\\ud398\", \"\\uce74\\ud398\", \"\\uce7c\\uad6d\\uc218\", \"\\uce7c\\uad6d\\uc218\", \"\\uce7c\\uad6d\\uc218\", \"\\ucee4\\ud53c\", \"\\ucee4\\ud53c\", \"\\ucee4\\ud53c\", \"\\ucf00\\uc774\\ud06c\", \"\\ucf00\\uc774\\ud06c\", \"\\ucf00\\uc774\\ud06c\", \"\\ucf69\\uad6d\\uc218\", \"\\ucf69\\uad6d\\uc218\", \"\\ucf69\\uad6d\\uc218\", \"\\ud06c\\ub9bc\", \"\\ud06c\\ub9bc\", \"\\ud06c\\ub9bc\", \"\\ud0c0\\ucf54\", \"\\ud0c0\\ucf54\", \"\\ud0c0\\ucf54\", \"\\ud0dc\\ub3c4\", \"\\ud0dc\\ub3c4\", \"\\ud0dc\\ub3c4\", \"\\ud14c\\uc774\\ube14\", \"\\ud14c\\uc774\\ube14\", \"\\ud14c\\uc774\\ube14\", \"\\ud1a0\\ub9ac\", \"\\ud1a0\\ub9ac\", \"\\ud1a0\\ub9ac\", \"\\ud1b5\\ub2ed\", \"\\ud1b5\\ub2ed\", \"\\ud1b5\\ub2ed\", \"\\ud30c\\uc2a4\\ud0c0\", \"\\ud30c\\uc2a4\\ud0c0\", \"\\ud30c\\uc2a4\\ud0c0\", \"\\ud3c9\\uc591\", \"\\ud3c9\\uc591\", \"\\ud3c9\\uc591\", \"\\ud3ec\\uc7a5\", \"\\ud3ec\\uc7a5\", \"\\ud3ec\\uc7a5\", \"\\ud53c\\uc790\", \"\\ud53c\\uc790\", \"\\ud53c\\uc790\", \"\\ud558\\ub098\", \"\\ud558\\ub098\", \"\\ud558\\ub098\", \"\\ud569\\ub9ac\", \"\\ud569\\ub9ac\", \"\\ud569\\ub9ac\", \"\\ud654\\uc7a5\\uc2e4\", \"\\ud654\\uc7a5\\uc2e4\", \"\\ud654\\uc7a5\\uc2e4\", \"\\ud655\\uc778\", \"\\ud655\\uc778\", \"\\ud655\\uc778\"]}, \"R\": 30, \"lambda.step\": 0.01, \"plot.opts\": {\"xlab\": \"PC1\", \"ylab\": \"PC2\"}, \"topic.order\": [3, 2, 1]};\n",
              "\n",
              "function LDAvis_load_lib(url, callback){\n",
              "  var s = document.createElement('script');\n",
              "  s.src = url;\n",
              "  s.async = true;\n",
              "  s.onreadystatechange = s.onload = callback;\n",
              "  s.onerror = function(){console.warn(\"failed to load library \" + url);};\n",
              "  document.getElementsByTagName(\"head\")[0].appendChild(s);\n",
              "}\n",
              "\n",
              "if(typeof(LDAvis) !== \"undefined\"){\n",
              "   // already loaded: just create the visualization\n",
              "   !function(LDAvis){\n",
              "       new LDAvis(\"#\" + \"ldavis_el58281370108682742245982842105\", ldavis_el58281370108682742245982842105_data);\n",
              "   }(LDAvis);\n",
              "}else if(typeof define === \"function\" && define.amd){\n",
              "   // require.js is available: use it to load d3/LDAvis\n",
              "   require.config({paths: {d3: \"https://d3js.org/d3.v5\"}});\n",
              "   require([\"d3\"], function(d3){\n",
              "      window.d3 = d3;\n",
              "      LDAvis_load_lib(\"https://cdn.jsdelivr.net/gh/bmabey/pyLDAvis@3.4.0/pyLDAvis/js/ldavis.v3.0.0.js\", function(){\n",
              "        new LDAvis(\"#\" + \"ldavis_el58281370108682742245982842105\", ldavis_el58281370108682742245982842105_data);\n",
              "      });\n",
              "    });\n",
              "}else{\n",
              "    // require.js not available: dynamically load d3 & LDAvis\n",
              "    LDAvis_load_lib(\"https://d3js.org/d3.v5.js\", function(){\n",
              "         LDAvis_load_lib(\"https://cdn.jsdelivr.net/gh/bmabey/pyLDAvis@3.4.0/pyLDAvis/js/ldavis.v3.0.0.js\", function(){\n",
              "                 new LDAvis(\"#\" + \"ldavis_el58281370108682742245982842105\", ldavis_el58281370108682742245982842105_data);\n",
              "            })\n",
              "         });\n",
              "}\n",
              "</script>"
            ]
          },
          "metadata": {},
          "execution_count": 43
        }
      ]
    },
    {
      "cell_type": "markdown",
      "source": [
        "Topic 1 카페 및 분위기\n",
        "Topic 2 서비스 및 방문 경험\n",
        "Topic 3 음식 및 맛집\n",
        " 로 추정..?"
      ],
      "metadata": {
        "id": "R5uF7_YtIsV-"
      }
    },
    {
      "cell_type": "code",
      "source": [
        "print(df['category'].value_counts())"
      ],
      "metadata": {
        "id": "Y7hwNa3tH3lL",
        "colab": {
          "base_uri": "https://localhost:8080/"
        },
        "outputId": "de9dec73-5986-4f75-9e14-79ba219261f5"
      },
      "execution_count": null,
      "outputs": [
        {
          "output_type": "stream",
          "name": "stdout",
          "text": [
            "category\n",
            "젠트리피케이션     34269\n",
            "비젠트리피케이션    17229\n",
            "기본상권지       10040\n",
            "Name: count, dtype: int64\n"
          ]
        }
      ]
    },
    {
      "cell_type": "code",
      "source": [
        "df['category'] = df['category'].str.strip()"
      ],
      "metadata": {
        "id": "Nul52KMPH8TQ"
      },
      "execution_count": null,
      "outputs": []
    },
    {
      "cell_type": "code",
      "source": [
        "print(df['region'].unique())"
      ],
      "metadata": {
        "id": "2mH9839rIELv",
        "colab": {
          "base_uri": "https://localhost:8080/"
        },
        "outputId": "a017e72c-81fd-4439-bff7-f7ccdaba115f"
      },
      "execution_count": null,
      "outputs": [
        {
          "output_type": "stream",
          "name": "stdout",
          "text": [
            "['대학로' '북촌' '서촌' '홍대입구역' '합정' '연남' '해방촌' '경리단길' '종로3가' '성수동' '송리단길' '명동'\n",
            " '신림' '문래' '이수역' '용리단길' '강남역' '압구정로데오' '건대입구역' '여의도역' '동대문' '잠실역' '회기역'\n",
            " '영등포' '청담' '사당' '성내동' '시흥동' '삼양동' '중화동' '월계동' '응암동' '신도림동' '신정동' '도봉동'\n",
            " '방화동']\n"
          ]
        }
      ]
    },
    {
      "cell_type": "markdown",
      "source": [
        "# 지역별 토픽 비율\n",
        "- Topic 1 (가장 큰 비중)\n",
        "모든 지역에서 40~50%로 가장 높은 비중을 차지\n",
        "비젠트리피케이션 지역(49.3%)이 가장 높고, 일반상권지(46.3%)가 가장 낮음\n",
        "비젠트리피케이션 지역에서 특정 주제가 더 강하게 나타날 가능성 있음\n",
        "\n",
        "- Topic 2 (가장 낮은 비중)\n",
        "젠트리피케이션(20.9%)에서 가장 낮고, 일반상권지(23.5%)에서 가장 높음\n",
        "일반상권지가 상대적으로 더 다양한 토픽을 포함하고 있을 가능성 있음\n",
        "\n",
        "- Topic 3 (거의 비슷함)\n",
        "젠트리피케이션(30.5%)과 일반상권지(30.2%)가 거의 비슷하고, 비젠트리피케이션(29.3%)이 가장 낮음\n",
        "\n",
        "세 지역 모두 큰 차이는 없음"
      ],
      "metadata": {
        "id": "vusHpHHACSgz"
      }
    },
    {
      "cell_type": "code",
      "source": [
        "import pandas as pd\n",
        "import numpy as np\n",
        "import matplotlib.pyplot as plt\n",
        "import seaborn as sns\n",
        "\n",
        "# LDA 모델로 각 리뷰가 어느 토픽에 속하는지 확률 계산\n",
        "doc_topic_dist = lda.transform(dtm)\n",
        "\n",
        "# 각 리뷰에 가장 높은 확률을 가진 토픽 할당\n",
        "df['topic'] = doc_topic_dist.argmax(axis=1)\n",
        "\n",
        "df['topic'] = df['topic'] + 1\n",
        "\n",
        "# 지역별 토픽 분포 분석\n",
        "topic_distribution = df.groupby('category')['topic'].value_counts(normalize=True).unstack()\n",
        "\n",
        "plt.figure(figsize=(10, 6))\n",
        "topic_distribution.plot(kind='bar', stacked=True, colormap='coolwarm', figsize=(10, 6))\n",
        "plt.title(\"지역별 주요 토픽 비율\")\n",
        "plt.xlabel(\"지역 유형\")\n",
        "plt.ylabel(\"비율\")\n",
        "plt.legend(title=\"토픽\")\n",
        "plt.xticks(rotation=30)\n",
        "plt.show()"
      ],
      "metadata": {
        "colab": {
          "base_uri": "https://localhost:8080/",
          "height": 629
        },
        "id": "AakuKh4L8I8E",
        "outputId": "16463a6c-2b63-49ea-f14b-58fa4de7fdb1"
      },
      "execution_count": null,
      "outputs": [
        {
          "output_type": "display_data",
          "data": {
            "text/plain": [
              "<Figure size 1000x600 with 0 Axes>"
            ]
          },
          "metadata": {}
        },
        {
          "output_type": "display_data",
          "data": {
            "text/plain": [
              "<Figure size 1000x600 with 1 Axes>"
            ],
            "image/png": "[encoded data removed]"
          },
          "metadata": {}
        }
      ]
    },
    {
      "cell_type": "code",
      "source": [
        "topic_distribution"
      ],
      "metadata": {
        "id": "ghfjrHsuHPCM",
        "colab": {
          "base_uri": "https://localhost:8080/",
          "height": 175
        },
        "outputId": "6b471f0e-c300-4934-a1ba-a264fc97fed4"
      },
      "execution_count": null,
      "outputs": [
        {
          "output_type": "execute_result",
          "data": {
            "text/plain": [
              "topic            1         2         3\n",
              "category                              \n",
              "기본상권지     0.476295  0.223008  0.300697\n",
              "비젠트리피케이션  0.496663  0.203204  0.300133\n",
              "젠트리피케이션   0.470921  0.217456  0.311623"
            ],
            "text/html": [
              "\n",
              "  <div id=\"df-8621aca7-3b46-46e8-9f19-51655d4dd181\" class=\"colab-df-container\">\n",
              "    <div>\n",
              "<style scoped>\n",
              "    .dataframe tbody tr th:only-of-type {\n",
              "        vertical-align: middle;\n",
              "    }\n",
              "\n",
              "    .dataframe tbody tr th {\n",
              "        vertical-align: top;\n",
              "    }\n",
              "\n",
              "    .dataframe thead th {\n",
              "        text-align: right;\n",
              "    }\n",
              "</style>\n",
              "<table border=\"1\" class=\"dataframe\">\n",
              "  <thead>\n",
              "    <tr style=\"text-align: right;\">\n",
              "      <th>topic</th>\n",
              "      <th>1</th>\n",
              "      <th>2</th>\n",
              "      <th>3</th>\n",
              "    </tr>\n",
              "    <tr>\n",
              "      <th>category</th>\n",
              "      <th></th>\n",
              "      <th></th>\n",
              "      <th></th>\n",
              "    </tr>\n",
              "  </thead>\n",
              "  <tbody>\n",
              "    <tr>\n",
              "      <th>기본상권지</th>\n",
              "      <td>0.476295</td>\n",
              "      <td>0.223008</td>\n",
              "      <td>0.300697</td>\n",
              "    </tr>\n",
              "    <tr>\n",
              "      <th>비젠트리피케이션</th>\n",
              "      <td>0.496663</td>\n",
              "      <td>0.203204</td>\n",
              "      <td>0.300133</td>\n",
              "    </tr>\n",
              "    <tr>\n",
              "      <th>젠트리피케이션</th>\n",
              "      <td>0.470921</td>\n",
              "      <td>0.217456</td>\n",
              "      <td>0.311623</td>\n",
              "    </tr>\n",
              "  </tbody>\n",
              "</table>\n",
              "</div>\n",
              "    <div class=\"colab-df-buttons\">\n",
              "\n",
              "  <div class=\"colab-df-container\">\n",
              "    <button class=\"colab-df-convert\" onclick=\"convertToInteractive('df-8621aca7-3b46-46e8-9f19-51655d4dd181')\"\n",
              "            title=\"Convert this dataframe to an interactive table.\"\n",
              "            style=\"display:none;\">\n",
              "\n",
              "  <svg xmlns=\"http://www.w3.org/2000/svg\" height=\"24px\" viewBox=\"0 -960 960 960\">\n",
              "    <path d=\"M120-120v-720h720v720H120Zm60-500h600v-160H180v160Zm220 220h160v-160H400v160Zm0 220h160v-160H400v160ZM180-400h160v-160H180v160Zm440 0h160v-160H620v160ZM180-180h160v-160H180v160Zm440 0h160v-160H620v160Z\"/>\n",
              "  </svg>\n",
              "    </button>\n",
              "\n",
              "  <style>\n",
              "    .colab-df-container {\n",
              "      display:flex;\n",
              "      gap: 12px;\n",
              "    }\n",
              "\n",
              "    .colab-df-convert {\n",
              "      background-color: #E8F0FE;\n",
              "      border: none;\n",
              "      border-radius: 50%;\n",
              "      cursor: pointer;\n",
              "      display: none;\n",
              "      fill: #1967D2;\n",
              "      height: 32px;\n",
              "      padding: 0 0 0 0;\n",
              "      width: 32px;\n",
              "    }\n",
              "\n",
              "    .colab-df-convert:hover {\n",
              "      background-color: #E2EBFA;\n",
              "      box-shadow: 0px 1px 2px rgba(60, 64, 67, 0.3), 0px 1px 3px 1px rgba(60, 64, 67, 0.15);\n",
              "      fill: #174EA6;\n",
              "    }\n",
              "\n",
              "    .colab-df-buttons div {\n",
              "      margin-bottom: 4px;\n",
              "    }\n",
              "\n",
              "    [theme=dark] .colab-df-convert {\n",
              "      background-color: #3B4455;\n",
              "      fill: #D2E3FC;\n",
              "    }\n",
              "\n",
              "    [theme=dark] .colab-df-convert:hover {\n",
              "      background-color: #434B5C;\n",
              "      box-shadow: 0px 1px 3px 1px rgba(0, 0, 0, 0.15);\n",
              "      filter: drop-shadow(0px 1px 2px rgba(0, 0, 0, 0.3));\n",
              "      fill: #FFFFFF;\n",
              "    }\n",
              "  </style>\n",
              "\n",
              "    <script>\n",
              "      const buttonEl =\n",
              "        document.querySelector('#df-8621aca7-3b46-46e8-9f19-51655d4dd181 button.colab-df-convert');\n",
              "      buttonEl.style.display =\n",
              "        google.colab.kernel.accessAllowed ? 'block' : 'none';\n",
              "\n",
              "      async function convertToInteractive(key) {\n",
              "        const element = document.querySelector('#df-8621aca7-3b46-46e8-9f19-51655d4dd181');\n",
              "        const dataTable =\n",
              "          await google.colab.kernel.invokeFunction('convertToInteractive',\n",
              "                                                    [key], {});\n",
              "        if (!dataTable) return;\n",
              "\n",
              "        const docLinkHtml = 'Like what you see? Visit the ' +\n",
              "          '<a target=\"_blank\" href=https://colab.research.google.com/notebooks/data_table.ipynb>data table notebook</a>'\n",
              "          + ' to learn more about interactive tables.';\n",
              "        element.innerHTML = '';\n",
              "        dataTable['output_type'] = 'display_data';\n",
              "        await google.colab.output.renderOutput(dataTable, element);\n",
              "        const docLink = document.createElement('div');\n",
              "        docLink.innerHTML = docLinkHtml;\n",
              "        element.appendChild(docLink);\n",
              "      }\n",
              "    </script>\n",
              "  </div>\n",
              "\n",
              "\n",
              "<div id=\"df-a3efde1c-90a0-430b-9eec-640c6645c27e\">\n",
              "  <button class=\"colab-df-quickchart\" onclick=\"quickchart('df-a3efde1c-90a0-430b-9eec-640c6645c27e')\"\n",
              "            title=\"Suggest charts\"\n",
              "            style=\"display:none;\">\n",
              "\n",
              "<svg xmlns=\"http://www.w3.org/2000/svg\" height=\"24px\"viewBox=\"0 0 24 24\"\n",
              "     width=\"24px\">\n",
              "    <g>\n",
              "        <path d=\"M19 3H5c-1.1 0-2 .9-2 2v14c0 1.1.9 2 2 2h14c1.1 0 2-.9 2-2V5c0-1.1-.9-2-2-2zM9 17H7v-7h2v7zm4 0h-2V7h2v10zm4 0h-2v-4h2v4z\"/>\n",
              "    </g>\n",
              "</svg>\n",
              "  </button>\n",
              "\n",
              "<style>\n",
              "  .colab-df-quickchart {\n",
              "      --bg-color: #E8F0FE;\n",
              "      --fill-color: #1967D2;\n",
              "      --hover-bg-color: #E2EBFA;\n",
              "      --hover-fill-color: #174EA6;\n",
              "      --disabled-fill-color: #AAA;\n",
              "      --disabled-bg-color: #DDD;\n",
              "  }\n",
              "\n",
              "  [theme=dark] .colab-df-quickchart {\n",
              "      --bg-color: #3B4455;\n",
              "      --fill-color: #D2E3FC;\n",
              "      --hover-bg-color: #434B5C;\n",
              "      --hover-fill-color: #FFFFFF;\n",
              "      --disabled-bg-color: #3B4455;\n",
              "      --disabled-fill-color: #666;\n",
              "  }\n",
              "\n",
              "  .colab-df-quickchart {\n",
              "    background-color: var(--bg-color);\n",
              "    border: none;\n",
              "    border-radius: 50%;\n",
              "    cursor: pointer;\n",
              "    display: none;\n",
              "    fill: var(--fill-color);\n",
              "    height: 32px;\n",
              "    padding: 0;\n",
              "    width: 32px;\n",
              "  }\n",
              "\n",
              "  .colab-df-quickchart:hover {\n",
              "    background-color: var(--hover-bg-color);\n",
              "    box-shadow: 0 1px 2px rgba(60, 64, 67, 0.3), 0 1px 3px 1px rgba(60, 64, 67, 0.15);\n",
              "    fill: var(--button-hover-fill-color);\n",
              "  }\n",
              "\n",
              "  .colab-df-quickchart-complete:disabled,\n",
              "  .colab-df-quickchart-complete:disabled:hover {\n",
              "    background-color: var(--disabled-bg-color);\n",
              "    fill: var(--disabled-fill-color);\n",
              "    box-shadow: none;\n",
              "  }\n",
              "\n",
              "  .colab-df-spinner {\n",
              "    border: 2px solid var(--fill-color);\n",
              "    border-color: transparent;\n",
              "    border-bottom-color: var(--fill-color);\n",
              "    animation:\n",
              "      spin 1s steps(1) infinite;\n",
              "  }\n",
              "\n",
              "  @keyframes spin {\n",
              "    0% {\n",
              "      border-color: transparent;\n",
              "      border-bottom-color: var(--fill-color);\n",
              "      border-left-color: var(--fill-color);\n",
              "    }\n",
              "    20% {\n",
              "      border-color: transparent;\n",
              "      border-left-color: var(--fill-color);\n",
              "      border-top-color: var(--fill-color);\n",
              "    }\n",
              "    30% {\n",
              "      border-color: transparent;\n",
              "      border-left-color: var(--fill-color);\n",
              "      border-top-color: var(--fill-color);\n",
              "      border-right-color: var(--fill-color);\n",
              "    }\n",
              "    40% {\n",
              "      border-color: transparent;\n",
              "      border-right-color: var(--fill-color);\n",
              "      border-top-color: var(--fill-color);\n",
              "    }\n",
              "    60% {\n",
              "      border-color: transparent;\n",
              "      border-right-color: var(--fill-color);\n",
              "    }\n",
              "    80% {\n",
              "      border-color: transparent;\n",
              "      border-right-color: var(--fill-color);\n",
              "      border-bottom-color: var(--fill-color);\n",
              "    }\n",
              "    90% {\n",
              "      border-color: transparent;\n",
              "      border-bottom-color: var(--fill-color);\n",
              "    }\n",
              "  }\n",
              "</style>\n",
              "\n",
              "  <script>\n",
              "    async function quickchart(key) {\n",
              "      const quickchartButtonEl =\n",
              "        document.querySelector('#' + key + ' button');\n",
              "      quickchartButtonEl.disabled = true;  // To prevent multiple clicks.\n",
              "      quickchartButtonEl.classList.add('colab-df-spinner');\n",
              "      try {\n",
              "        const charts = await google.colab.kernel.invokeFunction(\n",
              "            'suggestCharts', [key], {});\n",
              "      } catch (error) {\n",
              "        console.error('Error during call to suggestCharts:', error);\n",
              "      }\n",
              "      quickchartButtonEl.classList.remove('colab-df-spinner');\n",
              "      quickchartButtonEl.classList.add('colab-df-quickchart-complete');\n",
              "    }\n",
              "    (() => {\n",
              "      let quickchartButtonEl =\n",
              "        document.querySelector('#df-a3efde1c-90a0-430b-9eec-640c6645c27e button');\n",
              "      quickchartButtonEl.style.display =\n",
              "        google.colab.kernel.accessAllowed ? 'block' : 'none';\n",
              "    })();\n",
              "  </script>\n",
              "</div>\n",
              "\n",
              "  <div id=\"id_11db62dd-e7f7-427a-a3dd-9820047ad839\">\n",
              "    <style>\n",
              "      .colab-df-generate {\n",
              "        background-color: #E8F0FE;\n",
              "        border: none;\n",
              "        border-radius: 50%;\n",
              "        cursor: pointer;\n",
              "        display: none;\n",
              "        fill: #1967D2;\n",
              "        height: 32px;\n",
              "        padding: 0 0 0 0;\n",
              "        width: 32px;\n",
              "      }\n",
              "\n",
              "      .colab-df-generate:hover {\n",
              "        background-color: #E2EBFA;\n",
              "        box-shadow: 0px 1px 2px rgba(60, 64, 67, 0.3), 0px 1px 3px 1px rgba(60, 64, 67, 0.15);\n",
              "        fill: #174EA6;\n",
              "      }\n",
              "\n",
              "      [theme=dark] .colab-df-generate {\n",
              "        background-color: #3B4455;\n",
              "        fill: #D2E3FC;\n",
              "      }\n",
              "\n",
              "      [theme=dark] .colab-df-generate:hover {\n",
              "        background-color: #434B5C;\n",
              "        box-shadow: 0px 1px 3px 1px rgba(0, 0, 0, 0.15);\n",
              "        filter: drop-shadow(0px 1px 2px rgba(0, 0, 0, 0.3));\n",
              "        fill: #FFFFFF;\n",
              "      }\n",
              "    </style>\n",
              "    <button class=\"colab-df-generate\" onclick=\"generateWithVariable('topic_distribution')\"\n",
              "            title=\"Generate code using this dataframe.\"\n",
              "            style=\"display:none;\">\n",
              "\n",
              "  <svg xmlns=\"http://www.w3.org/2000/svg\" height=\"24px\"viewBox=\"0 0 24 24\"\n",
              "       width=\"24px\">\n",
              "    <path d=\"M7,19H8.4L18.45,9,17,7.55,7,17.6ZM5,21V16.75L18.45,3.32a2,2,0,0,1,2.83,0l1.4,1.43a1.91,1.91,0,0,1,.58,1.4,1.91,1.91,0,0,1-.58,1.4L9.25,21ZM18.45,9,17,7.55Zm-12,3A5.31,5.31,0,0,0,4.9,8.1,5.31,5.31,0,0,0,1,6.5,5.31,5.31,0,0,0,4.9,4.9,5.31,5.31,0,0,0,6.5,1,5.31,5.31,0,0,0,8.1,4.9,5.31,5.31,0,0,0,12,6.5,5.46,5.46,0,0,0,6.5,12Z\"/>\n",
              "  </svg>\n",
              "    </button>\n",
              "    <script>\n",
              "      (() => {\n",
              "      const buttonEl =\n",
              "        document.querySelector('#id_11db62dd-e7f7-427a-a3dd-9820047ad839 button.colab-df-generate');\n",
              "      buttonEl.style.display =\n",
              "        google.colab.kernel.accessAllowed ? 'block' : 'none';\n",
              "\n",
              "      buttonEl.onclick = () => {\n",
              "        google.colab.notebook.generateWithVariable('topic_distribution');\n",
              "      }\n",
              "      })();\n",
              "    </script>\n",
              "  </div>\n",
              "\n",
              "    </div>\n",
              "  </div>\n"
            ],
            "application/vnd.google.colaboratory.intrinsic+json": {
              "type": "dataframe",
              "variable_name": "topic_distribution",
              "summary": "{\n  \"name\": \"topic_distribution\",\n  \"rows\": 3,\n  \"fields\": [\n    {\n      \"column\": \"category\",\n      \"properties\": {\n        \"dtype\": \"string\",\n        \"num_unique_values\": 3,\n        \"samples\": [\n          \"\\uae30\\ubcf8\\uc0c1\\uad8c\\uc9c0\",\n          \"\\ube44\\uc820\\ud2b8\\ub9ac\\ud53c\\ucf00\\uc774\\uc158\",\n          \"\\uc820\\ud2b8\\ub9ac\\ud53c\\ucf00\\uc774\\uc158\"\n        ],\n        \"semantic_type\": \"\",\n        \"description\": \"\"\n      }\n    },\n    {\n      \"column\": 1,\n      \"properties\": {\n        \"dtype\": \"number\",\n        \"std\": 0.01357902619880804,\n        \"min\": 0.4709212407715428,\n        \"max\": 0.4966626037494921,\n        \"num_unique_values\": 3,\n        \"samples\": [\n          0.4762948207171315,\n          0.4966626037494921,\n          0.4709212407715428\n        ],\n        \"semantic_type\": \"\",\n        \"description\": \"\"\n      }\n    },\n    {\n      \"column\": 2,\n      \"properties\": {\n        \"dtype\": \"number\",\n        \"std\": 0.010215576033886762,\n        \"min\": 0.20320390040048755,\n        \"max\": 0.22300796812749005,\n        \"num_unique_values\": 3,\n        \"samples\": [\n          0.22300796812749005,\n          0.20320390040048755,\n          0.21745600980477983\n        ],\n        \"semantic_type\": \"\",\n        \"description\": \"\"\n      }\n    },\n    {\n      \"column\": 3,\n      \"properties\": {\n        \"dtype\": \"number\",\n        \"std\": 0.006476728972217266,\n        \"min\": 0.3001334958500203,\n        \"max\": 0.3116227494236774,\n        \"num_unique_values\": 3,\n        \"samples\": [\n          0.3006972111553785,\n          0.3001334958500203,\n          0.3116227494236774\n        ],\n        \"semantic_type\": \"\",\n        \"description\": \"\"\n      }\n    }\n  ]\n}"
            }
          },
          "metadata": {},
          "execution_count": 48
        }
      ]
    },
    {
      "cell_type": "code",
      "source": [],
      "metadata": {
        "id": "JZVdyjk1DlMI"
      },
      "execution_count": null,
      "outputs": []
    }
  ]
}